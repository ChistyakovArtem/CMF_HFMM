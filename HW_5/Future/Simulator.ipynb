{
 "cells": [
  {
   "cell_type": "code",
   "execution_count": 25,
   "id": "3a2184ed",
   "metadata": {},
   "outputs": [],
   "source": [
    "import simulator\n",
    "import strategy\n",
    "import get_info\n",
    "import load_data\n",
    "\n",
    "import pandas as pd\n",
    "import numpy as np\n",
    "from matplotlib import pyplot as plt\n",
    "\n",
    "from importlib import reload\n",
    "\n",
    "PATH_TO_FILE = 'C:\\\\Users\\\\artem\\.Computer Science\\CMF\\Projects_HFMM\\data\\md\\\\btcusdt_Binance_LinearPerpetual\\\\'\n",
    "NROWS = 1_000_000"
   ]
  },
  {
   "cell_type": "code",
   "execution_count": 26,
   "outputs": [
    {
     "data": {
      "text/plain": "<module 'load_data' from 'C:\\\\Users\\\\artem\\\\.Computer Science\\\\CMF\\\\Projects_HFMM\\\\HW_5\\\\Strat_Future\\\\load_data.py'>"
     },
     "execution_count": 26,
     "metadata": {},
     "output_type": "execute_result"
    }
   ],
   "source": [
    "reload(simulator)\n",
    "reload(strategy)\n",
    "reload(get_info)\n",
    "reload(load_data)"
   ],
   "metadata": {
    "collapsed": false
   }
  },
  {
   "cell_type": "code",
   "execution_count": 27,
   "id": "ec48792b",
   "metadata": {},
   "outputs": [],
   "source": [
    "md = load_data.load_md_from_file(path=PATH_TO_FILE, nrows=NROWS)"
   ]
  },
  {
   "cell_type": "code",
   "execution_count": 28,
   "id": "d6a478b4",
   "metadata": {},
   "outputs": [],
   "source": [
    "latency = pd.Timedelta(10, 'ms').delta\n",
    "md_latency = pd.Timedelta(10, 'ms').delta\n",
    "\n",
    "sim = simulator.Sim(md, latency, md_latency)"
   ]
  },
  {
   "cell_type": "code",
   "execution_count": 29,
   "id": "4e657f6c",
   "metadata": {},
   "outputs": [],
   "source": [
    "#delay between orders\n",
    "delay = pd.Timedelta(0.1, 's').delta\n",
    "\n",
    "hold_time = pd.Timedelta(10, 's').delta\n",
    "\n",
    "strat = strategy.BestPosStrategy(delay, 0.1, hold_time)"
   ]
  },
  {
   "cell_type": "code",
   "execution_count": 30,
   "id": "0c887061",
   "metadata": {},
   "outputs": [
    {
     "ename": "KeyError",
     "evalue": "1655942402624789714",
     "output_type": "error",
     "traceback": [
      "\u001B[1;31m---------------------------------------------------------------------------\u001B[0m",
      "\u001B[1;31mKeyError\u001B[0m                                  Traceback (most recent call last)",
      "File \u001B[1;32m<timed exec>:1\u001B[0m, in \u001B[0;36m<module>\u001B[1;34m\u001B[0m\n",
      "File \u001B[1;32m~\\.Computer Science\\CMF\\Projects_HFMM\\HW_5\\Strat_Future\\strategy.py:106\u001B[0m, in \u001B[0;36mBestPosStrategy.run\u001B[1;34m(self, sim)\u001B[0m\n\u001B[0;32m    103\u001B[0m     sigma2 \u001B[38;5;241m=\u001B[39m np\u001B[38;5;241m.\u001B[39marray(\u001B[38;5;28mself\u001B[39m\u001B[38;5;241m.\u001B[39mprice_records[\u001B[38;5;241m-\u001B[39m\u001B[38;5;241m50\u001B[39m:])\u001B[38;5;241m.\u001B[39mstd()\n\u001B[0;32m    104\u001B[0m k \u001B[38;5;241m=\u001B[39m \u001B[38;5;241m1\u001B[39m  \u001B[38;5;66;03m# как это считать, что это вообще такое в формуле??\u001B[39;00m\n\u001B[1;32m--> 106\u001B[0m indifference_price \u001B[38;5;241m=\u001B[39m \u001B[38;5;28;43mself\u001B[39;49m\u001B[38;5;241;43m.\u001B[39;49m\u001B[43mnext_price_dict\u001B[49m\u001B[43m[\u001B[49m\u001B[43mreceive_ts\u001B[49m\u001B[43m]\u001B[49m  \u001B[38;5;66;03m# (T - t) = 1\u001B[39;00m\n\u001B[0;32m    107\u001B[0m delta_x2 \u001B[38;5;241m=\u001B[39m \u001B[38;5;28mself\u001B[39m\u001B[38;5;241m.\u001B[39mrisk_koef\u001B[38;5;241m*\u001B[39msigma2 \u001B[38;5;241m+\u001B[39m \u001B[38;5;241m2\u001B[39m\u001B[38;5;241m/\u001B[39m\u001B[38;5;28mself\u001B[39m\u001B[38;5;241m.\u001B[39mrisk_koef\u001B[38;5;241m*\u001B[39mnp\u001B[38;5;241m.\u001B[39mlog(\u001B[38;5;241m1\u001B[39m \u001B[38;5;241m+\u001B[39m \u001B[38;5;28mself\u001B[39m\u001B[38;5;241m.\u001B[39mrisk_koef \u001B[38;5;241m/\u001B[39m k)\n\u001B[0;32m    109\u001B[0m ask_place \u001B[38;5;241m=\u001B[39m indifference_price \u001B[38;5;241m+\u001B[39m delta_x2 \u001B[38;5;241m/\u001B[39m \u001B[38;5;241m2\u001B[39m\n",
      "\u001B[1;31mKeyError\u001B[0m: 1655942402624789714"
     ]
    }
   ],
   "source": [
    "%time trades_list, md_list, updates_list, all_orders = strat.run(sim)"
   ]
  },
  {
   "cell_type": "code",
   "execution_count": 31,
   "id": "5c191924",
   "metadata": {},
   "outputs": [
    {
     "ename": "NameError",
     "evalue": "name 'updates_list' is not defined",
     "output_type": "error",
     "traceback": [
      "\u001B[1;31m---------------------------------------------------------------------------\u001B[0m",
      "\u001B[1;31mNameError\u001B[0m                                 Traceback (most recent call last)",
      "File \u001B[1;32m<timed exec>:1\u001B[0m, in \u001B[0;36m<module>\u001B[1;34m\u001B[0m\n",
      "\u001B[1;31mNameError\u001B[0m: name 'updates_list' is not defined"
     ]
    }
   ],
   "source": [
    "%time df = get_info.get_pnl(updates_list)"
   ]
  },
  {
   "cell_type": "code",
   "execution_count": 32,
   "id": "36589e0d",
   "metadata": {},
   "outputs": [
    {
     "data": {
      "text/plain": "                  receive_ts          exchange_ts  \\\n0        1655942402250125991  1655942402249000000   \n1        1655942402657844605  1655942402655000000   \n2        1655942403346968722  1655942403346000000   \n3        1655942404080791047  1655942404080000000   \n4        1655942404452706766  1655942404452000000   \n...                      ...                  ...   \n2541351  1656028781390653694  1656028781390000000   \n2541352  1656028781423672729  1656028781423000000   \n2541353  1656028781457683317  1656028781457000000   \n2541354  1656028781492806433  1656028781492000000   \n2541355  1656028781526713137  1656028781526000000   \n\n         btcusdt:Binance:LinearPerpetual_ask_price_0  \\\n0                                            19977.5   \n1                                            19977.5   \n2                                            19977.5   \n3                                            19977.5   \n4                                            19977.5   \n...                                              ...   \n2541351                                      21089.1   \n2541352                                      21089.1   \n2541353                                      21089.1   \n2541354                                      21089.1   \n2541355                                      21089.1   \n\n         btcusdt:Binance:LinearPerpetual_ask_vol_0  \\\n0                                            0.079   \n1                                            0.078   \n2                                            0.079   \n3                                            0.079   \n4                                            0.079   \n...                                            ...   \n2541351                                      0.730   \n2541352                                      0.730   \n2541353                                      0.736   \n2541354                                      0.736   \n2541355                                      0.736   \n\n         btcusdt:Binance:LinearPerpetual_bid_price_0  \\\n0                                            19977.4   \n1                                            19977.4   \n2                                            19977.4   \n3                                            19977.4   \n4                                            19977.4   \n...                                              ...   \n2541351                                      21089.0   \n2541352                                      21089.0   \n2541353                                      21089.0   \n2541354                                      21089.0   \n2541355                                      21089.0   \n\n         btcusdt:Binance:LinearPerpetual_bid_vol_0  \\\n0                                           12.381   \n1                                           12.381   \n2                                           12.381   \n3                                           12.381   \n4                                           12.381   \n...                                            ...   \n2541351                                      7.845   \n2541352                                      7.845   \n2541353                                      7.845   \n2541354                                      7.845   \n2541355                                      8.671   \n\n         btcusdt:Binance:LinearPerpetual_ask_price_1  \\\n0                                            19977.8   \n1                                            19977.8   \n2                                            19977.8   \n3                                            19977.8   \n4                                            19977.8   \n...                                              ...   \n2541351                                      21089.3   \n2541352                                      21089.3   \n2541353                                      21089.3   \n2541354                                      21089.3   \n2541355                                      21089.3   \n\n         btcusdt:Binance:LinearPerpetual_ask_vol_1  \\\n0                                            0.003   \n1                                            0.003   \n2                                            0.003   \n3                                            0.003   \n4                                            0.003   \n...                                            ...   \n2541351                                      0.001   \n2541352                                      0.001   \n2541353                                      0.001   \n2541354                                      0.001   \n2541355                                      0.001   \n\n         btcusdt:Binance:LinearPerpetual_bid_price_1  \\\n0                                            19976.7   \n1                                            19977.3   \n2                                            19977.3   \n3                                            19977.3   \n4                                            19977.3   \n...                                              ...   \n2541351                                      21088.9   \n2541352                                      21088.9   \n2541353                                      21088.9   \n2541354                                      21088.9   \n2541355                                      21088.9   \n\n         btcusdt:Binance:LinearPerpetual_bid_vol_1  ...  \\\n0                                            0.066  ...   \n1                                            0.126  ...   \n2                                            0.126  ...   \n3                                            0.126  ...   \n4                                            0.126  ...   \n...                                            ...  ...   \n2541351                                      2.800  ...   \n2541352                                      2.800  ...   \n2541353                                      2.800  ...   \n2541354                                      2.800  ...   \n2541355                                      2.866  ...   \n\n         btcusdt:Binance:LinearPerpetual_bid_price_7  \\\n0                                            19975.7   \n1                                            19975.9   \n2                                            19975.9   \n3                                            19975.9   \n4                                            19975.9   \n...                                              ...   \n2541351                                      21087.4   \n2541352                                      21087.4   \n2541353                                      21087.4   \n2541354                                      21087.4   \n2541355                                      21087.4   \n\n         btcusdt:Binance:LinearPerpetual_bid_vol_7  \\\n0                                            4.455   \n1                                            0.246   \n2                                            0.246   \n3                                            0.246   \n4                                            0.246   \n...                                            ...   \n2541351                                      0.024   \n2541352                                      0.024   \n2541353                                      0.024   \n2541354                                      0.024   \n2541355                                      0.024   \n\n         btcusdt:Binance:LinearPerpetual_ask_price_8  \\\n0                                            19980.1   \n1                                            19980.1   \n2                                            19980.1   \n3                                            19980.1   \n4                                            19980.1   \n...                                              ...   \n2541351                                      21092.5   \n2541352                                      21092.4   \n2541353                                      21092.4   \n2541354                                      21092.4   \n2541355                                      21092.4   \n\n         btcusdt:Binance:LinearPerpetual_ask_vol_8  \\\n0                                             0.01   \n1                                             0.01   \n2                                             0.01   \n3                                             0.01   \n4                                             0.01   \n...                                            ...   \n2541351                                       0.55   \n2541352                                       0.83   \n2541353                                       0.83   \n2541354                                       0.83   \n2541355                                       0.83   \n\n         btcusdt:Binance:LinearPerpetual_bid_price_8  \\\n0                                            19975.6   \n1                                            19975.8   \n2                                            19975.8   \n3                                            19975.8   \n4                                            19975.8   \n...                                              ...   \n2541351                                      21087.1   \n2541352                                      21087.1   \n2541353                                      21087.1   \n2541354                                      21087.1   \n2541355                                      21087.1   \n\n         btcusdt:Binance:LinearPerpetual_bid_vol_8  \\\n0                                            1.529   \n1                                            0.686   \n2                                            0.686   \n3                                            0.686   \n4                                            0.686   \n...                                            ...   \n2541351                                      0.232   \n2541352                                      0.232   \n2541353                                      0.232   \n2541354                                      0.232   \n2541355                                      0.166   \n\n         btcusdt:Binance:LinearPerpetual_ask_price_9  \\\n0                                            19980.2   \n1                                            19980.2   \n2                                            19980.2   \n3                                            19980.2   \n4                                            19980.2   \n...                                              ...   \n2541351                                      21092.6   \n2541352                                      21092.5   \n2541353                                      21092.5   \n2541354                                      21092.5   \n2541355                                      21092.5   \n\n         btcusdt:Binance:LinearPerpetual_ask_vol_9  \\\n0                                            0.010   \n1                                            0.010   \n2                                            0.010   \n3                                            0.010   \n4                                            0.010   \n...                                            ...   \n2541351                                      0.001   \n2541352                                      0.550   \n2541353                                      0.550   \n2541354                                      0.550   \n2541355                                      0.550   \n\n         btcusdt:Binance:LinearPerpetual_bid_price_9  \\\n0                                            19975.4   \n1                                            19975.7   \n2                                            19975.7   \n3                                            19975.7   \n4                                            19975.7   \n...                                              ...   \n2541351                                      21087.0   \n2541352                                      21087.0   \n2541353                                      21087.0   \n2541354                                      21087.0   \n2541355                                      21087.0   \n\n         btcusdt:Binance:LinearPerpetual_bid_vol_9  \n0                                            1.641  \n1                                            4.455  \n2                                            4.455  \n3                                            4.455  \n4                                            4.455  \n...                                            ...  \n2541351                                      2.484  \n2541352                                      2.484  \n2541353                                      2.484  \n2541354                                      2.484  \n2541355                                      2.484  \n\n[2541356 rows x 42 columns]",
      "text/html": "<div>\n<style scoped>\n    .dataframe tbody tr th:only-of-type {\n        vertical-align: middle;\n    }\n\n    .dataframe tbody tr th {\n        vertical-align: top;\n    }\n\n    .dataframe thead th {\n        text-align: right;\n    }\n</style>\n<table border=\"1\" class=\"dataframe\">\n  <thead>\n    <tr style=\"text-align: right;\">\n      <th></th>\n      <th>receive_ts</th>\n      <th>exchange_ts</th>\n      <th>btcusdt:Binance:LinearPerpetual_ask_price_0</th>\n      <th>btcusdt:Binance:LinearPerpetual_ask_vol_0</th>\n      <th>btcusdt:Binance:LinearPerpetual_bid_price_0</th>\n      <th>btcusdt:Binance:LinearPerpetual_bid_vol_0</th>\n      <th>btcusdt:Binance:LinearPerpetual_ask_price_1</th>\n      <th>btcusdt:Binance:LinearPerpetual_ask_vol_1</th>\n      <th>btcusdt:Binance:LinearPerpetual_bid_price_1</th>\n      <th>btcusdt:Binance:LinearPerpetual_bid_vol_1</th>\n      <th>...</th>\n      <th>btcusdt:Binance:LinearPerpetual_bid_price_7</th>\n      <th>btcusdt:Binance:LinearPerpetual_bid_vol_7</th>\n      <th>btcusdt:Binance:LinearPerpetual_ask_price_8</th>\n      <th>btcusdt:Binance:LinearPerpetual_ask_vol_8</th>\n      <th>btcusdt:Binance:LinearPerpetual_bid_price_8</th>\n      <th>btcusdt:Binance:LinearPerpetual_bid_vol_8</th>\n      <th>btcusdt:Binance:LinearPerpetual_ask_price_9</th>\n      <th>btcusdt:Binance:LinearPerpetual_ask_vol_9</th>\n      <th>btcusdt:Binance:LinearPerpetual_bid_price_9</th>\n      <th>btcusdt:Binance:LinearPerpetual_bid_vol_9</th>\n    </tr>\n  </thead>\n  <tbody>\n    <tr>\n      <th>0</th>\n      <td>1655942402250125991</td>\n      <td>1655942402249000000</td>\n      <td>19977.5</td>\n      <td>0.079</td>\n      <td>19977.4</td>\n      <td>12.381</td>\n      <td>19977.8</td>\n      <td>0.003</td>\n      <td>19976.7</td>\n      <td>0.066</td>\n      <td>...</td>\n      <td>19975.7</td>\n      <td>4.455</td>\n      <td>19980.1</td>\n      <td>0.01</td>\n      <td>19975.6</td>\n      <td>1.529</td>\n      <td>19980.2</td>\n      <td>0.010</td>\n      <td>19975.4</td>\n      <td>1.641</td>\n    </tr>\n    <tr>\n      <th>1</th>\n      <td>1655942402657844605</td>\n      <td>1655942402655000000</td>\n      <td>19977.5</td>\n      <td>0.078</td>\n      <td>19977.4</td>\n      <td>12.381</td>\n      <td>19977.8</td>\n      <td>0.003</td>\n      <td>19977.3</td>\n      <td>0.126</td>\n      <td>...</td>\n      <td>19975.9</td>\n      <td>0.246</td>\n      <td>19980.1</td>\n      <td>0.01</td>\n      <td>19975.8</td>\n      <td>0.686</td>\n      <td>19980.2</td>\n      <td>0.010</td>\n      <td>19975.7</td>\n      <td>4.455</td>\n    </tr>\n    <tr>\n      <th>2</th>\n      <td>1655942403346968722</td>\n      <td>1655942403346000000</td>\n      <td>19977.5</td>\n      <td>0.079</td>\n      <td>19977.4</td>\n      <td>12.381</td>\n      <td>19977.8</td>\n      <td>0.003</td>\n      <td>19977.3</td>\n      <td>0.126</td>\n      <td>...</td>\n      <td>19975.9</td>\n      <td>0.246</td>\n      <td>19980.1</td>\n      <td>0.01</td>\n      <td>19975.8</td>\n      <td>0.686</td>\n      <td>19980.2</td>\n      <td>0.010</td>\n      <td>19975.7</td>\n      <td>4.455</td>\n    </tr>\n    <tr>\n      <th>3</th>\n      <td>1655942404080791047</td>\n      <td>1655942404080000000</td>\n      <td>19977.5</td>\n      <td>0.079</td>\n      <td>19977.4</td>\n      <td>12.381</td>\n      <td>19977.8</td>\n      <td>0.003</td>\n      <td>19977.3</td>\n      <td>0.126</td>\n      <td>...</td>\n      <td>19975.9</td>\n      <td>0.246</td>\n      <td>19980.1</td>\n      <td>0.01</td>\n      <td>19975.8</td>\n      <td>0.686</td>\n      <td>19980.2</td>\n      <td>0.010</td>\n      <td>19975.7</td>\n      <td>4.455</td>\n    </tr>\n    <tr>\n      <th>4</th>\n      <td>1655942404452706766</td>\n      <td>1655942404452000000</td>\n      <td>19977.5</td>\n      <td>0.079</td>\n      <td>19977.4</td>\n      <td>12.381</td>\n      <td>19977.8</td>\n      <td>0.003</td>\n      <td>19977.3</td>\n      <td>0.126</td>\n      <td>...</td>\n      <td>19975.9</td>\n      <td>0.246</td>\n      <td>19980.1</td>\n      <td>0.01</td>\n      <td>19975.8</td>\n      <td>0.686</td>\n      <td>19980.2</td>\n      <td>0.010</td>\n      <td>19975.7</td>\n      <td>4.455</td>\n    </tr>\n    <tr>\n      <th>...</th>\n      <td>...</td>\n      <td>...</td>\n      <td>...</td>\n      <td>...</td>\n      <td>...</td>\n      <td>...</td>\n      <td>...</td>\n      <td>...</td>\n      <td>...</td>\n      <td>...</td>\n      <td>...</td>\n      <td>...</td>\n      <td>...</td>\n      <td>...</td>\n      <td>...</td>\n      <td>...</td>\n      <td>...</td>\n      <td>...</td>\n      <td>...</td>\n      <td>...</td>\n      <td>...</td>\n    </tr>\n    <tr>\n      <th>2541351</th>\n      <td>1656028781390653694</td>\n      <td>1656028781390000000</td>\n      <td>21089.1</td>\n      <td>0.730</td>\n      <td>21089.0</td>\n      <td>7.845</td>\n      <td>21089.3</td>\n      <td>0.001</td>\n      <td>21088.9</td>\n      <td>2.800</td>\n      <td>...</td>\n      <td>21087.4</td>\n      <td>0.024</td>\n      <td>21092.5</td>\n      <td>0.55</td>\n      <td>21087.1</td>\n      <td>0.232</td>\n      <td>21092.6</td>\n      <td>0.001</td>\n      <td>21087.0</td>\n      <td>2.484</td>\n    </tr>\n    <tr>\n      <th>2541352</th>\n      <td>1656028781423672729</td>\n      <td>1656028781423000000</td>\n      <td>21089.1</td>\n      <td>0.730</td>\n      <td>21089.0</td>\n      <td>7.845</td>\n      <td>21089.3</td>\n      <td>0.001</td>\n      <td>21088.9</td>\n      <td>2.800</td>\n      <td>...</td>\n      <td>21087.4</td>\n      <td>0.024</td>\n      <td>21092.4</td>\n      <td>0.83</td>\n      <td>21087.1</td>\n      <td>0.232</td>\n      <td>21092.5</td>\n      <td>0.550</td>\n      <td>21087.0</td>\n      <td>2.484</td>\n    </tr>\n    <tr>\n      <th>2541353</th>\n      <td>1656028781457683317</td>\n      <td>1656028781457000000</td>\n      <td>21089.1</td>\n      <td>0.736</td>\n      <td>21089.0</td>\n      <td>7.845</td>\n      <td>21089.3</td>\n      <td>0.001</td>\n      <td>21088.9</td>\n      <td>2.800</td>\n      <td>...</td>\n      <td>21087.4</td>\n      <td>0.024</td>\n      <td>21092.4</td>\n      <td>0.83</td>\n      <td>21087.1</td>\n      <td>0.232</td>\n      <td>21092.5</td>\n      <td>0.550</td>\n      <td>21087.0</td>\n      <td>2.484</td>\n    </tr>\n    <tr>\n      <th>2541354</th>\n      <td>1656028781492806433</td>\n      <td>1656028781492000000</td>\n      <td>21089.1</td>\n      <td>0.736</td>\n      <td>21089.0</td>\n      <td>7.845</td>\n      <td>21089.3</td>\n      <td>0.001</td>\n      <td>21088.9</td>\n      <td>2.800</td>\n      <td>...</td>\n      <td>21087.4</td>\n      <td>0.024</td>\n      <td>21092.4</td>\n      <td>0.83</td>\n      <td>21087.1</td>\n      <td>0.232</td>\n      <td>21092.5</td>\n      <td>0.550</td>\n      <td>21087.0</td>\n      <td>2.484</td>\n    </tr>\n    <tr>\n      <th>2541355</th>\n      <td>1656028781526713137</td>\n      <td>1656028781526000000</td>\n      <td>21089.1</td>\n      <td>0.736</td>\n      <td>21089.0</td>\n      <td>8.671</td>\n      <td>21089.3</td>\n      <td>0.001</td>\n      <td>21088.9</td>\n      <td>2.866</td>\n      <td>...</td>\n      <td>21087.4</td>\n      <td>0.024</td>\n      <td>21092.4</td>\n      <td>0.83</td>\n      <td>21087.1</td>\n      <td>0.166</td>\n      <td>21092.5</td>\n      <td>0.550</td>\n      <td>21087.0</td>\n      <td>2.484</td>\n    </tr>\n  </tbody>\n</table>\n<p>2541356 rows × 42 columns</p>\n</div>"
     },
     "execution_count": 32,
     "metadata": {},
     "output_type": "execute_result"
    }
   ],
   "source": [
    "df"
   ]
  },
  {
   "cell_type": "code",
   "execution_count": 33,
   "id": "6f371738",
   "metadata": {},
   "outputs": [],
   "source": [
    "dt = pd.to_datetime(df.receive_ts)"
   ]
  },
  {
   "cell_type": "code",
   "execution_count": 34,
   "id": "f88031be",
   "metadata": {},
   "outputs": [
    {
     "ename": "AttributeError",
     "evalue": "'DataFrame' object has no attribute 'total'",
     "output_type": "error",
     "traceback": [
      "\u001B[1;31m---------------------------------------------------------------------------\u001B[0m",
      "\u001B[1;31mAttributeError\u001B[0m                            Traceback (most recent call last)",
      "Input \u001B[1;32mIn [34]\u001B[0m, in \u001B[0;36m<cell line: 2>\u001B[1;34m()\u001B[0m\n\u001B[0;32m      1\u001B[0m plt\u001B[38;5;241m.\u001B[39mfigure(figsize\u001B[38;5;241m=\u001B[39m(\u001B[38;5;241m10\u001B[39m, \u001B[38;5;241m5\u001B[39m))\n\u001B[1;32m----> 2\u001B[0m plt\u001B[38;5;241m.\u001B[39mplot(dt, \u001B[43mdf\u001B[49m\u001B[38;5;241;43m.\u001B[39;49m\u001B[43mtotal\u001B[49m, \u001B[38;5;124m'\u001B[39m\u001B[38;5;124m-\u001B[39m\u001B[38;5;124m'\u001B[39m)\n\u001B[0;32m      3\u001B[0m plt\u001B[38;5;241m.\u001B[39mxlabel(\u001B[38;5;124m\"\u001B[39m\u001B[38;5;124mtime\u001B[39m\u001B[38;5;124m\"\u001B[39m, fontsize\u001B[38;5;241m=\u001B[39m\u001B[38;5;241m13\u001B[39m)\n\u001B[0;32m      4\u001B[0m plt\u001B[38;5;241m.\u001B[39mylabel(\u001B[38;5;124m\"\u001B[39m\u001B[38;5;124mPnL\u001B[39m\u001B[38;5;124m\"\u001B[39m, fontsize\u001B[38;5;241m=\u001B[39m\u001B[38;5;241m13\u001B[39m)\n",
      "File \u001B[1;32m~\\anaconda3\\envs\\workspace\\lib\\site-packages\\pandas\\core\\generic.py:5575\u001B[0m, in \u001B[0;36mNDFrame.__getattr__\u001B[1;34m(self, name)\u001B[0m\n\u001B[0;32m   5568\u001B[0m \u001B[38;5;28;01mif\u001B[39;00m (\n\u001B[0;32m   5569\u001B[0m     name \u001B[38;5;129;01mnot\u001B[39;00m \u001B[38;5;129;01min\u001B[39;00m \u001B[38;5;28mself\u001B[39m\u001B[38;5;241m.\u001B[39m_internal_names_set\n\u001B[0;32m   5570\u001B[0m     \u001B[38;5;129;01mand\u001B[39;00m name \u001B[38;5;129;01mnot\u001B[39;00m \u001B[38;5;129;01min\u001B[39;00m \u001B[38;5;28mself\u001B[39m\u001B[38;5;241m.\u001B[39m_metadata\n\u001B[0;32m   5571\u001B[0m     \u001B[38;5;129;01mand\u001B[39;00m name \u001B[38;5;129;01mnot\u001B[39;00m \u001B[38;5;129;01min\u001B[39;00m \u001B[38;5;28mself\u001B[39m\u001B[38;5;241m.\u001B[39m_accessors\n\u001B[0;32m   5572\u001B[0m     \u001B[38;5;129;01mand\u001B[39;00m \u001B[38;5;28mself\u001B[39m\u001B[38;5;241m.\u001B[39m_info_axis\u001B[38;5;241m.\u001B[39m_can_hold_identifiers_and_holds_name(name)\n\u001B[0;32m   5573\u001B[0m ):\n\u001B[0;32m   5574\u001B[0m     \u001B[38;5;28;01mreturn\u001B[39;00m \u001B[38;5;28mself\u001B[39m[name]\n\u001B[1;32m-> 5575\u001B[0m \u001B[38;5;28;01mreturn\u001B[39;00m \u001B[38;5;28;43mobject\u001B[39;49m\u001B[38;5;241;43m.\u001B[39;49m\u001B[38;5;21;43m__getattribute__\u001B[39;49m\u001B[43m(\u001B[49m\u001B[38;5;28;43mself\u001B[39;49m\u001B[43m,\u001B[49m\u001B[43m \u001B[49m\u001B[43mname\u001B[49m\u001B[43m)\u001B[49m\n",
      "\u001B[1;31mAttributeError\u001B[0m: 'DataFrame' object has no attribute 'total'"
     ]
    },
    {
     "data": {
      "text/plain": "<Figure size 1000x500 with 0 Axes>"
     },
     "metadata": {},
     "output_type": "display_data"
    }
   ],
   "source": [
    "plt.figure(figsize=(10, 5))\n",
    "plt.plot(dt, df.total, '-')\n",
    "plt.xlabel(\"time\", fontsize=13)\n",
    "plt.ylabel(\"PnL\", fontsize=13)\n",
    "plt.title(\"BestStrategy PnL\", fontsize=15)\n",
    "plt.grid()\n",
    "plt.show()"
   ]
  },
  {
   "cell_type": "code",
   "execution_count": 14,
   "id": "93c4cb6f",
   "metadata": {},
   "outputs": [],
   "source": [
    "from simulator import Sim\n",
    "from strategy import BestPosStrategy\n",
    "from get_info import get_pnl\n",
    "from load_data import merge_books_and_trades\n",
    "\n",
    "\n",
    "import pandas as pd\n",
    "import numpy as np\n",
    "from matplotlib import pyplot as plt"
   ]
  },
  {
   "cell_type": "code",
   "execution_count": 11,
   "id": "077557e8",
   "metadata": {},
   "outputs": [],
   "source": [
    "from simulator import MdUpdate, OrderbookSnapshotUpdate, AnonTrade\n",
    "\n",
    "from get_info import md_to_dataframe, trade_to_dataframe"
   ]
  },
  {
   "cell_type": "code",
   "execution_count": 12,
   "id": "70330ff4",
   "metadata": {},
   "outputs": [],
   "source": [
    "def generate_sample_data_1(n_points):\n",
    "    '''\n",
    "        this function generates market data with constant mid price and occasional trades\n",
    "    '''\n",
    "    mid_price = 100.0\n",
    "    spread = 2.0\n",
    "    bid_price = mid_price - spread / 2\n",
    "    ask_price = mid_price + spread / 2\n",
    "    size = 1\n",
    "    \n",
    "    books = [OrderbookSnapshotUpdate(2 * i, 2 * i, [(ask_price, size)], [(bid_price, size)]) for i in range(1) ]\n",
    "    \n",
    "    trades = []\n",
    "    p = 0.25\n",
    "    trade_id = np.random.choice([0, 1], size=n_points, p=[1-p, p])\n",
    "    trade_id = [i % 5 == 0 for i in range(n_points)]\n",
    "    for i in range(n_points):\n",
    "        \n",
    "        if trade_id[i]:\n",
    "            \n",
    "            side = np.random.choice([0, 1], size=1)[0]\n",
    "            price = bid_price if side else ask_price\n",
    "            side = \"ASK\" if side else \"BID\" \n",
    "            trade = AnonTrade(2 * i + 1, 2 * i + 1, side, size, price)\n",
    "            trades.append(trade)\n",
    "\n",
    "    return books, trades"
   ]
  },
  {
   "cell_type": "code",
   "execution_count": 13,
   "id": "be3a9d8a",
   "metadata": {},
   "outputs": [],
   "source": [
    "def generate_sample_data_2(n_points):\n",
    "    '''\n",
    "        this function generates market data with lineary increasing mid price and \n",
    "        limit orders at the same distance from the mid price\n",
    "    '''   \n",
    "    mid_price = 100.0\n",
    "    spread = 2.0\n",
    "    bid_price = mid_price - spread / 2\n",
    "    ask_price = mid_price + spread / 2\n",
    "    size = 1\n",
    "    \n",
    "    books = []\n",
    "    \n",
    "    \n",
    "    trades = []\n",
    "    p = 0.5\n",
    "    for i in range(n_points):\n",
    "        \n",
    "        bid_price = mid_price - spread / 2\n",
    "        ask_price = mid_price + spread / 2\n",
    "        \n",
    "        book = OrderbookSnapshotUpdate(i, i, [(ask_price, size)], [(bid_price, size)])\n",
    "        books.append( book  )\n",
    "        mid_price += 1\n",
    "    return books, trades"
   ]
  },
  {
   "cell_type": "code",
   "execution_count": 14,
   "id": "12251a9e",
   "metadata": {},
   "outputs": [
    {
     "data": {
      "image/png": "[encoded data removed]",
      "text/plain": [
       "<Figure size 720x360 with 1 Axes>"
      ]
     },
     "metadata": {
      "needs_background": "light"
     },
     "output_type": "display_data"
    }
   ],
   "source": [
    "books, anon_trades = generate_sample_data_2(20)\n",
    "\n",
    "md = merge_books_and_trades(books, anon_trades)\n",
    "\n",
    "latency = pd.Timedelta(0, 'ns').delta\n",
    "md_latency = pd.Timedelta(0, 'ns').delta\n",
    "sim = Sim(md, latency, md_latency)\n",
    "\n",
    "#delay between orders\n",
    "delay = pd.Timedelta(1, 'ns').delta\n",
    "hold_time = pd.Timedelta(1000, 'ns').delta\n",
    "strategy = BestPosStrategy(delay, hold_time)\n",
    "\n",
    "own_trades, md_list, updates_list, all_orders = strategy.run(sim)\n",
    "\n",
    "df_info = get_pnl(updates_list)\n",
    "t = df_info.receive_ts.values\n",
    "\n",
    "plt.figure(figsize=(10, 5))\n",
    "plt.plot(t, df_info.total, '.-', 'PnL')\n",
    "plt.xlabel(\"time\", fontsize=13)\n",
    "plt.ylabel(\"PnL\", fontsize=13)\n",
    "\n",
    "plt.title(\"BestStrategy PnL\", fontsize=15)\n",
    "plt.grid()\n",
    "plt.show()"
   ]
  },
  {
   "cell_type": "code",
   "execution_count": 15,
   "id": "aef6c952",
   "metadata": {},
   "outputs": [
    {
     "data": {
      "text/plain": [
       "[MdUpdate(exchange_ts=0, receive_ts=0, orderbook=OrderbookSnapshotUpdate(exchange_ts=0, receive_ts=0, asks=[(101.0, 1)], bids=[(99.0, 1)]), trade=None),\n",
       " MdUpdate(exchange_ts=1, receive_ts=1, orderbook=OrderbookSnapshotUpdate(exchange_ts=1, receive_ts=1, asks=[(102.0, 1)], bids=[(100.0, 1)]), trade=None),\n",
       " MdUpdate(exchange_ts=2, receive_ts=2, orderbook=OrderbookSnapshotUpdate(exchange_ts=2, receive_ts=2, asks=[(103.0, 1)], bids=[(101.0, 1)]), trade=None),\n",
       " OwnTrade(place_ts=0, exchange_ts=2, receive_ts=2, trade_id=0, order_id=1, side='ASK', size=0.001, price=101.0, execute='BOOK'),\n",
       " MdUpdate(exchange_ts=3, receive_ts=3, orderbook=OrderbookSnapshotUpdate(exchange_ts=3, receive_ts=3, asks=[(104.0, 1)], bids=[(102.0, 1)]), trade=None),\n",
       " OwnTrade(place_ts=1, exchange_ts=3, receive_ts=3, trade_id=1, order_id=3, side='ASK', size=0.001, price=102.0, execute='BOOK'),\n",
       " MdUpdate(exchange_ts=4, receive_ts=4, orderbook=OrderbookSnapshotUpdate(exchange_ts=4, receive_ts=4, asks=[(105.0, 1)], bids=[(103.0, 1)]), trade=None),\n",
       " OwnTrade(place_ts=2, exchange_ts=4, receive_ts=4, trade_id=2, order_id=5, side='ASK', size=0.001, price=103.0, execute='BOOK'),\n",
       " MdUpdate(exchange_ts=5, receive_ts=5, orderbook=OrderbookSnapshotUpdate(exchange_ts=5, receive_ts=5, asks=[(106.0, 1)], bids=[(104.0, 1)]), trade=None),\n",
       " OwnTrade(place_ts=3, exchange_ts=5, receive_ts=5, trade_id=3, order_id=7, side='ASK', size=0.001, price=104.0, execute='BOOK'),\n",
       " MdUpdate(exchange_ts=6, receive_ts=6, orderbook=OrderbookSnapshotUpdate(exchange_ts=6, receive_ts=6, asks=[(107.0, 1)], bids=[(105.0, 1)]), trade=None),\n",
       " OwnTrade(place_ts=4, exchange_ts=6, receive_ts=6, trade_id=4, order_id=9, side='ASK', size=0.001, price=105.0, execute='BOOK'),\n",
       " MdUpdate(exchange_ts=7, receive_ts=7, orderbook=OrderbookSnapshotUpdate(exchange_ts=7, receive_ts=7, asks=[(108.0, 1)], bids=[(106.0, 1)]), trade=None),\n",
       " OwnTrade(place_ts=5, exchange_ts=7, receive_ts=7, trade_id=5, order_id=11, side='ASK', size=0.001, price=106.0, execute='BOOK'),\n",
       " MdUpdate(exchange_ts=8, receive_ts=8, orderbook=OrderbookSnapshotUpdate(exchange_ts=8, receive_ts=8, asks=[(109.0, 1)], bids=[(107.0, 1)]), trade=None),\n",
       " OwnTrade(place_ts=6, exchange_ts=8, receive_ts=8, trade_id=6, order_id=13, side='ASK', size=0.001, price=107.0, execute='BOOK'),\n",
       " MdUpdate(exchange_ts=9, receive_ts=9, orderbook=OrderbookSnapshotUpdate(exchange_ts=9, receive_ts=9, asks=[(110.0, 1)], bids=[(108.0, 1)]), trade=None),\n",
       " OwnTrade(place_ts=7, exchange_ts=9, receive_ts=9, trade_id=7, order_id=15, side='ASK', size=0.001, price=108.0, execute='BOOK'),\n",
       " MdUpdate(exchange_ts=10, receive_ts=10, orderbook=OrderbookSnapshotUpdate(exchange_ts=10, receive_ts=10, asks=[(111.0, 1)], bids=[(109.0, 1)]), trade=None),\n",
       " OwnTrade(place_ts=8, exchange_ts=10, receive_ts=10, trade_id=8, order_id=17, side='ASK', size=0.001, price=109.0, execute='BOOK'),\n",
       " MdUpdate(exchange_ts=11, receive_ts=11, orderbook=OrderbookSnapshotUpdate(exchange_ts=11, receive_ts=11, asks=[(112.0, 1)], bids=[(110.0, 1)]), trade=None),\n",
       " OwnTrade(place_ts=9, exchange_ts=11, receive_ts=11, trade_id=9, order_id=19, side='ASK', size=0.001, price=110.0, execute='BOOK'),\n",
       " MdUpdate(exchange_ts=12, receive_ts=12, orderbook=OrderbookSnapshotUpdate(exchange_ts=12, receive_ts=12, asks=[(113.0, 1)], bids=[(111.0, 1)]), trade=None),\n",
       " OwnTrade(place_ts=10, exchange_ts=12, receive_ts=12, trade_id=10, order_id=21, side='ASK', size=0.001, price=111.0, execute='BOOK'),\n",
       " MdUpdate(exchange_ts=13, receive_ts=13, orderbook=OrderbookSnapshotUpdate(exchange_ts=13, receive_ts=13, asks=[(114.0, 1)], bids=[(112.0, 1)]), trade=None),\n",
       " OwnTrade(place_ts=11, exchange_ts=13, receive_ts=13, trade_id=11, order_id=23, side='ASK', size=0.001, price=112.0, execute='BOOK'),\n",
       " MdUpdate(exchange_ts=14, receive_ts=14, orderbook=OrderbookSnapshotUpdate(exchange_ts=14, receive_ts=14, asks=[(115.0, 1)], bids=[(113.0, 1)]), trade=None),\n",
       " OwnTrade(place_ts=12, exchange_ts=14, receive_ts=14, trade_id=12, order_id=25, side='ASK', size=0.001, price=113.0, execute='BOOK'),\n",
       " MdUpdate(exchange_ts=15, receive_ts=15, orderbook=OrderbookSnapshotUpdate(exchange_ts=15, receive_ts=15, asks=[(116.0, 1)], bids=[(114.0, 1)]), trade=None),\n",
       " OwnTrade(place_ts=13, exchange_ts=15, receive_ts=15, trade_id=13, order_id=27, side='ASK', size=0.001, price=114.0, execute='BOOK'),\n",
       " MdUpdate(exchange_ts=16, receive_ts=16, orderbook=OrderbookSnapshotUpdate(exchange_ts=16, receive_ts=16, asks=[(117.0, 1)], bids=[(115.0, 1)]), trade=None),\n",
       " OwnTrade(place_ts=14, exchange_ts=16, receive_ts=16, trade_id=14, order_id=29, side='ASK', size=0.001, price=115.0, execute='BOOK'),\n",
       " MdUpdate(exchange_ts=17, receive_ts=17, orderbook=OrderbookSnapshotUpdate(exchange_ts=17, receive_ts=17, asks=[(118.0, 1)], bids=[(116.0, 1)]), trade=None),\n",
       " OwnTrade(place_ts=15, exchange_ts=17, receive_ts=17, trade_id=15, order_id=31, side='ASK', size=0.001, price=116.0, execute='BOOK'),\n",
       " MdUpdate(exchange_ts=18, receive_ts=18, orderbook=OrderbookSnapshotUpdate(exchange_ts=18, receive_ts=18, asks=[(119.0, 1)], bids=[(117.0, 1)]), trade=None),\n",
       " OwnTrade(place_ts=16, exchange_ts=18, receive_ts=18, trade_id=16, order_id=33, side='ASK', size=0.001, price=117.0, execute='BOOK'),\n",
       " MdUpdate(exchange_ts=19, receive_ts=19, orderbook=OrderbookSnapshotUpdate(exchange_ts=19, receive_ts=19, asks=[(120.0, 1)], bids=[(118.0, 1)]), trade=None),\n",
       " OwnTrade(place_ts=17, exchange_ts=19, receive_ts=19, trade_id=17, order_id=35, side='ASK', size=0.001, price=118.0, execute='BOOK')]"
      ]
     },
     "execution_count": 15,
     "metadata": {},
     "output_type": "execute_result"
    }
   ],
   "source": [
    "updates_list"
   ]
  },
  {
   "cell_type": "code",
   "execution_count": 16,
   "id": "4e3f54f1",
   "metadata": {},
   "outputs": [
    {
     "data": {
      "text/plain": [
       "[Order(place_ts=0, exchange_ts=0, order_id=0, side='BID', size=0.001, price=99.0),\n",
       " Order(place_ts=0, exchange_ts=0, order_id=1, side='ASK', size=0.001, price=101.0),\n",
       " Order(place_ts=1, exchange_ts=1, order_id=2, side='BID', size=0.001, price=100.0),\n",
       " Order(place_ts=1, exchange_ts=1, order_id=3, side='ASK', size=0.001, price=102.0),\n",
       " Order(place_ts=2, exchange_ts=2, order_id=4, side='BID', size=0.001, price=101.0),\n",
       " Order(place_ts=2, exchange_ts=2, order_id=5, side='ASK', size=0.001, price=103.0),\n",
       " Order(place_ts=3, exchange_ts=3, order_id=6, side='BID', size=0.001, price=102.0),\n",
       " Order(place_ts=3, exchange_ts=3, order_id=7, side='ASK', size=0.001, price=104.0),\n",
       " Order(place_ts=4, exchange_ts=4, order_id=8, side='BID', size=0.001, price=103.0),\n",
       " Order(place_ts=4, exchange_ts=4, order_id=9, side='ASK', size=0.001, price=105.0),\n",
       " Order(place_ts=5, exchange_ts=5, order_id=10, side='BID', size=0.001, price=104.0),\n",
       " Order(place_ts=5, exchange_ts=5, order_id=11, side='ASK', size=0.001, price=106.0),\n",
       " Order(place_ts=6, exchange_ts=6, order_id=12, side='BID', size=0.001, price=105.0),\n",
       " Order(place_ts=6, exchange_ts=6, order_id=13, side='ASK', size=0.001, price=107.0),\n",
       " Order(place_ts=7, exchange_ts=7, order_id=14, side='BID', size=0.001, price=106.0),\n",
       " Order(place_ts=7, exchange_ts=7, order_id=15, side='ASK', size=0.001, price=108.0),\n",
       " Order(place_ts=8, exchange_ts=8, order_id=16, side='BID', size=0.001, price=107.0),\n",
       " Order(place_ts=8, exchange_ts=8, order_id=17, side='ASK', size=0.001, price=109.0),\n",
       " Order(place_ts=9, exchange_ts=9, order_id=18, side='BID', size=0.001, price=108.0),\n",
       " Order(place_ts=9, exchange_ts=9, order_id=19, side='ASK', size=0.001, price=110.0),\n",
       " Order(place_ts=10, exchange_ts=10, order_id=20, side='BID', size=0.001, price=109.0),\n",
       " Order(place_ts=10, exchange_ts=10, order_id=21, side='ASK', size=0.001, price=111.0),\n",
       " Order(place_ts=11, exchange_ts=11, order_id=22, side='BID', size=0.001, price=110.0),\n",
       " Order(place_ts=11, exchange_ts=11, order_id=23, side='ASK', size=0.001, price=112.0),\n",
       " Order(place_ts=12, exchange_ts=12, order_id=24, side='BID', size=0.001, price=111.0),\n",
       " Order(place_ts=12, exchange_ts=12, order_id=25, side='ASK', size=0.001, price=113.0),\n",
       " Order(place_ts=13, exchange_ts=13, order_id=26, side='BID', size=0.001, price=112.0),\n",
       " Order(place_ts=13, exchange_ts=13, order_id=27, side='ASK', size=0.001, price=114.0),\n",
       " Order(place_ts=14, exchange_ts=14, order_id=28, side='BID', size=0.001, price=113.0),\n",
       " Order(place_ts=14, exchange_ts=14, order_id=29, side='ASK', size=0.001, price=115.0),\n",
       " Order(place_ts=15, exchange_ts=15, order_id=30, side='BID', size=0.001, price=114.0),\n",
       " Order(place_ts=15, exchange_ts=15, order_id=31, side='ASK', size=0.001, price=116.0),\n",
       " Order(place_ts=16, exchange_ts=16, order_id=32, side='BID', size=0.001, price=115.0),\n",
       " Order(place_ts=16, exchange_ts=16, order_id=33, side='ASK', size=0.001, price=117.0),\n",
       " Order(place_ts=17, exchange_ts=17, order_id=34, side='BID', size=0.001, price=116.0),\n",
       " Order(place_ts=17, exchange_ts=17, order_id=35, side='ASK', size=0.001, price=118.0),\n",
       " Order(place_ts=18, exchange_ts=18, order_id=36, side='BID', size=0.001, price=117.0),\n",
       " Order(place_ts=18, exchange_ts=18, order_id=37, side='ASK', size=0.001, price=119.0),\n",
       " Order(place_ts=19, exchange_ts=19, order_id=38, side='BID', size=0.001, price=118.0),\n",
       " Order(place_ts=19, exchange_ts=19, order_id=39, side='ASK', size=0.001, price=120.0)]"
      ]
     },
     "execution_count": 16,
     "metadata": {},
     "output_type": "execute_result"
    }
   ],
   "source": [
    "all_orders"
   ]
  },
  {
   "cell_type": "code",
   "execution_count": 17,
   "id": "c73fb7c0",
   "metadata": {},
   "outputs": [
    {
     "data": {
      "text/plain": [
       "{0: Order(place_ts=0, exchange_ts=0, order_id=0, side='BID', size=0.001, price=99.0),\n",
       " 2: Order(place_ts=1, exchange_ts=1, order_id=2, side='BID', size=0.001, price=100.0),\n",
       " 4: Order(place_ts=2, exchange_ts=2, order_id=4, side='BID', size=0.001, price=101.0),\n",
       " 6: Order(place_ts=3, exchange_ts=3, order_id=6, side='BID', size=0.001, price=102.0),\n",
       " 8: Order(place_ts=4, exchange_ts=4, order_id=8, side='BID', size=0.001, price=103.0),\n",
       " 10: Order(place_ts=5, exchange_ts=5, order_id=10, side='BID', size=0.001, price=104.0),\n",
       " 12: Order(place_ts=6, exchange_ts=6, order_id=12, side='BID', size=0.001, price=105.0),\n",
       " 14: Order(place_ts=7, exchange_ts=7, order_id=14, side='BID', size=0.001, price=106.0),\n",
       " 16: Order(place_ts=8, exchange_ts=8, order_id=16, side='BID', size=0.001, price=107.0),\n",
       " 18: Order(place_ts=9, exchange_ts=9, order_id=18, side='BID', size=0.001, price=108.0),\n",
       " 20: Order(place_ts=10, exchange_ts=10, order_id=20, side='BID', size=0.001, price=109.0),\n",
       " 22: Order(place_ts=11, exchange_ts=11, order_id=22, side='BID', size=0.001, price=110.0),\n",
       " 24: Order(place_ts=12, exchange_ts=12, order_id=24, side='BID', size=0.001, price=111.0),\n",
       " 26: Order(place_ts=13, exchange_ts=13, order_id=26, side='BID', size=0.001, price=112.0),\n",
       " 28: Order(place_ts=14, exchange_ts=14, order_id=28, side='BID', size=0.001, price=113.0),\n",
       " 30: Order(place_ts=15, exchange_ts=15, order_id=30, side='BID', size=0.001, price=114.0),\n",
       " 32: Order(place_ts=16, exchange_ts=16, order_id=32, side='BID', size=0.001, price=115.0),\n",
       " 34: Order(place_ts=17, exchange_ts=17, order_id=34, side='BID', size=0.001, price=116.0),\n",
       " 36: Order(place_ts=18, exchange_ts=18, order_id=36, side='BID', size=0.001, price=117.0),\n",
       " 37: Order(place_ts=18, exchange_ts=18, order_id=37, side='ASK', size=0.001, price=119.0),\n",
       " 38: Order(place_ts=19, exchange_ts=19, order_id=38, side='BID', size=0.001, price=118.0),\n",
       " 39: Order(place_ts=19, exchange_ts=19, order_id=39, side='ASK', size=0.001, price=120.0)}"
      ]
     },
     "execution_count": 17,
     "metadata": {},
     "output_type": "execute_result"
    }
   ],
   "source": [
    "sim.ready_to_execute_orders"
   ]
  }
 ],
 "metadata": {
  "kernelspec": {
   "display_name": "Python 3 (ipykernel)",
   "language": "python",
   "name": "python3"
  },
  "language_info": {
   "codemirror_mode": {
    "name": "ipython",
    "version": 3
   },
   "file_extension": ".py",
   "mimetype": "text/x-python",
   "name": "python",
   "nbconvert_exporter": "python",
   "pygments_lexer": "ipython3",
   "version": "3.9.7"
  }
 },
 "nbformat": 4,
 "nbformat_minor": 5
}
