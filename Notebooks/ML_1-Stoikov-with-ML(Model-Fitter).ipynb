{
 "cells": [
  {
   "cell_type": "code",
   "execution_count": 1,
   "metadata": {
    "collapsed": true
   },
   "outputs": [],
   "source": [
    "import sys\n",
    "sys.path.append('..')"
   ]
  },
  {
   "cell_type": "code",
   "execution_count": 2,
   "outputs": [],
   "source": [
    "import TechCore.Simulator.simulator_optimized as simulator\n",
    "import TechCore.Strategies.Stoikov as Stoikov\n",
    "import TechCore.Simulator.get_info as get_info\n",
    "import TechCore.Simulator.load_data as load_data\n",
    "\n",
    "from importlib import reload\n",
    "\n",
    "import pandas as pd\n",
    "import numpy as np\n",
    "import datetime\n",
    "from matplotlib import pyplot as plt\n",
    "from tqdm import tqdm\n",
    "tqdm.pandas()\n",
    "\n",
    "path_to_file = '../TechCore/data/md/ethusdt_Binance_LinearPerpetual/'\n",
    "run_time = pd.Timedelta(hours=12).delta"
   ],
   "metadata": {
    "collapsed": false
   }
  },
  {
   "cell_type": "code",
   "execution_count": 3,
   "outputs": [
    {
     "data": {
      "text/plain": "                  receive_ts          exchange_ts aggro_side    price   size\n0        1655942402218452815  1655942402217000000        BID  1049.45  0.062\n1        1655942402624182869  1655942402623000000        BID  1049.45  0.726\n2        1655942402624767109  1655942402623000000        BID  1049.45  0.001\n3        1655942402626135583  1655942402623000000        ASK  1049.44  0.022\n4        1655942402627026454  1655942402624000000        BID  1049.45  0.005\n...                      ...                  ...        ...      ...    ...\n4873798  1656028780700723809  1656028780700000000        BID  1143.63  0.005\n4873799  1656028780953848112  1656028780953000000        ASK  1143.62  8.744\n4873800  1656028780991774028  1656028780991000000        BID  1143.63  0.066\n4873801  1656028781021533873  1656028781020000000        ASK  1143.62  0.174\n4873802  1656028781056247891  1656028781055000000        ASK  1143.62  1.000\n\n[4873803 rows x 5 columns]",
      "text/html": "<div>\n<style scoped>\n    .dataframe tbody tr th:only-of-type {\n        vertical-align: middle;\n    }\n\n    .dataframe tbody tr th {\n        vertical-align: top;\n    }\n\n    .dataframe thead th {\n        text-align: right;\n    }\n</style>\n<table border=\"1\" class=\"dataframe\">\n  <thead>\n    <tr style=\"text-align: right;\">\n      <th></th>\n      <th>receive_ts</th>\n      <th>exchange_ts</th>\n      <th>aggro_side</th>\n      <th>price</th>\n      <th>size</th>\n    </tr>\n  </thead>\n  <tbody>\n    <tr>\n      <th>0</th>\n      <td>1655942402218452815</td>\n      <td>1655942402217000000</td>\n      <td>BID</td>\n      <td>1049.45</td>\n      <td>0.062</td>\n    </tr>\n    <tr>\n      <th>1</th>\n      <td>1655942402624182869</td>\n      <td>1655942402623000000</td>\n      <td>BID</td>\n      <td>1049.45</td>\n      <td>0.726</td>\n    </tr>\n    <tr>\n      <th>2</th>\n      <td>1655942402624767109</td>\n      <td>1655942402623000000</td>\n      <td>BID</td>\n      <td>1049.45</td>\n      <td>0.001</td>\n    </tr>\n    <tr>\n      <th>3</th>\n      <td>1655942402626135583</td>\n      <td>1655942402623000000</td>\n      <td>ASK</td>\n      <td>1049.44</td>\n      <td>0.022</td>\n    </tr>\n    <tr>\n      <th>4</th>\n      <td>1655942402627026454</td>\n      <td>1655942402624000000</td>\n      <td>BID</td>\n      <td>1049.45</td>\n      <td>0.005</td>\n    </tr>\n    <tr>\n      <th>...</th>\n      <td>...</td>\n      <td>...</td>\n      <td>...</td>\n      <td>...</td>\n      <td>...</td>\n    </tr>\n    <tr>\n      <th>4873798</th>\n      <td>1656028780700723809</td>\n      <td>1656028780700000000</td>\n      <td>BID</td>\n      <td>1143.63</td>\n      <td>0.005</td>\n    </tr>\n    <tr>\n      <th>4873799</th>\n      <td>1656028780953848112</td>\n      <td>1656028780953000000</td>\n      <td>ASK</td>\n      <td>1143.62</td>\n      <td>8.744</td>\n    </tr>\n    <tr>\n      <th>4873800</th>\n      <td>1656028780991774028</td>\n      <td>1656028780991000000</td>\n      <td>BID</td>\n      <td>1143.63</td>\n      <td>0.066</td>\n    </tr>\n    <tr>\n      <th>4873801</th>\n      <td>1656028781021533873</td>\n      <td>1656028781020000000</td>\n      <td>ASK</td>\n      <td>1143.62</td>\n      <td>0.174</td>\n    </tr>\n    <tr>\n      <th>4873802</th>\n      <td>1656028781056247891</td>\n      <td>1656028781055000000</td>\n      <td>ASK</td>\n      <td>1143.62</td>\n      <td>1.000</td>\n    </tr>\n  </tbody>\n</table>\n<p>4873803 rows × 5 columns</p>\n</div>"
     },
     "execution_count": 3,
     "metadata": {},
     "output_type": "execute_result"
    }
   ],
   "source": [
    "trades = pd.read_csv(path_to_file + 'trades.csv')\n",
    "trades"
   ],
   "metadata": {
    "collapsed": false
   }
  },
  {
   "cell_type": "code",
   "execution_count": 4,
   "outputs": [
    {
     "data": {
      "text/plain": "                  receive_ts          exchange_ts aggro_side    price   size\n0        1655942402218452815  1655942402217000000        BID  1049.45  0.062\n1        1655942402624182869  1655942402623000000        BID  1049.45  0.726\n2        1655942402624767109  1655942402623000000        BID  1049.45  0.001\n3        1655942402626135583  1655942402623000000        ASK  1049.44  0.022\n4        1655942402627026454  1655942402624000000        BID  1049.45  0.005\n...                      ...                  ...        ...      ...    ...\n4873798  1656028780700723809  1656028780700000000        BID  1143.63  0.005\n4873799  1656028780953848112  1656028780953000000        ASK  1143.62  8.744\n4873800  1656028780991774028  1656028780991000000        BID  1143.63  0.066\n4873801  1656028781021533873  1656028781020000000        ASK  1143.62  0.174\n4873802  1656028781056247891  1656028781055000000        ASK  1143.62  1.000\n\n[4873803 rows x 5 columns]",
      "text/html": "<div>\n<style scoped>\n    .dataframe tbody tr th:only-of-type {\n        vertical-align: middle;\n    }\n\n    .dataframe tbody tr th {\n        vertical-align: top;\n    }\n\n    .dataframe thead th {\n        text-align: right;\n    }\n</style>\n<table border=\"1\" class=\"dataframe\">\n  <thead>\n    <tr style=\"text-align: right;\">\n      <th></th>\n      <th>receive_ts</th>\n      <th>exchange_ts</th>\n      <th>aggro_side</th>\n      <th>price</th>\n      <th>size</th>\n    </tr>\n  </thead>\n  <tbody>\n    <tr>\n      <th>0</th>\n      <td>1655942402218452815</td>\n      <td>1655942402217000000</td>\n      <td>BID</td>\n      <td>1049.45</td>\n      <td>0.062</td>\n    </tr>\n    <tr>\n      <th>1</th>\n      <td>1655942402624182869</td>\n      <td>1655942402623000000</td>\n      <td>BID</td>\n      <td>1049.45</td>\n      <td>0.726</td>\n    </tr>\n    <tr>\n      <th>2</th>\n      <td>1655942402624767109</td>\n      <td>1655942402623000000</td>\n      <td>BID</td>\n      <td>1049.45</td>\n      <td>0.001</td>\n    </tr>\n    <tr>\n      <th>3</th>\n      <td>1655942402626135583</td>\n      <td>1655942402623000000</td>\n      <td>ASK</td>\n      <td>1049.44</td>\n      <td>0.022</td>\n    </tr>\n    <tr>\n      <th>4</th>\n      <td>1655942402627026454</td>\n      <td>1655942402624000000</td>\n      <td>BID</td>\n      <td>1049.45</td>\n      <td>0.005</td>\n    </tr>\n    <tr>\n      <th>...</th>\n      <td>...</td>\n      <td>...</td>\n      <td>...</td>\n      <td>...</td>\n      <td>...</td>\n    </tr>\n    <tr>\n      <th>4873798</th>\n      <td>1656028780700723809</td>\n      <td>1656028780700000000</td>\n      <td>BID</td>\n      <td>1143.63</td>\n      <td>0.005</td>\n    </tr>\n    <tr>\n      <th>4873799</th>\n      <td>1656028780953848112</td>\n      <td>1656028780953000000</td>\n      <td>ASK</td>\n      <td>1143.62</td>\n      <td>8.744</td>\n    </tr>\n    <tr>\n      <th>4873800</th>\n      <td>1656028780991774028</td>\n      <td>1656028780991000000</td>\n      <td>BID</td>\n      <td>1143.63</td>\n      <td>0.066</td>\n    </tr>\n    <tr>\n      <th>4873801</th>\n      <td>1656028781021533873</td>\n      <td>1656028781020000000</td>\n      <td>ASK</td>\n      <td>1143.62</td>\n      <td>0.174</td>\n    </tr>\n    <tr>\n      <th>4873802</th>\n      <td>1656028781056247891</td>\n      <td>1656028781055000000</td>\n      <td>ASK</td>\n      <td>1143.62</td>\n      <td>1.000</td>\n    </tr>\n  </tbody>\n</table>\n<p>4873803 rows × 5 columns</p>\n</div>"
     },
     "execution_count": 4,
     "metadata": {},
     "output_type": "execute_result"
    }
   ],
   "source": [
    "trades.index = list(trades.index)\n",
    "trades"
   ],
   "metadata": {
    "collapsed": false
   }
  },
  {
   "cell_type": "code",
   "execution_count": 5,
   "outputs": [
    {
     "data": {
      "text/plain": "                           receive_ts          exchange_ts aggro_side  \\\n0       2022-06-23 00:00:02.218452815  1655942402217000000        BID   \n1       2022-06-23 00:00:02.624182869  1655942402623000000        BID   \n2       2022-06-23 00:00:02.624767109  1655942402623000000        BID   \n3       2022-06-23 00:00:02.626135583  1655942402623000000        ASK   \n4       2022-06-23 00:00:02.627026454  1655942402624000000        BID   \n...                               ...                  ...        ...   \n4873798 2022-06-23 23:59:40.700723809  1656028780700000000        BID   \n4873799 2022-06-23 23:59:40.953848112  1656028780953000000        ASK   \n4873800 2022-06-23 23:59:40.991774028  1656028780991000000        BID   \n4873801 2022-06-23 23:59:41.021533873  1656028781020000000        ASK   \n4873802 2022-06-23 23:59:41.056247891  1656028781055000000        ASK   \n\n           price   size  \n0        1049.45  0.062  \n1        1049.45  0.726  \n2        1049.45  0.001  \n3        1049.44  0.022  \n4        1049.45  0.005  \n...          ...    ...  \n4873798  1143.63  0.005  \n4873799  1143.62  8.744  \n4873800  1143.63  0.066  \n4873801  1143.62  0.174  \n4873802  1143.62  1.000  \n\n[4873803 rows x 5 columns]",
      "text/html": "<div>\n<style scoped>\n    .dataframe tbody tr th:only-of-type {\n        vertical-align: middle;\n    }\n\n    .dataframe tbody tr th {\n        vertical-align: top;\n    }\n\n    .dataframe thead th {\n        text-align: right;\n    }\n</style>\n<table border=\"1\" class=\"dataframe\">\n  <thead>\n    <tr style=\"text-align: right;\">\n      <th></th>\n      <th>receive_ts</th>\n      <th>exchange_ts</th>\n      <th>aggro_side</th>\n      <th>price</th>\n      <th>size</th>\n    </tr>\n  </thead>\n  <tbody>\n    <tr>\n      <th>0</th>\n      <td>2022-06-23 00:00:02.218452815</td>\n      <td>1655942402217000000</td>\n      <td>BID</td>\n      <td>1049.45</td>\n      <td>0.062</td>\n    </tr>\n    <tr>\n      <th>1</th>\n      <td>2022-06-23 00:00:02.624182869</td>\n      <td>1655942402623000000</td>\n      <td>BID</td>\n      <td>1049.45</td>\n      <td>0.726</td>\n    </tr>\n    <tr>\n      <th>2</th>\n      <td>2022-06-23 00:00:02.624767109</td>\n      <td>1655942402623000000</td>\n      <td>BID</td>\n      <td>1049.45</td>\n      <td>0.001</td>\n    </tr>\n    <tr>\n      <th>3</th>\n      <td>2022-06-23 00:00:02.626135583</td>\n      <td>1655942402623000000</td>\n      <td>ASK</td>\n      <td>1049.44</td>\n      <td>0.022</td>\n    </tr>\n    <tr>\n      <th>4</th>\n      <td>2022-06-23 00:00:02.627026454</td>\n      <td>1655942402624000000</td>\n      <td>BID</td>\n      <td>1049.45</td>\n      <td>0.005</td>\n    </tr>\n    <tr>\n      <th>...</th>\n      <td>...</td>\n      <td>...</td>\n      <td>...</td>\n      <td>...</td>\n      <td>...</td>\n    </tr>\n    <tr>\n      <th>4873798</th>\n      <td>2022-06-23 23:59:40.700723809</td>\n      <td>1656028780700000000</td>\n      <td>BID</td>\n      <td>1143.63</td>\n      <td>0.005</td>\n    </tr>\n    <tr>\n      <th>4873799</th>\n      <td>2022-06-23 23:59:40.953848112</td>\n      <td>1656028780953000000</td>\n      <td>ASK</td>\n      <td>1143.62</td>\n      <td>8.744</td>\n    </tr>\n    <tr>\n      <th>4873800</th>\n      <td>2022-06-23 23:59:40.991774028</td>\n      <td>1656028780991000000</td>\n      <td>BID</td>\n      <td>1143.63</td>\n      <td>0.066</td>\n    </tr>\n    <tr>\n      <th>4873801</th>\n      <td>2022-06-23 23:59:41.021533873</td>\n      <td>1656028781020000000</td>\n      <td>ASK</td>\n      <td>1143.62</td>\n      <td>0.174</td>\n    </tr>\n    <tr>\n      <th>4873802</th>\n      <td>2022-06-23 23:59:41.056247891</td>\n      <td>1656028781055000000</td>\n      <td>ASK</td>\n      <td>1143.62</td>\n      <td>1.000</td>\n    </tr>\n  </tbody>\n</table>\n<p>4873803 rows × 5 columns</p>\n</div>"
     },
     "execution_count": 5,
     "metadata": {},
     "output_type": "execute_result"
    }
   ],
   "source": [
    "trades['receive_ts'] = pd.to_datetime(trades['receive_ts'])\n",
    "trades"
   ],
   "metadata": {
    "collapsed": false
   }
  },
  {
   "cell_type": "code",
   "execution_count": 6,
   "outputs": [
    {
     "data": {
      "text/plain": "                           receive_ts          exchange_ts aggro_side  \\\n0       2022-06-23 00:00:02.218452815  1655942402217000000        BID   \n1       2022-06-23 00:00:02.624182869  1655942402623000000        BID   \n2       2022-06-23 00:00:02.624767109  1655942402623000000        BID   \n3       2022-06-23 00:00:02.626135583  1655942402623000000        ASK   \n4       2022-06-23 00:00:02.627026454  1655942402624000000        BID   \n...                               ...                  ...        ...   \n4873798 2022-06-23 23:59:40.700723809  1656028780700000000        BID   \n4873799 2022-06-23 23:59:40.953848112  1656028780953000000        ASK   \n4873800 2022-06-23 23:59:40.991774028  1656028780991000000        BID   \n4873801 2022-06-23 23:59:41.021533873  1656028781020000000        ASK   \n4873802 2022-06-23 23:59:41.056247891  1656028781055000000        ASK   \n\n           price   size  supporting: size_cumsum  \n0        1049.45  0.062             6.200000e-02  \n1        1049.45  0.726             7.880000e-01  \n2        1049.45  0.001             7.890000e-01  \n3        1049.44  0.022             8.110000e-01  \n4        1049.45  0.005             8.160000e-01  \n...          ...    ...                      ...  \n4873798  1143.63  0.005             5.945410e+06  \n4873799  1143.62  8.744             5.945419e+06  \n4873800  1143.63  0.066             5.945419e+06  \n4873801  1143.62  0.174             5.945419e+06  \n4873802  1143.62  1.000             5.945420e+06  \n\n[4873803 rows x 6 columns]",
      "text/html": "<div>\n<style scoped>\n    .dataframe tbody tr th:only-of-type {\n        vertical-align: middle;\n    }\n\n    .dataframe tbody tr th {\n        vertical-align: top;\n    }\n\n    .dataframe thead th {\n        text-align: right;\n    }\n</style>\n<table border=\"1\" class=\"dataframe\">\n  <thead>\n    <tr style=\"text-align: right;\">\n      <th></th>\n      <th>receive_ts</th>\n      <th>exchange_ts</th>\n      <th>aggro_side</th>\n      <th>price</th>\n      <th>size</th>\n      <th>supporting: size_cumsum</th>\n    </tr>\n  </thead>\n  <tbody>\n    <tr>\n      <th>0</th>\n      <td>2022-06-23 00:00:02.218452815</td>\n      <td>1655942402217000000</td>\n      <td>BID</td>\n      <td>1049.45</td>\n      <td>0.062</td>\n      <td>6.200000e-02</td>\n    </tr>\n    <tr>\n      <th>1</th>\n      <td>2022-06-23 00:00:02.624182869</td>\n      <td>1655942402623000000</td>\n      <td>BID</td>\n      <td>1049.45</td>\n      <td>0.726</td>\n      <td>7.880000e-01</td>\n    </tr>\n    <tr>\n      <th>2</th>\n      <td>2022-06-23 00:00:02.624767109</td>\n      <td>1655942402623000000</td>\n      <td>BID</td>\n      <td>1049.45</td>\n      <td>0.001</td>\n      <td>7.890000e-01</td>\n    </tr>\n    <tr>\n      <th>3</th>\n      <td>2022-06-23 00:00:02.626135583</td>\n      <td>1655942402623000000</td>\n      <td>ASK</td>\n      <td>1049.44</td>\n      <td>0.022</td>\n      <td>8.110000e-01</td>\n    </tr>\n    <tr>\n      <th>4</th>\n      <td>2022-06-23 00:00:02.627026454</td>\n      <td>1655942402624000000</td>\n      <td>BID</td>\n      <td>1049.45</td>\n      <td>0.005</td>\n      <td>8.160000e-01</td>\n    </tr>\n    <tr>\n      <th>...</th>\n      <td>...</td>\n      <td>...</td>\n      <td>...</td>\n      <td>...</td>\n      <td>...</td>\n      <td>...</td>\n    </tr>\n    <tr>\n      <th>4873798</th>\n      <td>2022-06-23 23:59:40.700723809</td>\n      <td>1656028780700000000</td>\n      <td>BID</td>\n      <td>1143.63</td>\n      <td>0.005</td>\n      <td>5.945410e+06</td>\n    </tr>\n    <tr>\n      <th>4873799</th>\n      <td>2022-06-23 23:59:40.953848112</td>\n      <td>1656028780953000000</td>\n      <td>ASK</td>\n      <td>1143.62</td>\n      <td>8.744</td>\n      <td>5.945419e+06</td>\n    </tr>\n    <tr>\n      <th>4873800</th>\n      <td>2022-06-23 23:59:40.991774028</td>\n      <td>1656028780991000000</td>\n      <td>BID</td>\n      <td>1143.63</td>\n      <td>0.066</td>\n      <td>5.945419e+06</td>\n    </tr>\n    <tr>\n      <th>4873801</th>\n      <td>2022-06-23 23:59:41.021533873</td>\n      <td>1656028781020000000</td>\n      <td>ASK</td>\n      <td>1143.62</td>\n      <td>0.174</td>\n      <td>5.945419e+06</td>\n    </tr>\n    <tr>\n      <th>4873802</th>\n      <td>2022-06-23 23:59:41.056247891</td>\n      <td>1656028781055000000</td>\n      <td>ASK</td>\n      <td>1143.62</td>\n      <td>1.000</td>\n      <td>5.945420e+06</td>\n    </tr>\n  </tbody>\n</table>\n<p>4873803 rows × 6 columns</p>\n</div>"
     },
     "execution_count": 6,
     "metadata": {},
     "output_type": "execute_result"
    }
   ],
   "source": [
    "trades['supporting: size_cumsum'] = trades['size'].cumsum()\n",
    "trades"
   ],
   "metadata": {
    "collapsed": false
   }
  },
  {
   "cell_type": "code",
   "execution_count": 7,
   "outputs": [
    {
     "data": {
      "text/plain": "                           receive_ts          exchange_ts aggro_side  \\\n0       2022-06-23 00:00:02.218452815  1655942402217000000        BID   \n1       2022-06-23 00:00:02.624182869  1655942402623000000        BID   \n2       2022-06-23 00:00:02.624767109  1655942402623000000        BID   \n3       2022-06-23 00:00:02.626135583  1655942402623000000        ASK   \n4       2022-06-23 00:00:02.627026454  1655942402624000000        BID   \n...                               ...                  ...        ...   \n4873798 2022-06-23 23:59:40.700723809  1656028780700000000        BID   \n4873799 2022-06-23 23:59:40.953848112  1656028780953000000        ASK   \n4873800 2022-06-23 23:59:40.991774028  1656028780991000000        BID   \n4873801 2022-06-23 23:59:41.021533873  1656028781020000000        ASK   \n4873802 2022-06-23 23:59:41.056247891  1656028781055000000        ASK   \n\n           price   size  supporting: size_cumsum  supporting: 1_sec_before  \n0        1049.45  0.062             6.200000e-02                         0  \n1        1049.45  0.726             7.880000e-01                         0  \n2        1049.45  0.001             7.890000e-01                         0  \n3        1049.44  0.022             8.110000e-01                         0  \n4        1049.45  0.005             8.160000e-01                         0  \n...          ...    ...                      ...                       ...  \n4873798  1143.63  0.005             5.945410e+06                   4873742  \n4873799  1143.62  8.744             5.945419e+06                   4873743  \n4873800  1143.63  0.066             5.945419e+06                   4873743  \n4873801  1143.62  0.174             5.945419e+06                   4873743  \n4873802  1143.62  1.000             5.945420e+06                   4873743  \n\n[4873803 rows x 7 columns]",
      "text/html": "<div>\n<style scoped>\n    .dataframe tbody tr th:only-of-type {\n        vertical-align: middle;\n    }\n\n    .dataframe tbody tr th {\n        vertical-align: top;\n    }\n\n    .dataframe thead th {\n        text-align: right;\n    }\n</style>\n<table border=\"1\" class=\"dataframe\">\n  <thead>\n    <tr style=\"text-align: right;\">\n      <th></th>\n      <th>receive_ts</th>\n      <th>exchange_ts</th>\n      <th>aggro_side</th>\n      <th>price</th>\n      <th>size</th>\n      <th>supporting: size_cumsum</th>\n      <th>supporting: 1_sec_before</th>\n    </tr>\n  </thead>\n  <tbody>\n    <tr>\n      <th>0</th>\n      <td>2022-06-23 00:00:02.218452815</td>\n      <td>1655942402217000000</td>\n      <td>BID</td>\n      <td>1049.45</td>\n      <td>0.062</td>\n      <td>6.200000e-02</td>\n      <td>0</td>\n    </tr>\n    <tr>\n      <th>1</th>\n      <td>2022-06-23 00:00:02.624182869</td>\n      <td>1655942402623000000</td>\n      <td>BID</td>\n      <td>1049.45</td>\n      <td>0.726</td>\n      <td>7.880000e-01</td>\n      <td>0</td>\n    </tr>\n    <tr>\n      <th>2</th>\n      <td>2022-06-23 00:00:02.624767109</td>\n      <td>1655942402623000000</td>\n      <td>BID</td>\n      <td>1049.45</td>\n      <td>0.001</td>\n      <td>7.890000e-01</td>\n      <td>0</td>\n    </tr>\n    <tr>\n      <th>3</th>\n      <td>2022-06-23 00:00:02.626135583</td>\n      <td>1655942402623000000</td>\n      <td>ASK</td>\n      <td>1049.44</td>\n      <td>0.022</td>\n      <td>8.110000e-01</td>\n      <td>0</td>\n    </tr>\n    <tr>\n      <th>4</th>\n      <td>2022-06-23 00:00:02.627026454</td>\n      <td>1655942402624000000</td>\n      <td>BID</td>\n      <td>1049.45</td>\n      <td>0.005</td>\n      <td>8.160000e-01</td>\n      <td>0</td>\n    </tr>\n    <tr>\n      <th>...</th>\n      <td>...</td>\n      <td>...</td>\n      <td>...</td>\n      <td>...</td>\n      <td>...</td>\n      <td>...</td>\n      <td>...</td>\n    </tr>\n    <tr>\n      <th>4873798</th>\n      <td>2022-06-23 23:59:40.700723809</td>\n      <td>1656028780700000000</td>\n      <td>BID</td>\n      <td>1143.63</td>\n      <td>0.005</td>\n      <td>5.945410e+06</td>\n      <td>4873742</td>\n    </tr>\n    <tr>\n      <th>4873799</th>\n      <td>2022-06-23 23:59:40.953848112</td>\n      <td>1656028780953000000</td>\n      <td>ASK</td>\n      <td>1143.62</td>\n      <td>8.744</td>\n      <td>5.945419e+06</td>\n      <td>4873743</td>\n    </tr>\n    <tr>\n      <th>4873800</th>\n      <td>2022-06-23 23:59:40.991774028</td>\n      <td>1656028780991000000</td>\n      <td>BID</td>\n      <td>1143.63</td>\n      <td>0.066</td>\n      <td>5.945419e+06</td>\n      <td>4873743</td>\n    </tr>\n    <tr>\n      <th>4873801</th>\n      <td>2022-06-23 23:59:41.021533873</td>\n      <td>1656028781020000000</td>\n      <td>ASK</td>\n      <td>1143.62</td>\n      <td>0.174</td>\n      <td>5.945419e+06</td>\n      <td>4873743</td>\n    </tr>\n    <tr>\n      <th>4873802</th>\n      <td>2022-06-23 23:59:41.056247891</td>\n      <td>1656028781055000000</td>\n      <td>ASK</td>\n      <td>1143.62</td>\n      <td>1.000</td>\n      <td>5.945420e+06</td>\n      <td>4873743</td>\n    </tr>\n  </tbody>\n</table>\n<p>4873803 rows × 7 columns</p>\n</div>"
     },
     "execution_count": 7,
     "metadata": {},
     "output_type": "execute_result"
    }
   ],
   "source": [
    "trades['supporting: 1_sec_before'] = trades['receive_ts'].searchsorted(trades['receive_ts'] - datetime.timedelta(seconds=1))\n",
    "trades"
   ],
   "metadata": {
    "collapsed": false
   }
  },
  {
   "cell_type": "code",
   "execution_count": 8,
   "outputs": [
    {
     "data": {
      "text/plain": "                           receive_ts          exchange_ts aggro_side  \\\n0       2022-06-23 00:00:02.218452815  1655942402217000000        BID   \n1       2022-06-23 00:00:02.624182869  1655942402623000000        BID   \n2       2022-06-23 00:00:02.624767109  1655942402623000000        BID   \n3       2022-06-23 00:00:02.626135583  1655942402623000000        ASK   \n4       2022-06-23 00:00:02.627026454  1655942402624000000        BID   \n...                               ...                  ...        ...   \n4873798 2022-06-23 23:59:40.700723809  1656028780700000000        BID   \n4873799 2022-06-23 23:59:40.953848112  1656028780953000000        ASK   \n4873800 2022-06-23 23:59:40.991774028  1656028780991000000        BID   \n4873801 2022-06-23 23:59:41.021533873  1656028781020000000        ASK   \n4873802 2022-06-23 23:59:41.056247891  1656028781055000000        ASK   \n\n           price   size  supporting: size_cumsum  supporting: 1_sec_before  \\\n0        1049.45  0.062             6.200000e-02                         0   \n1        1049.45  0.726             7.880000e-01                         0   \n2        1049.45  0.001             7.890000e-01                         0   \n3        1049.44  0.022             8.110000e-01                         0   \n4        1049.45  0.005             8.160000e-01                         0   \n...          ...    ...                      ...                       ...   \n4873798  1143.63  0.005             5.945410e+06                   4873742   \n4873799  1143.62  8.744             5.945419e+06                   4873743   \n4873800  1143.63  0.066             5.945419e+06                   4873743   \n4873801  1143.62  0.174             5.945419e+06                   4873743   \n4873802  1143.62  1.000             5.945420e+06                   4873743   \n\n         supporting: cs_1_sec_before  \n0                       6.200000e-02  \n1                       6.200000e-02  \n2                       6.200000e-02  \n3                       6.200000e-02  \n4                       6.200000e-02  \n...                              ...  \n4873798                 5.945387e+06  \n4873799                 5.945387e+06  \n4873800                 5.945387e+06  \n4873801                 5.945387e+06  \n4873802                 5.945387e+06  \n\n[4873803 rows x 8 columns]",
      "text/html": "<div>\n<style scoped>\n    .dataframe tbody tr th:only-of-type {\n        vertical-align: middle;\n    }\n\n    .dataframe tbody tr th {\n        vertical-align: top;\n    }\n\n    .dataframe thead th {\n        text-align: right;\n    }\n</style>\n<table border=\"1\" class=\"dataframe\">\n  <thead>\n    <tr style=\"text-align: right;\">\n      <th></th>\n      <th>receive_ts</th>\n      <th>exchange_ts</th>\n      <th>aggro_side</th>\n      <th>price</th>\n      <th>size</th>\n      <th>supporting: size_cumsum</th>\n      <th>supporting: 1_sec_before</th>\n      <th>supporting: cs_1_sec_before</th>\n    </tr>\n  </thead>\n  <tbody>\n    <tr>\n      <th>0</th>\n      <td>2022-06-23 00:00:02.218452815</td>\n      <td>1655942402217000000</td>\n      <td>BID</td>\n      <td>1049.45</td>\n      <td>0.062</td>\n      <td>6.200000e-02</td>\n      <td>0</td>\n      <td>6.200000e-02</td>\n    </tr>\n    <tr>\n      <th>1</th>\n      <td>2022-06-23 00:00:02.624182869</td>\n      <td>1655942402623000000</td>\n      <td>BID</td>\n      <td>1049.45</td>\n      <td>0.726</td>\n      <td>7.880000e-01</td>\n      <td>0</td>\n      <td>6.200000e-02</td>\n    </tr>\n    <tr>\n      <th>2</th>\n      <td>2022-06-23 00:00:02.624767109</td>\n      <td>1655942402623000000</td>\n      <td>BID</td>\n      <td>1049.45</td>\n      <td>0.001</td>\n      <td>7.890000e-01</td>\n      <td>0</td>\n      <td>6.200000e-02</td>\n    </tr>\n    <tr>\n      <th>3</th>\n      <td>2022-06-23 00:00:02.626135583</td>\n      <td>1655942402623000000</td>\n      <td>ASK</td>\n      <td>1049.44</td>\n      <td>0.022</td>\n      <td>8.110000e-01</td>\n      <td>0</td>\n      <td>6.200000e-02</td>\n    </tr>\n    <tr>\n      <th>4</th>\n      <td>2022-06-23 00:00:02.627026454</td>\n      <td>1655942402624000000</td>\n      <td>BID</td>\n      <td>1049.45</td>\n      <td>0.005</td>\n      <td>8.160000e-01</td>\n      <td>0</td>\n      <td>6.200000e-02</td>\n    </tr>\n    <tr>\n      <th>...</th>\n      <td>...</td>\n      <td>...</td>\n      <td>...</td>\n      <td>...</td>\n      <td>...</td>\n      <td>...</td>\n      <td>...</td>\n      <td>...</td>\n    </tr>\n    <tr>\n      <th>4873798</th>\n      <td>2022-06-23 23:59:40.700723809</td>\n      <td>1656028780700000000</td>\n      <td>BID</td>\n      <td>1143.63</td>\n      <td>0.005</td>\n      <td>5.945410e+06</td>\n      <td>4873742</td>\n      <td>5.945387e+06</td>\n    </tr>\n    <tr>\n      <th>4873799</th>\n      <td>2022-06-23 23:59:40.953848112</td>\n      <td>1656028780953000000</td>\n      <td>ASK</td>\n      <td>1143.62</td>\n      <td>8.744</td>\n      <td>5.945419e+06</td>\n      <td>4873743</td>\n      <td>5.945387e+06</td>\n    </tr>\n    <tr>\n      <th>4873800</th>\n      <td>2022-06-23 23:59:40.991774028</td>\n      <td>1656028780991000000</td>\n      <td>BID</td>\n      <td>1143.63</td>\n      <td>0.066</td>\n      <td>5.945419e+06</td>\n      <td>4873743</td>\n      <td>5.945387e+06</td>\n    </tr>\n    <tr>\n      <th>4873801</th>\n      <td>2022-06-23 23:59:41.021533873</td>\n      <td>1656028781020000000</td>\n      <td>ASK</td>\n      <td>1143.62</td>\n      <td>0.174</td>\n      <td>5.945419e+06</td>\n      <td>4873743</td>\n      <td>5.945387e+06</td>\n    </tr>\n    <tr>\n      <th>4873802</th>\n      <td>2022-06-23 23:59:41.056247891</td>\n      <td>1656028781055000000</td>\n      <td>ASK</td>\n      <td>1143.62</td>\n      <td>1.000</td>\n      <td>5.945420e+06</td>\n      <td>4873743</td>\n      <td>5.945387e+06</td>\n    </tr>\n  </tbody>\n</table>\n<p>4873803 rows × 8 columns</p>\n</div>"
     },
     "execution_count": 8,
     "metadata": {},
     "output_type": "execute_result"
    }
   ],
   "source": [
    "dct = dict(zip(trades.index, trades['supporting: size_cumsum']))\n",
    "trades['supporting: cs_1_sec_before'] = trades['supporting: 1_sec_before'].map(dct)\n",
    "trades"
   ],
   "metadata": {
    "collapsed": false
   }
  },
  {
   "cell_type": "code",
   "execution_count": 9,
   "outputs": [
    {
     "data": {
      "text/plain": "                           receive_ts          exchange_ts aggro_side  \\\n0       2022-06-23 00:00:02.218452815  1655942402217000000        BID   \n1       2022-06-23 00:00:02.624182869  1655942402623000000        BID   \n2       2022-06-23 00:00:02.624767109  1655942402623000000        BID   \n3       2022-06-23 00:00:02.626135583  1655942402623000000        ASK   \n4       2022-06-23 00:00:02.627026454  1655942402624000000        BID   \n...                               ...                  ...        ...   \n4873798 2022-06-23 23:59:40.700723809  1656028780700000000        BID   \n4873799 2022-06-23 23:59:40.953848112  1656028780953000000        ASK   \n4873800 2022-06-23 23:59:40.991774028  1656028780991000000        BID   \n4873801 2022-06-23 23:59:41.021533873  1656028781020000000        ASK   \n4873802 2022-06-23 23:59:41.056247891  1656028781055000000        ASK   \n\n           price   size  supporting: size_cumsum  supporting: 1_sec_before  \\\n0        1049.45  0.062             6.200000e-02                         0   \n1        1049.45  0.726             7.880000e-01                         0   \n2        1049.45  0.001             7.890000e-01                         0   \n3        1049.44  0.022             8.110000e-01                         0   \n4        1049.45  0.005             8.160000e-01                         0   \n...          ...    ...                      ...                       ...   \n4873798  1143.63  0.005             5.945410e+06                   4873742   \n4873799  1143.62  8.744             5.945419e+06                   4873743   \n4873800  1143.63  0.066             5.945419e+06                   4873743   \n4873801  1143.62  0.174             5.945419e+06                   4873743   \n4873802  1143.62  1.000             5.945420e+06                   4873743   \n\n         supporting: cs_1_sec_before  order_intensity  \n0                       6.200000e-02            0.000  \n1                       6.200000e-02            0.726  \n2                       6.200000e-02            0.727  \n3                       6.200000e-02            0.749  \n4                       6.200000e-02            0.754  \n...                              ...              ...  \n4873798                 5.945387e+06           23.030  \n4873799                 5.945387e+06           31.754  \n4873800                 5.945387e+06           31.820  \n4873801                 5.945387e+06           31.994  \n4873802                 5.945387e+06           32.994  \n\n[4873803 rows x 9 columns]",
      "text/html": "<div>\n<style scoped>\n    .dataframe tbody tr th:only-of-type {\n        vertical-align: middle;\n    }\n\n    .dataframe tbody tr th {\n        vertical-align: top;\n    }\n\n    .dataframe thead th {\n        text-align: right;\n    }\n</style>\n<table border=\"1\" class=\"dataframe\">\n  <thead>\n    <tr style=\"text-align: right;\">\n      <th></th>\n      <th>receive_ts</th>\n      <th>exchange_ts</th>\n      <th>aggro_side</th>\n      <th>price</th>\n      <th>size</th>\n      <th>supporting: size_cumsum</th>\n      <th>supporting: 1_sec_before</th>\n      <th>supporting: cs_1_sec_before</th>\n      <th>order_intensity</th>\n    </tr>\n  </thead>\n  <tbody>\n    <tr>\n      <th>0</th>\n      <td>2022-06-23 00:00:02.218452815</td>\n      <td>1655942402217000000</td>\n      <td>BID</td>\n      <td>1049.45</td>\n      <td>0.062</td>\n      <td>6.200000e-02</td>\n      <td>0</td>\n      <td>6.200000e-02</td>\n      <td>0.000</td>\n    </tr>\n    <tr>\n      <th>1</th>\n      <td>2022-06-23 00:00:02.624182869</td>\n      <td>1655942402623000000</td>\n      <td>BID</td>\n      <td>1049.45</td>\n      <td>0.726</td>\n      <td>7.880000e-01</td>\n      <td>0</td>\n      <td>6.200000e-02</td>\n      <td>0.726</td>\n    </tr>\n    <tr>\n      <th>2</th>\n      <td>2022-06-23 00:00:02.624767109</td>\n      <td>1655942402623000000</td>\n      <td>BID</td>\n      <td>1049.45</td>\n      <td>0.001</td>\n      <td>7.890000e-01</td>\n      <td>0</td>\n      <td>6.200000e-02</td>\n      <td>0.727</td>\n    </tr>\n    <tr>\n      <th>3</th>\n      <td>2022-06-23 00:00:02.626135583</td>\n      <td>1655942402623000000</td>\n      <td>ASK</td>\n      <td>1049.44</td>\n      <td>0.022</td>\n      <td>8.110000e-01</td>\n      <td>0</td>\n      <td>6.200000e-02</td>\n      <td>0.749</td>\n    </tr>\n    <tr>\n      <th>4</th>\n      <td>2022-06-23 00:00:02.627026454</td>\n      <td>1655942402624000000</td>\n      <td>BID</td>\n      <td>1049.45</td>\n      <td>0.005</td>\n      <td>8.160000e-01</td>\n      <td>0</td>\n      <td>6.200000e-02</td>\n      <td>0.754</td>\n    </tr>\n    <tr>\n      <th>...</th>\n      <td>...</td>\n      <td>...</td>\n      <td>...</td>\n      <td>...</td>\n      <td>...</td>\n      <td>...</td>\n      <td>...</td>\n      <td>...</td>\n      <td>...</td>\n    </tr>\n    <tr>\n      <th>4873798</th>\n      <td>2022-06-23 23:59:40.700723809</td>\n      <td>1656028780700000000</td>\n      <td>BID</td>\n      <td>1143.63</td>\n      <td>0.005</td>\n      <td>5.945410e+06</td>\n      <td>4873742</td>\n      <td>5.945387e+06</td>\n      <td>23.030</td>\n    </tr>\n    <tr>\n      <th>4873799</th>\n      <td>2022-06-23 23:59:40.953848112</td>\n      <td>1656028780953000000</td>\n      <td>ASK</td>\n      <td>1143.62</td>\n      <td>8.744</td>\n      <td>5.945419e+06</td>\n      <td>4873743</td>\n      <td>5.945387e+06</td>\n      <td>31.754</td>\n    </tr>\n    <tr>\n      <th>4873800</th>\n      <td>2022-06-23 23:59:40.991774028</td>\n      <td>1656028780991000000</td>\n      <td>BID</td>\n      <td>1143.63</td>\n      <td>0.066</td>\n      <td>5.945419e+06</td>\n      <td>4873743</td>\n      <td>5.945387e+06</td>\n      <td>31.820</td>\n    </tr>\n    <tr>\n      <th>4873801</th>\n      <td>2022-06-23 23:59:41.021533873</td>\n      <td>1656028781020000000</td>\n      <td>ASK</td>\n      <td>1143.62</td>\n      <td>0.174</td>\n      <td>5.945419e+06</td>\n      <td>4873743</td>\n      <td>5.945387e+06</td>\n      <td>31.994</td>\n    </tr>\n    <tr>\n      <th>4873802</th>\n      <td>2022-06-23 23:59:41.056247891</td>\n      <td>1656028781055000000</td>\n      <td>ASK</td>\n      <td>1143.62</td>\n      <td>1.000</td>\n      <td>5.945420e+06</td>\n      <td>4873743</td>\n      <td>5.945387e+06</td>\n      <td>32.994</td>\n    </tr>\n  </tbody>\n</table>\n<p>4873803 rows × 9 columns</p>\n</div>"
     },
     "execution_count": 9,
     "metadata": {},
     "output_type": "execute_result"
    }
   ],
   "source": [
    "trades['order_intensity'] = trades['supporting: size_cumsum'] - trades['supporting: cs_1_sec_before']\n",
    "trades"
   ],
   "metadata": {
    "collapsed": false
   }
  },
  {
   "cell_type": "code",
   "execution_count": 10,
   "outputs": [],
   "source": [
    "lobs = pd.read_csv(path_to_file + 'lobs.csv')"
   ],
   "metadata": {
    "collapsed": false
   }
  },
  {
   "cell_type": "code",
   "execution_count": 11,
   "outputs": [
    {
     "data": {
      "text/plain": "                  receive_ts          exchange_ts  \\\n0        1655942402250395360  1655942402249000000   \n1        1655942402656012600  1655942402655000000   \n2        1655942403348658915  1655942403348000000   \n3        1655942404080743828  1655942404080000000   \n4        1655942404151722232  1655942404151000000   \n...                      ...                  ...   \n2539694  1656028781406860422  1656028781406000000   \n2539695  1656028781441496250  1656028781441000000   \n2539696  1656028781474705210  1656028781474000000   \n2539697  1656028781508489746  1656028781508000000   \n2539698  1656028781540611339  1656028781540000000   \n\n         ethusdt:Binance:LinearPerpetual_ask_price_0  \\\n0                                            1049.45   \n1                                            1049.45   \n2                                            1049.45   \n3                                            1049.45   \n4                                            1049.45   \n...                                              ...   \n2539694                                      1143.63   \n2539695                                      1143.63   \n2539696                                      1143.63   \n2539697                                      1143.63   \n2539698                                      1143.63   \n\n         ethusdt:Binance:LinearPerpetual_ask_vol_0  \\\n0                                            1.046   \n1                                            0.314   \n2                                            0.314   \n3                                            0.314   \n4                                            0.314   \n...                                            ...   \n2539694                                     19.992   \n2539695                                     19.992   \n2539696                                     19.992   \n2539697                                     20.026   \n2539698                                     20.026   \n\n         ethusdt:Binance:LinearPerpetual_bid_price_0  \\\n0                                            1049.44   \n1                                            1049.44   \n2                                            1049.44   \n3                                            1049.44   \n4                                            1049.44   \n...                                              ...   \n2539694                                      1143.62   \n2539695                                      1143.62   \n2539696                                      1143.62   \n2539697                                      1143.62   \n2539698                                      1143.62   \n\n         ethusdt:Binance:LinearPerpetual_bid_vol_0  \\\n0                                            0.782   \n1                                           19.860   \n2                                           19.860   \n3                                           19.860   \n4                                           19.860   \n...                                            ...   \n2539694                                     23.868   \n2539695                                     23.868   \n2539696                                     23.868   \n2539697                                     23.868   \n2539698                                     23.868   \n\n         ethusdt:Binance:LinearPerpetual_ask_price_1  \\\n0                                            1049.46   \n1                                            1049.46   \n2                                            1049.46   \n3                                            1049.46   \n4                                            1049.46   \n...                                              ...   \n2539694                                      1143.67   \n2539695                                      1143.67   \n2539696                                      1143.67   \n2539697                                      1143.67   \n2539698                                      1143.67   \n\n         ethusdt:Binance:LinearPerpetual_ask_vol_1  \\\n0                                            2.229   \n1                                            2.243   \n2                                            2.243   \n3                                            2.243   \n4                                            2.243   \n...                                            ...   \n2539694                                      2.348   \n2539695                                      2.348   \n2539696                                      2.348   \n2539697                                      2.348   \n2539698                                      2.348   \n\n         ethusdt:Binance:LinearPerpetual_bid_price_1  \\\n0                                            1049.43   \n1                                            1049.43   \n2                                            1049.43   \n3                                            1049.43   \n4                                            1049.43   \n...                                              ...   \n2539694                                      1143.61   \n2539695                                      1143.61   \n2539696                                      1143.61   \n2539697                                      1143.61   \n2539698                                      1143.61   \n\n         ethusdt:Binance:LinearPerpetual_bid_vol_1  ...  \\\n0                                             5.00  ...   \n1                                             5.00  ...   \n2                                             5.00  ...   \n3                                             5.00  ...   \n4                                             5.00  ...   \n...                                            ...  ...   \n2539694                                       4.35  ...   \n2539695                                       4.35  ...   \n2539696                                       4.35  ...   \n2539697                                       4.35  ...   \n2539698                                       4.35  ...   \n\n         ethusdt:Binance:LinearPerpetual_bid_price_7  \\\n0                                            1049.31   \n1                                            1049.31   \n2                                            1049.31   \n3                                            1049.31   \n4                                            1049.31   \n...                                              ...   \n2539694                                      1143.50   \n2539695                                      1143.50   \n2539696                                      1143.50   \n2539697                                      1143.50   \n2539698                                      1143.50   \n\n         ethusdt:Binance:LinearPerpetual_bid_vol_7  \\\n0                                            7.495   \n1                                            7.495   \n2                                            7.495   \n3                                            7.495   \n4                                            7.495   \n...                                            ...   \n2539694                                      0.016   \n2539695                                      0.016   \n2539696                                      0.016   \n2539697                                      0.016   \n2539698                                      0.016   \n\n         ethusdt:Binance:LinearPerpetual_ask_price_8  \\\n0                                            1049.53   \n1                                            1049.53   \n2                                            1049.53   \n3                                            1049.53   \n4                                            1049.53   \n...                                              ...   \n2539694                                      1143.78   \n2539695                                      1143.78   \n2539696                                      1143.78   \n2539697                                      1143.78   \n2539698                                      1143.78   \n\n         ethusdt:Binance:LinearPerpetual_ask_vol_8  \\\n0                                            2.229   \n1                                            2.229   \n2                                            2.229   \n3                                            2.229   \n4                                            2.229   \n...                                            ...   \n2539694                                      4.445   \n2539695                                      4.445   \n2539696                                      4.445   \n2539697                                      4.445   \n2539698                                      4.445   \n\n         ethusdt:Binance:LinearPerpetual_bid_price_8  \\\n0                                            1049.30   \n1                                            1049.30   \n2                                            1049.30   \n3                                            1049.30   \n4                                            1049.30   \n...                                              ...   \n2539694                                      1143.49   \n2539695                                      1143.49   \n2539696                                      1143.49   \n2539697                                      1143.49   \n2539698                                      1143.49   \n\n         ethusdt:Binance:LinearPerpetual_bid_vol_8  \\\n0                                            1.452   \n1                                            1.452   \n2                                            1.452   \n3                                            1.452   \n4                                            1.452   \n...                                            ...   \n2539694                                      1.755   \n2539695                                      1.755   \n2539696                                      1.755   \n2539697                                      1.755   \n2539698                                      1.755   \n\n         ethusdt:Binance:LinearPerpetual_ask_price_9  \\\n0                                            1049.54   \n1                                            1049.54   \n2                                            1049.54   \n3                                            1049.54   \n4                                            1049.54   \n...                                              ...   \n2539694                                      1143.79   \n2539695                                      1143.79   \n2539696                                      1143.79   \n2539697                                      1143.79   \n2539698                                      1143.79   \n\n         ethusdt:Binance:LinearPerpetual_ask_vol_9  \\\n0                                           27.741   \n1                                           27.741   \n2                                           27.741   \n3                                           27.741   \n4                                           27.741   \n...                                            ...   \n2539694                                     14.975   \n2539695                                     14.975   \n2539696                                     14.975   \n2539697                                     14.975   \n2539698                                     14.975   \n\n         ethusdt:Binance:LinearPerpetual_bid_price_9  \\\n0                                            1049.29   \n1                                            1049.29   \n2                                            1049.29   \n3                                            1049.29   \n4                                            1049.29   \n...                                              ...   \n2539694                                      1143.47   \n2539695                                      1143.47   \n2539696                                      1143.47   \n2539697                                      1143.47   \n2539698                                      1143.47   \n\n         ethusdt:Binance:LinearPerpetual_bid_vol_9  \n0                                            2.387  \n1                                            2.387  \n2                                            2.387  \n3                                            2.387  \n4                                            2.387  \n...                                            ...  \n2539694                                      0.505  \n2539695                                      0.505  \n2539696                                      0.505  \n2539697                                      0.505  \n2539698                                      0.505  \n\n[2539699 rows x 42 columns]",
      "text/html": "<div>\n<style scoped>\n    .dataframe tbody tr th:only-of-type {\n        vertical-align: middle;\n    }\n\n    .dataframe tbody tr th {\n        vertical-align: top;\n    }\n\n    .dataframe thead th {\n        text-align: right;\n    }\n</style>\n<table border=\"1\" class=\"dataframe\">\n  <thead>\n    <tr style=\"text-align: right;\">\n      <th></th>\n      <th>receive_ts</th>\n      <th>exchange_ts</th>\n      <th>ethusdt:Binance:LinearPerpetual_ask_price_0</th>\n      <th>ethusdt:Binance:LinearPerpetual_ask_vol_0</th>\n      <th>ethusdt:Binance:LinearPerpetual_bid_price_0</th>\n      <th>ethusdt:Binance:LinearPerpetual_bid_vol_0</th>\n      <th>ethusdt:Binance:LinearPerpetual_ask_price_1</th>\n      <th>ethusdt:Binance:LinearPerpetual_ask_vol_1</th>\n      <th>ethusdt:Binance:LinearPerpetual_bid_price_1</th>\n      <th>ethusdt:Binance:LinearPerpetual_bid_vol_1</th>\n      <th>...</th>\n      <th>ethusdt:Binance:LinearPerpetual_bid_price_7</th>\n      <th>ethusdt:Binance:LinearPerpetual_bid_vol_7</th>\n      <th>ethusdt:Binance:LinearPerpetual_ask_price_8</th>\n      <th>ethusdt:Binance:LinearPerpetual_ask_vol_8</th>\n      <th>ethusdt:Binance:LinearPerpetual_bid_price_8</th>\n      <th>ethusdt:Binance:LinearPerpetual_bid_vol_8</th>\n      <th>ethusdt:Binance:LinearPerpetual_ask_price_9</th>\n      <th>ethusdt:Binance:LinearPerpetual_ask_vol_9</th>\n      <th>ethusdt:Binance:LinearPerpetual_bid_price_9</th>\n      <th>ethusdt:Binance:LinearPerpetual_bid_vol_9</th>\n    </tr>\n  </thead>\n  <tbody>\n    <tr>\n      <th>0</th>\n      <td>1655942402250395360</td>\n      <td>1655942402249000000</td>\n      <td>1049.45</td>\n      <td>1.046</td>\n      <td>1049.44</td>\n      <td>0.782</td>\n      <td>1049.46</td>\n      <td>2.229</td>\n      <td>1049.43</td>\n      <td>5.00</td>\n      <td>...</td>\n      <td>1049.31</td>\n      <td>7.495</td>\n      <td>1049.53</td>\n      <td>2.229</td>\n      <td>1049.30</td>\n      <td>1.452</td>\n      <td>1049.54</td>\n      <td>27.741</td>\n      <td>1049.29</td>\n      <td>2.387</td>\n    </tr>\n    <tr>\n      <th>1</th>\n      <td>1655942402656012600</td>\n      <td>1655942402655000000</td>\n      <td>1049.45</td>\n      <td>0.314</td>\n      <td>1049.44</td>\n      <td>19.860</td>\n      <td>1049.46</td>\n      <td>2.243</td>\n      <td>1049.43</td>\n      <td>5.00</td>\n      <td>...</td>\n      <td>1049.31</td>\n      <td>7.495</td>\n      <td>1049.53</td>\n      <td>2.229</td>\n      <td>1049.30</td>\n      <td>1.452</td>\n      <td>1049.54</td>\n      <td>27.741</td>\n      <td>1049.29</td>\n      <td>2.387</td>\n    </tr>\n    <tr>\n      <th>2</th>\n      <td>1655942403348658915</td>\n      <td>1655942403348000000</td>\n      <td>1049.45</td>\n      <td>0.314</td>\n      <td>1049.44</td>\n      <td>19.860</td>\n      <td>1049.46</td>\n      <td>2.243</td>\n      <td>1049.43</td>\n      <td>5.00</td>\n      <td>...</td>\n      <td>1049.31</td>\n      <td>7.495</td>\n      <td>1049.53</td>\n      <td>2.229</td>\n      <td>1049.30</td>\n      <td>1.452</td>\n      <td>1049.54</td>\n      <td>27.741</td>\n      <td>1049.29</td>\n      <td>2.387</td>\n    </tr>\n    <tr>\n      <th>3</th>\n      <td>1655942404080743828</td>\n      <td>1655942404080000000</td>\n      <td>1049.45</td>\n      <td>0.314</td>\n      <td>1049.44</td>\n      <td>19.860</td>\n      <td>1049.46</td>\n      <td>2.243</td>\n      <td>1049.43</td>\n      <td>5.00</td>\n      <td>...</td>\n      <td>1049.31</td>\n      <td>7.495</td>\n      <td>1049.53</td>\n      <td>2.229</td>\n      <td>1049.30</td>\n      <td>1.452</td>\n      <td>1049.54</td>\n      <td>27.741</td>\n      <td>1049.29</td>\n      <td>2.387</td>\n    </tr>\n    <tr>\n      <th>4</th>\n      <td>1655942404151722232</td>\n      <td>1655942404151000000</td>\n      <td>1049.45</td>\n      <td>0.314</td>\n      <td>1049.44</td>\n      <td>19.860</td>\n      <td>1049.46</td>\n      <td>2.243</td>\n      <td>1049.43</td>\n      <td>5.00</td>\n      <td>...</td>\n      <td>1049.31</td>\n      <td>7.495</td>\n      <td>1049.53</td>\n      <td>2.229</td>\n      <td>1049.30</td>\n      <td>1.452</td>\n      <td>1049.54</td>\n      <td>27.741</td>\n      <td>1049.29</td>\n      <td>2.387</td>\n    </tr>\n    <tr>\n      <th>...</th>\n      <td>...</td>\n      <td>...</td>\n      <td>...</td>\n      <td>...</td>\n      <td>...</td>\n      <td>...</td>\n      <td>...</td>\n      <td>...</td>\n      <td>...</td>\n      <td>...</td>\n      <td>...</td>\n      <td>...</td>\n      <td>...</td>\n      <td>...</td>\n      <td>...</td>\n      <td>...</td>\n      <td>...</td>\n      <td>...</td>\n      <td>...</td>\n      <td>...</td>\n      <td>...</td>\n    </tr>\n    <tr>\n      <th>2539694</th>\n      <td>1656028781406860422</td>\n      <td>1656028781406000000</td>\n      <td>1143.63</td>\n      <td>19.992</td>\n      <td>1143.62</td>\n      <td>23.868</td>\n      <td>1143.67</td>\n      <td>2.348</td>\n      <td>1143.61</td>\n      <td>4.35</td>\n      <td>...</td>\n      <td>1143.50</td>\n      <td>0.016</td>\n      <td>1143.78</td>\n      <td>4.445</td>\n      <td>1143.49</td>\n      <td>1.755</td>\n      <td>1143.79</td>\n      <td>14.975</td>\n      <td>1143.47</td>\n      <td>0.505</td>\n    </tr>\n    <tr>\n      <th>2539695</th>\n      <td>1656028781441496250</td>\n      <td>1656028781441000000</td>\n      <td>1143.63</td>\n      <td>19.992</td>\n      <td>1143.62</td>\n      <td>23.868</td>\n      <td>1143.67</td>\n      <td>2.348</td>\n      <td>1143.61</td>\n      <td>4.35</td>\n      <td>...</td>\n      <td>1143.50</td>\n      <td>0.016</td>\n      <td>1143.78</td>\n      <td>4.445</td>\n      <td>1143.49</td>\n      <td>1.755</td>\n      <td>1143.79</td>\n      <td>14.975</td>\n      <td>1143.47</td>\n      <td>0.505</td>\n    </tr>\n    <tr>\n      <th>2539696</th>\n      <td>1656028781474705210</td>\n      <td>1656028781474000000</td>\n      <td>1143.63</td>\n      <td>19.992</td>\n      <td>1143.62</td>\n      <td>23.868</td>\n      <td>1143.67</td>\n      <td>2.348</td>\n      <td>1143.61</td>\n      <td>4.35</td>\n      <td>...</td>\n      <td>1143.50</td>\n      <td>0.016</td>\n      <td>1143.78</td>\n      <td>4.445</td>\n      <td>1143.49</td>\n      <td>1.755</td>\n      <td>1143.79</td>\n      <td>14.975</td>\n      <td>1143.47</td>\n      <td>0.505</td>\n    </tr>\n    <tr>\n      <th>2539697</th>\n      <td>1656028781508489746</td>\n      <td>1656028781508000000</td>\n      <td>1143.63</td>\n      <td>20.026</td>\n      <td>1143.62</td>\n      <td>23.868</td>\n      <td>1143.67</td>\n      <td>2.348</td>\n      <td>1143.61</td>\n      <td>4.35</td>\n      <td>...</td>\n      <td>1143.50</td>\n      <td>0.016</td>\n      <td>1143.78</td>\n      <td>4.445</td>\n      <td>1143.49</td>\n      <td>1.755</td>\n      <td>1143.79</td>\n      <td>14.975</td>\n      <td>1143.47</td>\n      <td>0.505</td>\n    </tr>\n    <tr>\n      <th>2539698</th>\n      <td>1656028781540611339</td>\n      <td>1656028781540000000</td>\n      <td>1143.63</td>\n      <td>20.026</td>\n      <td>1143.62</td>\n      <td>23.868</td>\n      <td>1143.67</td>\n      <td>2.348</td>\n      <td>1143.61</td>\n      <td>4.35</td>\n      <td>...</td>\n      <td>1143.50</td>\n      <td>0.016</td>\n      <td>1143.78</td>\n      <td>4.445</td>\n      <td>1143.49</td>\n      <td>1.755</td>\n      <td>1143.79</td>\n      <td>14.975</td>\n      <td>1143.47</td>\n      <td>0.505</td>\n    </tr>\n  </tbody>\n</table>\n<p>2539699 rows × 42 columns</p>\n</div>"
     },
     "execution_count": 11,
     "metadata": {},
     "output_type": "execute_result"
    }
   ],
   "source": [
    "lobs = lobs.rename(columns={\n",
    "    ' exchange_ts': 'exchange_ts'\n",
    "})\n",
    "lobs"
   ],
   "metadata": {
    "collapsed": false
   }
  },
  {
   "cell_type": "code",
   "execution_count": 12,
   "outputs": [
    {
     "data": {
      "text/plain": "Index(['receive_ts', 'exchange_ts',\n       'ethusdt:Binance:LinearPerpetual_ask_price_0',\n       'ethusdt:Binance:LinearPerpetual_ask_vol_0',\n       'ethusdt:Binance:LinearPerpetual_bid_price_0',\n       'ethusdt:Binance:LinearPerpetual_bid_vol_0',\n       'ethusdt:Binance:LinearPerpetual_ask_price_1',\n       'ethusdt:Binance:LinearPerpetual_ask_vol_1',\n       'ethusdt:Binance:LinearPerpetual_bid_price_1',\n       'ethusdt:Binance:LinearPerpetual_bid_vol_1',\n       'ethusdt:Binance:LinearPerpetual_ask_price_2',\n       'ethusdt:Binance:LinearPerpetual_ask_vol_2',\n       'ethusdt:Binance:LinearPerpetual_bid_price_2',\n       'ethusdt:Binance:LinearPerpetual_bid_vol_2',\n       'ethusdt:Binance:LinearPerpetual_ask_price_3',\n       'ethusdt:Binance:LinearPerpetual_ask_vol_3',\n       'ethusdt:Binance:LinearPerpetual_bid_price_3',\n       'ethusdt:Binance:LinearPerpetual_bid_vol_3',\n       'ethusdt:Binance:LinearPerpetual_ask_price_4',\n       'ethusdt:Binance:LinearPerpetual_ask_vol_4',\n       'ethusdt:Binance:LinearPerpetual_bid_price_4',\n       'ethusdt:Binance:LinearPerpetual_bid_vol_4',\n       'ethusdt:Binance:LinearPerpetual_ask_price_5',\n       'ethusdt:Binance:LinearPerpetual_ask_vol_5',\n       'ethusdt:Binance:LinearPerpetual_bid_price_5',\n       'ethusdt:Binance:LinearPerpetual_bid_vol_5',\n       'ethusdt:Binance:LinearPerpetual_ask_price_6',\n       'ethusdt:Binance:LinearPerpetual_ask_vol_6',\n       'ethusdt:Binance:LinearPerpetual_bid_price_6',\n       'ethusdt:Binance:LinearPerpetual_bid_vol_6',\n       'ethusdt:Binance:LinearPerpetual_ask_price_7',\n       'ethusdt:Binance:LinearPerpetual_ask_vol_7',\n       'ethusdt:Binance:LinearPerpetual_bid_price_7',\n       'ethusdt:Binance:LinearPerpetual_bid_vol_7',\n       'ethusdt:Binance:LinearPerpetual_ask_price_8',\n       'ethusdt:Binance:LinearPerpetual_ask_vol_8',\n       'ethusdt:Binance:LinearPerpetual_bid_price_8',\n       'ethusdt:Binance:LinearPerpetual_bid_vol_8',\n       'ethusdt:Binance:LinearPerpetual_ask_price_9',\n       'ethusdt:Binance:LinearPerpetual_ask_vol_9',\n       'ethusdt:Binance:LinearPerpetual_bid_price_9',\n       'ethusdt:Binance:LinearPerpetual_bid_vol_9'],\n      dtype='object')"
     },
     "execution_count": 12,
     "metadata": {},
     "output_type": "execute_result"
    }
   ],
   "source": [
    "lobs.columns"
   ],
   "metadata": {
    "collapsed": false
   }
  },
  {
   "cell_type": "code",
   "execution_count": 12,
   "outputs": [],
   "source": [
    "features = lobs.columns"
   ],
   "metadata": {
    "collapsed": false
   }
  },
  {
   "cell_type": "code",
   "execution_count": 13,
   "outputs": [
    {
     "data": {
      "text/plain": "                  receive_ts          exchange_ts  \\\n0        1655942402250395360  1655942402249000000   \n1        1655942402656012600  1655942402655000000   \n2        1655942403348658915  1655942403348000000   \n3        1655942404080743828  1655942404080000000   \n4        1655942404151722232  1655942404151000000   \n...                      ...                  ...   \n2539694  1656028781406860422  1656028781406000000   \n2539695  1656028781441496250  1656028781441000000   \n2539696  1656028781474705210  1656028781474000000   \n2539697  1656028781508489746  1656028781508000000   \n2539698  1656028781540611339  1656028781540000000   \n\n         ethusdt:Binance:LinearPerpetual_ask_price_0  \\\n0                                            1049.45   \n1                                            1049.45   \n2                                            1049.45   \n3                                            1049.45   \n4                                            1049.45   \n...                                              ...   \n2539694                                      1143.63   \n2539695                                      1143.63   \n2539696                                      1143.63   \n2539697                                      1143.63   \n2539698                                      1143.63   \n\n         ethusdt:Binance:LinearPerpetual_ask_vol_0  \\\n0                                            1.046   \n1                                            0.314   \n2                                            0.314   \n3                                            0.314   \n4                                            0.314   \n...                                            ...   \n2539694                                     19.992   \n2539695                                     19.992   \n2539696                                     19.992   \n2539697                                     20.026   \n2539698                                     20.026   \n\n         ethusdt:Binance:LinearPerpetual_bid_price_0  \\\n0                                            1049.44   \n1                                            1049.44   \n2                                            1049.44   \n3                                            1049.44   \n4                                            1049.44   \n...                                              ...   \n2539694                                      1143.62   \n2539695                                      1143.62   \n2539696                                      1143.62   \n2539697                                      1143.62   \n2539698                                      1143.62   \n\n         ethusdt:Binance:LinearPerpetual_bid_vol_0  \\\n0                                            0.782   \n1                                           19.860   \n2                                           19.860   \n3                                           19.860   \n4                                           19.860   \n...                                            ...   \n2539694                                     23.868   \n2539695                                     23.868   \n2539696                                     23.868   \n2539697                                     23.868   \n2539698                                     23.868   \n\n         ethusdt:Binance:LinearPerpetual_ask_price_1  \\\n0                                            1049.46   \n1                                            1049.46   \n2                                            1049.46   \n3                                            1049.46   \n4                                            1049.46   \n...                                              ...   \n2539694                                      1143.67   \n2539695                                      1143.67   \n2539696                                      1143.67   \n2539697                                      1143.67   \n2539698                                      1143.67   \n\n         ethusdt:Binance:LinearPerpetual_ask_vol_1  \\\n0                                            2.229   \n1                                            2.243   \n2                                            2.243   \n3                                            2.243   \n4                                            2.243   \n...                                            ...   \n2539694                                      2.348   \n2539695                                      2.348   \n2539696                                      2.348   \n2539697                                      2.348   \n2539698                                      2.348   \n\n         ethusdt:Binance:LinearPerpetual_bid_price_1  \\\n0                                            1049.43   \n1                                            1049.43   \n2                                            1049.43   \n3                                            1049.43   \n4                                            1049.43   \n...                                              ...   \n2539694                                      1143.61   \n2539695                                      1143.61   \n2539696                                      1143.61   \n2539697                                      1143.61   \n2539698                                      1143.61   \n\n         ethusdt:Binance:LinearPerpetual_bid_vol_1  ...  \\\n0                                             5.00  ...   \n1                                             5.00  ...   \n2                                             5.00  ...   \n3                                             5.00  ...   \n4                                             5.00  ...   \n...                                            ...  ...   \n2539694                                       4.35  ...   \n2539695                                       4.35  ...   \n2539696                                       4.35  ...   \n2539697                                       4.35  ...   \n2539698                                       4.35  ...   \n\n         ethusdt:Binance:LinearPerpetual_bid_price_7  \\\n0                                            1049.31   \n1                                            1049.31   \n2                                            1049.31   \n3                                            1049.31   \n4                                            1049.31   \n...                                              ...   \n2539694                                      1143.50   \n2539695                                      1143.50   \n2539696                                      1143.50   \n2539697                                      1143.50   \n2539698                                      1143.50   \n\n         ethusdt:Binance:LinearPerpetual_bid_vol_7  \\\n0                                            7.495   \n1                                            7.495   \n2                                            7.495   \n3                                            7.495   \n4                                            7.495   \n...                                            ...   \n2539694                                      0.016   \n2539695                                      0.016   \n2539696                                      0.016   \n2539697                                      0.016   \n2539698                                      0.016   \n\n         ethusdt:Binance:LinearPerpetual_ask_price_8  \\\n0                                            1049.53   \n1                                            1049.53   \n2                                            1049.53   \n3                                            1049.53   \n4                                            1049.53   \n...                                              ...   \n2539694                                      1143.78   \n2539695                                      1143.78   \n2539696                                      1143.78   \n2539697                                      1143.78   \n2539698                                      1143.78   \n\n         ethusdt:Binance:LinearPerpetual_ask_vol_8  \\\n0                                            2.229   \n1                                            2.229   \n2                                            2.229   \n3                                            2.229   \n4                                            2.229   \n...                                            ...   \n2539694                                      4.445   \n2539695                                      4.445   \n2539696                                      4.445   \n2539697                                      4.445   \n2539698                                      4.445   \n\n         ethusdt:Binance:LinearPerpetual_bid_price_8  \\\n0                                            1049.30   \n1                                            1049.30   \n2                                            1049.30   \n3                                            1049.30   \n4                                            1049.30   \n...                                              ...   \n2539694                                      1143.49   \n2539695                                      1143.49   \n2539696                                      1143.49   \n2539697                                      1143.49   \n2539698                                      1143.49   \n\n         ethusdt:Binance:LinearPerpetual_bid_vol_8  \\\n0                                            1.452   \n1                                            1.452   \n2                                            1.452   \n3                                            1.452   \n4                                            1.452   \n...                                            ...   \n2539694                                      1.755   \n2539695                                      1.755   \n2539696                                      1.755   \n2539697                                      1.755   \n2539698                                      1.755   \n\n         ethusdt:Binance:LinearPerpetual_ask_price_9  \\\n0                                            1049.54   \n1                                            1049.54   \n2                                            1049.54   \n3                                            1049.54   \n4                                            1049.54   \n...                                              ...   \n2539694                                      1143.79   \n2539695                                      1143.79   \n2539696                                      1143.79   \n2539697                                      1143.79   \n2539698                                      1143.79   \n\n         ethusdt:Binance:LinearPerpetual_ask_vol_9  \\\n0                                           27.741   \n1                                           27.741   \n2                                           27.741   \n3                                           27.741   \n4                                           27.741   \n...                                            ...   \n2539694                                     14.975   \n2539695                                     14.975   \n2539696                                     14.975   \n2539697                                     14.975   \n2539698                                     14.975   \n\n         ethusdt:Binance:LinearPerpetual_bid_price_9  \\\n0                                            1049.29   \n1                                            1049.29   \n2                                            1049.29   \n3                                            1049.29   \n4                                            1049.29   \n...                                              ...   \n2539694                                      1143.47   \n2539695                                      1143.47   \n2539696                                      1143.47   \n2539697                                      1143.47   \n2539698                                      1143.47   \n\n         ethusdt:Binance:LinearPerpetual_bid_vol_9  \n0                                            2.387  \n1                                            2.387  \n2                                            2.387  \n3                                            2.387  \n4                                            2.387  \n...                                            ...  \n2539694                                      0.505  \n2539695                                      0.505  \n2539696                                      0.505  \n2539697                                      0.505  \n2539698                                      0.505  \n\n[2539699 rows x 42 columns]",
      "text/html": "<div>\n<style scoped>\n    .dataframe tbody tr th:only-of-type {\n        vertical-align: middle;\n    }\n\n    .dataframe tbody tr th {\n        vertical-align: top;\n    }\n\n    .dataframe thead th {\n        text-align: right;\n    }\n</style>\n<table border=\"1\" class=\"dataframe\">\n  <thead>\n    <tr style=\"text-align: right;\">\n      <th></th>\n      <th>receive_ts</th>\n      <th>exchange_ts</th>\n      <th>ethusdt:Binance:LinearPerpetual_ask_price_0</th>\n      <th>ethusdt:Binance:LinearPerpetual_ask_vol_0</th>\n      <th>ethusdt:Binance:LinearPerpetual_bid_price_0</th>\n      <th>ethusdt:Binance:LinearPerpetual_bid_vol_0</th>\n      <th>ethusdt:Binance:LinearPerpetual_ask_price_1</th>\n      <th>ethusdt:Binance:LinearPerpetual_ask_vol_1</th>\n      <th>ethusdt:Binance:LinearPerpetual_bid_price_1</th>\n      <th>ethusdt:Binance:LinearPerpetual_bid_vol_1</th>\n      <th>...</th>\n      <th>ethusdt:Binance:LinearPerpetual_bid_price_7</th>\n      <th>ethusdt:Binance:LinearPerpetual_bid_vol_7</th>\n      <th>ethusdt:Binance:LinearPerpetual_ask_price_8</th>\n      <th>ethusdt:Binance:LinearPerpetual_ask_vol_8</th>\n      <th>ethusdt:Binance:LinearPerpetual_bid_price_8</th>\n      <th>ethusdt:Binance:LinearPerpetual_bid_vol_8</th>\n      <th>ethusdt:Binance:LinearPerpetual_ask_price_9</th>\n      <th>ethusdt:Binance:LinearPerpetual_ask_vol_9</th>\n      <th>ethusdt:Binance:LinearPerpetual_bid_price_9</th>\n      <th>ethusdt:Binance:LinearPerpetual_bid_vol_9</th>\n    </tr>\n  </thead>\n  <tbody>\n    <tr>\n      <th>0</th>\n      <td>1655942402250395360</td>\n      <td>1655942402249000000</td>\n      <td>1049.45</td>\n      <td>1.046</td>\n      <td>1049.44</td>\n      <td>0.782</td>\n      <td>1049.46</td>\n      <td>2.229</td>\n      <td>1049.43</td>\n      <td>5.00</td>\n      <td>...</td>\n      <td>1049.31</td>\n      <td>7.495</td>\n      <td>1049.53</td>\n      <td>2.229</td>\n      <td>1049.30</td>\n      <td>1.452</td>\n      <td>1049.54</td>\n      <td>27.741</td>\n      <td>1049.29</td>\n      <td>2.387</td>\n    </tr>\n    <tr>\n      <th>1</th>\n      <td>1655942402656012600</td>\n      <td>1655942402655000000</td>\n      <td>1049.45</td>\n      <td>0.314</td>\n      <td>1049.44</td>\n      <td>19.860</td>\n      <td>1049.46</td>\n      <td>2.243</td>\n      <td>1049.43</td>\n      <td>5.00</td>\n      <td>...</td>\n      <td>1049.31</td>\n      <td>7.495</td>\n      <td>1049.53</td>\n      <td>2.229</td>\n      <td>1049.30</td>\n      <td>1.452</td>\n      <td>1049.54</td>\n      <td>27.741</td>\n      <td>1049.29</td>\n      <td>2.387</td>\n    </tr>\n    <tr>\n      <th>2</th>\n      <td>1655942403348658915</td>\n      <td>1655942403348000000</td>\n      <td>1049.45</td>\n      <td>0.314</td>\n      <td>1049.44</td>\n      <td>19.860</td>\n      <td>1049.46</td>\n      <td>2.243</td>\n      <td>1049.43</td>\n      <td>5.00</td>\n      <td>...</td>\n      <td>1049.31</td>\n      <td>7.495</td>\n      <td>1049.53</td>\n      <td>2.229</td>\n      <td>1049.30</td>\n      <td>1.452</td>\n      <td>1049.54</td>\n      <td>27.741</td>\n      <td>1049.29</td>\n      <td>2.387</td>\n    </tr>\n    <tr>\n      <th>3</th>\n      <td>1655942404080743828</td>\n      <td>1655942404080000000</td>\n      <td>1049.45</td>\n      <td>0.314</td>\n      <td>1049.44</td>\n      <td>19.860</td>\n      <td>1049.46</td>\n      <td>2.243</td>\n      <td>1049.43</td>\n      <td>5.00</td>\n      <td>...</td>\n      <td>1049.31</td>\n      <td>7.495</td>\n      <td>1049.53</td>\n      <td>2.229</td>\n      <td>1049.30</td>\n      <td>1.452</td>\n      <td>1049.54</td>\n      <td>27.741</td>\n      <td>1049.29</td>\n      <td>2.387</td>\n    </tr>\n    <tr>\n      <th>4</th>\n      <td>1655942404151722232</td>\n      <td>1655942404151000000</td>\n      <td>1049.45</td>\n      <td>0.314</td>\n      <td>1049.44</td>\n      <td>19.860</td>\n      <td>1049.46</td>\n      <td>2.243</td>\n      <td>1049.43</td>\n      <td>5.00</td>\n      <td>...</td>\n      <td>1049.31</td>\n      <td>7.495</td>\n      <td>1049.53</td>\n      <td>2.229</td>\n      <td>1049.30</td>\n      <td>1.452</td>\n      <td>1049.54</td>\n      <td>27.741</td>\n      <td>1049.29</td>\n      <td>2.387</td>\n    </tr>\n    <tr>\n      <th>...</th>\n      <td>...</td>\n      <td>...</td>\n      <td>...</td>\n      <td>...</td>\n      <td>...</td>\n      <td>...</td>\n      <td>...</td>\n      <td>...</td>\n      <td>...</td>\n      <td>...</td>\n      <td>...</td>\n      <td>...</td>\n      <td>...</td>\n      <td>...</td>\n      <td>...</td>\n      <td>...</td>\n      <td>...</td>\n      <td>...</td>\n      <td>...</td>\n      <td>...</td>\n      <td>...</td>\n    </tr>\n    <tr>\n      <th>2539694</th>\n      <td>1656028781406860422</td>\n      <td>1656028781406000000</td>\n      <td>1143.63</td>\n      <td>19.992</td>\n      <td>1143.62</td>\n      <td>23.868</td>\n      <td>1143.67</td>\n      <td>2.348</td>\n      <td>1143.61</td>\n      <td>4.35</td>\n      <td>...</td>\n      <td>1143.50</td>\n      <td>0.016</td>\n      <td>1143.78</td>\n      <td>4.445</td>\n      <td>1143.49</td>\n      <td>1.755</td>\n      <td>1143.79</td>\n      <td>14.975</td>\n      <td>1143.47</td>\n      <td>0.505</td>\n    </tr>\n    <tr>\n      <th>2539695</th>\n      <td>1656028781441496250</td>\n      <td>1656028781441000000</td>\n      <td>1143.63</td>\n      <td>19.992</td>\n      <td>1143.62</td>\n      <td>23.868</td>\n      <td>1143.67</td>\n      <td>2.348</td>\n      <td>1143.61</td>\n      <td>4.35</td>\n      <td>...</td>\n      <td>1143.50</td>\n      <td>0.016</td>\n      <td>1143.78</td>\n      <td>4.445</td>\n      <td>1143.49</td>\n      <td>1.755</td>\n      <td>1143.79</td>\n      <td>14.975</td>\n      <td>1143.47</td>\n      <td>0.505</td>\n    </tr>\n    <tr>\n      <th>2539696</th>\n      <td>1656028781474705210</td>\n      <td>1656028781474000000</td>\n      <td>1143.63</td>\n      <td>19.992</td>\n      <td>1143.62</td>\n      <td>23.868</td>\n      <td>1143.67</td>\n      <td>2.348</td>\n      <td>1143.61</td>\n      <td>4.35</td>\n      <td>...</td>\n      <td>1143.50</td>\n      <td>0.016</td>\n      <td>1143.78</td>\n      <td>4.445</td>\n      <td>1143.49</td>\n      <td>1.755</td>\n      <td>1143.79</td>\n      <td>14.975</td>\n      <td>1143.47</td>\n      <td>0.505</td>\n    </tr>\n    <tr>\n      <th>2539697</th>\n      <td>1656028781508489746</td>\n      <td>1656028781508000000</td>\n      <td>1143.63</td>\n      <td>20.026</td>\n      <td>1143.62</td>\n      <td>23.868</td>\n      <td>1143.67</td>\n      <td>2.348</td>\n      <td>1143.61</td>\n      <td>4.35</td>\n      <td>...</td>\n      <td>1143.50</td>\n      <td>0.016</td>\n      <td>1143.78</td>\n      <td>4.445</td>\n      <td>1143.49</td>\n      <td>1.755</td>\n      <td>1143.79</td>\n      <td>14.975</td>\n      <td>1143.47</td>\n      <td>0.505</td>\n    </tr>\n    <tr>\n      <th>2539698</th>\n      <td>1656028781540611339</td>\n      <td>1656028781540000000</td>\n      <td>1143.63</td>\n      <td>20.026</td>\n      <td>1143.62</td>\n      <td>23.868</td>\n      <td>1143.67</td>\n      <td>2.348</td>\n      <td>1143.61</td>\n      <td>4.35</td>\n      <td>...</td>\n      <td>1143.50</td>\n      <td>0.016</td>\n      <td>1143.78</td>\n      <td>4.445</td>\n      <td>1143.49</td>\n      <td>1.755</td>\n      <td>1143.79</td>\n      <td>14.975</td>\n      <td>1143.47</td>\n      <td>0.505</td>\n    </tr>\n  </tbody>\n</table>\n<p>2539699 rows × 42 columns</p>\n</div>"
     },
     "execution_count": 13,
     "metadata": {},
     "output_type": "execute_result"
    }
   ],
   "source": [
    "lobs.index = list(lobs.index)\n",
    "lobs"
   ],
   "metadata": {
    "collapsed": false
   }
  },
  {
   "cell_type": "code",
   "execution_count": 14,
   "outputs": [
    {
     "data": {
      "text/plain": "                           receive_ts          exchange_ts  \\\n0       2022-06-23 00:00:02.250395360  1655942402249000000   \n1       2022-06-23 00:00:02.656012600  1655942402655000000   \n2       2022-06-23 00:00:03.348658915  1655942403348000000   \n3       2022-06-23 00:00:04.080743828  1655942404080000000   \n4       2022-06-23 00:00:04.151722232  1655942404151000000   \n...                               ...                  ...   \n2539694 2022-06-23 23:59:41.406860422  1656028781406000000   \n2539695 2022-06-23 23:59:41.441496250  1656028781441000000   \n2539696 2022-06-23 23:59:41.474705210  1656028781474000000   \n2539697 2022-06-23 23:59:41.508489746  1656028781508000000   \n2539698 2022-06-23 23:59:41.540611339  1656028781540000000   \n\n         ethusdt:Binance:LinearPerpetual_ask_price_0  \\\n0                                            1049.45   \n1                                            1049.45   \n2                                            1049.45   \n3                                            1049.45   \n4                                            1049.45   \n...                                              ...   \n2539694                                      1143.63   \n2539695                                      1143.63   \n2539696                                      1143.63   \n2539697                                      1143.63   \n2539698                                      1143.63   \n\n         ethusdt:Binance:LinearPerpetual_ask_vol_0  \\\n0                                            1.046   \n1                                            0.314   \n2                                            0.314   \n3                                            0.314   \n4                                            0.314   \n...                                            ...   \n2539694                                     19.992   \n2539695                                     19.992   \n2539696                                     19.992   \n2539697                                     20.026   \n2539698                                     20.026   \n\n         ethusdt:Binance:LinearPerpetual_bid_price_0  \\\n0                                            1049.44   \n1                                            1049.44   \n2                                            1049.44   \n3                                            1049.44   \n4                                            1049.44   \n...                                              ...   \n2539694                                      1143.62   \n2539695                                      1143.62   \n2539696                                      1143.62   \n2539697                                      1143.62   \n2539698                                      1143.62   \n\n         ethusdt:Binance:LinearPerpetual_bid_vol_0  \\\n0                                            0.782   \n1                                           19.860   \n2                                           19.860   \n3                                           19.860   \n4                                           19.860   \n...                                            ...   \n2539694                                     23.868   \n2539695                                     23.868   \n2539696                                     23.868   \n2539697                                     23.868   \n2539698                                     23.868   \n\n         ethusdt:Binance:LinearPerpetual_ask_price_1  \\\n0                                            1049.46   \n1                                            1049.46   \n2                                            1049.46   \n3                                            1049.46   \n4                                            1049.46   \n...                                              ...   \n2539694                                      1143.67   \n2539695                                      1143.67   \n2539696                                      1143.67   \n2539697                                      1143.67   \n2539698                                      1143.67   \n\n         ethusdt:Binance:LinearPerpetual_ask_vol_1  \\\n0                                            2.229   \n1                                            2.243   \n2                                            2.243   \n3                                            2.243   \n4                                            2.243   \n...                                            ...   \n2539694                                      2.348   \n2539695                                      2.348   \n2539696                                      2.348   \n2539697                                      2.348   \n2539698                                      2.348   \n\n         ethusdt:Binance:LinearPerpetual_bid_price_1  \\\n0                                            1049.43   \n1                                            1049.43   \n2                                            1049.43   \n3                                            1049.43   \n4                                            1049.43   \n...                                              ...   \n2539694                                      1143.61   \n2539695                                      1143.61   \n2539696                                      1143.61   \n2539697                                      1143.61   \n2539698                                      1143.61   \n\n         ethusdt:Binance:LinearPerpetual_bid_vol_1  ...  \\\n0                                             5.00  ...   \n1                                             5.00  ...   \n2                                             5.00  ...   \n3                                             5.00  ...   \n4                                             5.00  ...   \n...                                            ...  ...   \n2539694                                       4.35  ...   \n2539695                                       4.35  ...   \n2539696                                       4.35  ...   \n2539697                                       4.35  ...   \n2539698                                       4.35  ...   \n\n         ethusdt:Binance:LinearPerpetual_bid_price_7  \\\n0                                            1049.31   \n1                                            1049.31   \n2                                            1049.31   \n3                                            1049.31   \n4                                            1049.31   \n...                                              ...   \n2539694                                      1143.50   \n2539695                                      1143.50   \n2539696                                      1143.50   \n2539697                                      1143.50   \n2539698                                      1143.50   \n\n         ethusdt:Binance:LinearPerpetual_bid_vol_7  \\\n0                                            7.495   \n1                                            7.495   \n2                                            7.495   \n3                                            7.495   \n4                                            7.495   \n...                                            ...   \n2539694                                      0.016   \n2539695                                      0.016   \n2539696                                      0.016   \n2539697                                      0.016   \n2539698                                      0.016   \n\n         ethusdt:Binance:LinearPerpetual_ask_price_8  \\\n0                                            1049.53   \n1                                            1049.53   \n2                                            1049.53   \n3                                            1049.53   \n4                                            1049.53   \n...                                              ...   \n2539694                                      1143.78   \n2539695                                      1143.78   \n2539696                                      1143.78   \n2539697                                      1143.78   \n2539698                                      1143.78   \n\n         ethusdt:Binance:LinearPerpetual_ask_vol_8  \\\n0                                            2.229   \n1                                            2.229   \n2                                            2.229   \n3                                            2.229   \n4                                            2.229   \n...                                            ...   \n2539694                                      4.445   \n2539695                                      4.445   \n2539696                                      4.445   \n2539697                                      4.445   \n2539698                                      4.445   \n\n         ethusdt:Binance:LinearPerpetual_bid_price_8  \\\n0                                            1049.30   \n1                                            1049.30   \n2                                            1049.30   \n3                                            1049.30   \n4                                            1049.30   \n...                                              ...   \n2539694                                      1143.49   \n2539695                                      1143.49   \n2539696                                      1143.49   \n2539697                                      1143.49   \n2539698                                      1143.49   \n\n         ethusdt:Binance:LinearPerpetual_bid_vol_8  \\\n0                                            1.452   \n1                                            1.452   \n2                                            1.452   \n3                                            1.452   \n4                                            1.452   \n...                                            ...   \n2539694                                      1.755   \n2539695                                      1.755   \n2539696                                      1.755   \n2539697                                      1.755   \n2539698                                      1.755   \n\n         ethusdt:Binance:LinearPerpetual_ask_price_9  \\\n0                                            1049.54   \n1                                            1049.54   \n2                                            1049.54   \n3                                            1049.54   \n4                                            1049.54   \n...                                              ...   \n2539694                                      1143.79   \n2539695                                      1143.79   \n2539696                                      1143.79   \n2539697                                      1143.79   \n2539698                                      1143.79   \n\n         ethusdt:Binance:LinearPerpetual_ask_vol_9  \\\n0                                           27.741   \n1                                           27.741   \n2                                           27.741   \n3                                           27.741   \n4                                           27.741   \n...                                            ...   \n2539694                                     14.975   \n2539695                                     14.975   \n2539696                                     14.975   \n2539697                                     14.975   \n2539698                                     14.975   \n\n         ethusdt:Binance:LinearPerpetual_bid_price_9  \\\n0                                            1049.29   \n1                                            1049.29   \n2                                            1049.29   \n3                                            1049.29   \n4                                            1049.29   \n...                                              ...   \n2539694                                      1143.47   \n2539695                                      1143.47   \n2539696                                      1143.47   \n2539697                                      1143.47   \n2539698                                      1143.47   \n\n         ethusdt:Binance:LinearPerpetual_bid_vol_9  \n0                                            2.387  \n1                                            2.387  \n2                                            2.387  \n3                                            2.387  \n4                                            2.387  \n...                                            ...  \n2539694                                      0.505  \n2539695                                      0.505  \n2539696                                      0.505  \n2539697                                      0.505  \n2539698                                      0.505  \n\n[2539699 rows x 42 columns]",
      "text/html": "<div>\n<style scoped>\n    .dataframe tbody tr th:only-of-type {\n        vertical-align: middle;\n    }\n\n    .dataframe tbody tr th {\n        vertical-align: top;\n    }\n\n    .dataframe thead th {\n        text-align: right;\n    }\n</style>\n<table border=\"1\" class=\"dataframe\">\n  <thead>\n    <tr style=\"text-align: right;\">\n      <th></th>\n      <th>receive_ts</th>\n      <th>exchange_ts</th>\n      <th>ethusdt:Binance:LinearPerpetual_ask_price_0</th>\n      <th>ethusdt:Binance:LinearPerpetual_ask_vol_0</th>\n      <th>ethusdt:Binance:LinearPerpetual_bid_price_0</th>\n      <th>ethusdt:Binance:LinearPerpetual_bid_vol_0</th>\n      <th>ethusdt:Binance:LinearPerpetual_ask_price_1</th>\n      <th>ethusdt:Binance:LinearPerpetual_ask_vol_1</th>\n      <th>ethusdt:Binance:LinearPerpetual_bid_price_1</th>\n      <th>ethusdt:Binance:LinearPerpetual_bid_vol_1</th>\n      <th>...</th>\n      <th>ethusdt:Binance:LinearPerpetual_bid_price_7</th>\n      <th>ethusdt:Binance:LinearPerpetual_bid_vol_7</th>\n      <th>ethusdt:Binance:LinearPerpetual_ask_price_8</th>\n      <th>ethusdt:Binance:LinearPerpetual_ask_vol_8</th>\n      <th>ethusdt:Binance:LinearPerpetual_bid_price_8</th>\n      <th>ethusdt:Binance:LinearPerpetual_bid_vol_8</th>\n      <th>ethusdt:Binance:LinearPerpetual_ask_price_9</th>\n      <th>ethusdt:Binance:LinearPerpetual_ask_vol_9</th>\n      <th>ethusdt:Binance:LinearPerpetual_bid_price_9</th>\n      <th>ethusdt:Binance:LinearPerpetual_bid_vol_9</th>\n    </tr>\n  </thead>\n  <tbody>\n    <tr>\n      <th>0</th>\n      <td>2022-06-23 00:00:02.250395360</td>\n      <td>1655942402249000000</td>\n      <td>1049.45</td>\n      <td>1.046</td>\n      <td>1049.44</td>\n      <td>0.782</td>\n      <td>1049.46</td>\n      <td>2.229</td>\n      <td>1049.43</td>\n      <td>5.00</td>\n      <td>...</td>\n      <td>1049.31</td>\n      <td>7.495</td>\n      <td>1049.53</td>\n      <td>2.229</td>\n      <td>1049.30</td>\n      <td>1.452</td>\n      <td>1049.54</td>\n      <td>27.741</td>\n      <td>1049.29</td>\n      <td>2.387</td>\n    </tr>\n    <tr>\n      <th>1</th>\n      <td>2022-06-23 00:00:02.656012600</td>\n      <td>1655942402655000000</td>\n      <td>1049.45</td>\n      <td>0.314</td>\n      <td>1049.44</td>\n      <td>19.860</td>\n      <td>1049.46</td>\n      <td>2.243</td>\n      <td>1049.43</td>\n      <td>5.00</td>\n      <td>...</td>\n      <td>1049.31</td>\n      <td>7.495</td>\n      <td>1049.53</td>\n      <td>2.229</td>\n      <td>1049.30</td>\n      <td>1.452</td>\n      <td>1049.54</td>\n      <td>27.741</td>\n      <td>1049.29</td>\n      <td>2.387</td>\n    </tr>\n    <tr>\n      <th>2</th>\n      <td>2022-06-23 00:00:03.348658915</td>\n      <td>1655942403348000000</td>\n      <td>1049.45</td>\n      <td>0.314</td>\n      <td>1049.44</td>\n      <td>19.860</td>\n      <td>1049.46</td>\n      <td>2.243</td>\n      <td>1049.43</td>\n      <td>5.00</td>\n      <td>...</td>\n      <td>1049.31</td>\n      <td>7.495</td>\n      <td>1049.53</td>\n      <td>2.229</td>\n      <td>1049.30</td>\n      <td>1.452</td>\n      <td>1049.54</td>\n      <td>27.741</td>\n      <td>1049.29</td>\n      <td>2.387</td>\n    </tr>\n    <tr>\n      <th>3</th>\n      <td>2022-06-23 00:00:04.080743828</td>\n      <td>1655942404080000000</td>\n      <td>1049.45</td>\n      <td>0.314</td>\n      <td>1049.44</td>\n      <td>19.860</td>\n      <td>1049.46</td>\n      <td>2.243</td>\n      <td>1049.43</td>\n      <td>5.00</td>\n      <td>...</td>\n      <td>1049.31</td>\n      <td>7.495</td>\n      <td>1049.53</td>\n      <td>2.229</td>\n      <td>1049.30</td>\n      <td>1.452</td>\n      <td>1049.54</td>\n      <td>27.741</td>\n      <td>1049.29</td>\n      <td>2.387</td>\n    </tr>\n    <tr>\n      <th>4</th>\n      <td>2022-06-23 00:00:04.151722232</td>\n      <td>1655942404151000000</td>\n      <td>1049.45</td>\n      <td>0.314</td>\n      <td>1049.44</td>\n      <td>19.860</td>\n      <td>1049.46</td>\n      <td>2.243</td>\n      <td>1049.43</td>\n      <td>5.00</td>\n      <td>...</td>\n      <td>1049.31</td>\n      <td>7.495</td>\n      <td>1049.53</td>\n      <td>2.229</td>\n      <td>1049.30</td>\n      <td>1.452</td>\n      <td>1049.54</td>\n      <td>27.741</td>\n      <td>1049.29</td>\n      <td>2.387</td>\n    </tr>\n    <tr>\n      <th>...</th>\n      <td>...</td>\n      <td>...</td>\n      <td>...</td>\n      <td>...</td>\n      <td>...</td>\n      <td>...</td>\n      <td>...</td>\n      <td>...</td>\n      <td>...</td>\n      <td>...</td>\n      <td>...</td>\n      <td>...</td>\n      <td>...</td>\n      <td>...</td>\n      <td>...</td>\n      <td>...</td>\n      <td>...</td>\n      <td>...</td>\n      <td>...</td>\n      <td>...</td>\n      <td>...</td>\n    </tr>\n    <tr>\n      <th>2539694</th>\n      <td>2022-06-23 23:59:41.406860422</td>\n      <td>1656028781406000000</td>\n      <td>1143.63</td>\n      <td>19.992</td>\n      <td>1143.62</td>\n      <td>23.868</td>\n      <td>1143.67</td>\n      <td>2.348</td>\n      <td>1143.61</td>\n      <td>4.35</td>\n      <td>...</td>\n      <td>1143.50</td>\n      <td>0.016</td>\n      <td>1143.78</td>\n      <td>4.445</td>\n      <td>1143.49</td>\n      <td>1.755</td>\n      <td>1143.79</td>\n      <td>14.975</td>\n      <td>1143.47</td>\n      <td>0.505</td>\n    </tr>\n    <tr>\n      <th>2539695</th>\n      <td>2022-06-23 23:59:41.441496250</td>\n      <td>1656028781441000000</td>\n      <td>1143.63</td>\n      <td>19.992</td>\n      <td>1143.62</td>\n      <td>23.868</td>\n      <td>1143.67</td>\n      <td>2.348</td>\n      <td>1143.61</td>\n      <td>4.35</td>\n      <td>...</td>\n      <td>1143.50</td>\n      <td>0.016</td>\n      <td>1143.78</td>\n      <td>4.445</td>\n      <td>1143.49</td>\n      <td>1.755</td>\n      <td>1143.79</td>\n      <td>14.975</td>\n      <td>1143.47</td>\n      <td>0.505</td>\n    </tr>\n    <tr>\n      <th>2539696</th>\n      <td>2022-06-23 23:59:41.474705210</td>\n      <td>1656028781474000000</td>\n      <td>1143.63</td>\n      <td>19.992</td>\n      <td>1143.62</td>\n      <td>23.868</td>\n      <td>1143.67</td>\n      <td>2.348</td>\n      <td>1143.61</td>\n      <td>4.35</td>\n      <td>...</td>\n      <td>1143.50</td>\n      <td>0.016</td>\n      <td>1143.78</td>\n      <td>4.445</td>\n      <td>1143.49</td>\n      <td>1.755</td>\n      <td>1143.79</td>\n      <td>14.975</td>\n      <td>1143.47</td>\n      <td>0.505</td>\n    </tr>\n    <tr>\n      <th>2539697</th>\n      <td>2022-06-23 23:59:41.508489746</td>\n      <td>1656028781508000000</td>\n      <td>1143.63</td>\n      <td>20.026</td>\n      <td>1143.62</td>\n      <td>23.868</td>\n      <td>1143.67</td>\n      <td>2.348</td>\n      <td>1143.61</td>\n      <td>4.35</td>\n      <td>...</td>\n      <td>1143.50</td>\n      <td>0.016</td>\n      <td>1143.78</td>\n      <td>4.445</td>\n      <td>1143.49</td>\n      <td>1.755</td>\n      <td>1143.79</td>\n      <td>14.975</td>\n      <td>1143.47</td>\n      <td>0.505</td>\n    </tr>\n    <tr>\n      <th>2539698</th>\n      <td>2022-06-23 23:59:41.540611339</td>\n      <td>1656028781540000000</td>\n      <td>1143.63</td>\n      <td>20.026</td>\n      <td>1143.62</td>\n      <td>23.868</td>\n      <td>1143.67</td>\n      <td>2.348</td>\n      <td>1143.61</td>\n      <td>4.35</td>\n      <td>...</td>\n      <td>1143.50</td>\n      <td>0.016</td>\n      <td>1143.78</td>\n      <td>4.445</td>\n      <td>1143.49</td>\n      <td>1.755</td>\n      <td>1143.79</td>\n      <td>14.975</td>\n      <td>1143.47</td>\n      <td>0.505</td>\n    </tr>\n  </tbody>\n</table>\n<p>2539699 rows × 42 columns</p>\n</div>"
     },
     "execution_count": 14,
     "metadata": {},
     "output_type": "execute_result"
    }
   ],
   "source": [
    "lobs['receive_ts'] = pd.to_datetime(lobs['receive_ts'])\n",
    "lobs"
   ],
   "metadata": {
    "collapsed": false
   }
  },
  {
   "cell_type": "code",
   "execution_count": 15,
   "outputs": [],
   "source": [
    "lobs['supporting: 1_sec_before'] = lobs['receive_ts'].searchsorted(lobs['receive_ts'] - datetime.timedelta(seconds=1))\n",
    "lobs['supporting: 1_sec_after'] = lobs['receive_ts'].searchsorted(lobs['receive_ts'] + datetime.timedelta(seconds=1))\n",
    "lobs['supporting: 500_ms_after'] = lobs['receive_ts'].searchsorted(lobs['receive_ts'] + datetime.timedelta(milliseconds=300))"
   ],
   "metadata": {
    "collapsed": false
   }
  },
  {
   "cell_type": "code",
   "execution_count": 16,
   "outputs": [],
   "source": [
    "lobs['midprice'] = (lobs['ethusdt:Binance:LinearPerpetual_ask_price_0'] + lobs['ethusdt:Binance:LinearPerpetual_bid_price_0']) / 2\n",
    "lobs['future: midprice'] = lobs['supporting: 500_ms_after'].map(dict(zip(lobs.index, lobs['midprice'])))"
   ],
   "metadata": {
    "collapsed": false
   }
  },
  {
   "cell_type": "code",
   "execution_count": 17,
   "outputs": [
    {
     "data": {
      "text/plain": "                           receive_ts          exchange_ts  \\\n0       2022-06-23 00:00:02.250395360  1655942402249000000   \n1       2022-06-23 00:00:02.656012600  1655942402655000000   \n2       2022-06-23 00:00:03.348658915  1655942403348000000   \n3       2022-06-23 00:00:04.080743828  1655942404080000000   \n4       2022-06-23 00:00:04.151722232  1655942404151000000   \n...                               ...                  ...   \n2539694 2022-06-23 23:59:41.406860422  1656028781406000000   \n2539695 2022-06-23 23:59:41.441496250  1656028781441000000   \n2539696 2022-06-23 23:59:41.474705210  1656028781474000000   \n2539697 2022-06-23 23:59:41.508489746  1656028781508000000   \n2539698 2022-06-23 23:59:41.540611339  1656028781540000000   \n\n         ethusdt:Binance:LinearPerpetual_ask_price_0  \\\n0                                            1049.45   \n1                                            1049.45   \n2                                            1049.45   \n3                                            1049.45   \n4                                            1049.45   \n...                                              ...   \n2539694                                      1143.63   \n2539695                                      1143.63   \n2539696                                      1143.63   \n2539697                                      1143.63   \n2539698                                      1143.63   \n\n         ethusdt:Binance:LinearPerpetual_ask_vol_0  \\\n0                                            1.046   \n1                                            0.314   \n2                                            0.314   \n3                                            0.314   \n4                                            0.314   \n...                                            ...   \n2539694                                     19.992   \n2539695                                     19.992   \n2539696                                     19.992   \n2539697                                     20.026   \n2539698                                     20.026   \n\n         ethusdt:Binance:LinearPerpetual_bid_price_0  \\\n0                                            1049.44   \n1                                            1049.44   \n2                                            1049.44   \n3                                            1049.44   \n4                                            1049.44   \n...                                              ...   \n2539694                                      1143.62   \n2539695                                      1143.62   \n2539696                                      1143.62   \n2539697                                      1143.62   \n2539698                                      1143.62   \n\n         ethusdt:Binance:LinearPerpetual_bid_vol_0  \\\n0                                            0.782   \n1                                           19.860   \n2                                           19.860   \n3                                           19.860   \n4                                           19.860   \n...                                            ...   \n2539694                                     23.868   \n2539695                                     23.868   \n2539696                                     23.868   \n2539697                                     23.868   \n2539698                                     23.868   \n\n         ethusdt:Binance:LinearPerpetual_ask_price_1  \\\n0                                            1049.46   \n1                                            1049.46   \n2                                            1049.46   \n3                                            1049.46   \n4                                            1049.46   \n...                                              ...   \n2539694                                      1143.67   \n2539695                                      1143.67   \n2539696                                      1143.67   \n2539697                                      1143.67   \n2539698                                      1143.67   \n\n         ethusdt:Binance:LinearPerpetual_ask_vol_1  \\\n0                                            2.229   \n1                                            2.243   \n2                                            2.243   \n3                                            2.243   \n4                                            2.243   \n...                                            ...   \n2539694                                      2.348   \n2539695                                      2.348   \n2539696                                      2.348   \n2539697                                      2.348   \n2539698                                      2.348   \n\n         ethusdt:Binance:LinearPerpetual_bid_price_1  \\\n0                                            1049.43   \n1                                            1049.43   \n2                                            1049.43   \n3                                            1049.43   \n4                                            1049.43   \n...                                              ...   \n2539694                                      1143.61   \n2539695                                      1143.61   \n2539696                                      1143.61   \n2539697                                      1143.61   \n2539698                                      1143.61   \n\n         ethusdt:Binance:LinearPerpetual_bid_vol_1  ...  \\\n0                                             5.00  ...   \n1                                             5.00  ...   \n2                                             5.00  ...   \n3                                             5.00  ...   \n4                                             5.00  ...   \n...                                            ...  ...   \n2539694                                       4.35  ...   \n2539695                                       4.35  ...   \n2539696                                       4.35  ...   \n2539697                                       4.35  ...   \n2539698                                       4.35  ...   \n\n         ethusdt:Binance:LinearPerpetual_ask_price_9  \\\n0                                            1049.54   \n1                                            1049.54   \n2                                            1049.54   \n3                                            1049.54   \n4                                            1049.54   \n...                                              ...   \n2539694                                      1143.79   \n2539695                                      1143.79   \n2539696                                      1143.79   \n2539697                                      1143.79   \n2539698                                      1143.79   \n\n         ethusdt:Binance:LinearPerpetual_ask_vol_9  \\\n0                                           27.741   \n1                                           27.741   \n2                                           27.741   \n3                                           27.741   \n4                                           27.741   \n...                                            ...   \n2539694                                     14.975   \n2539695                                     14.975   \n2539696                                     14.975   \n2539697                                     14.975   \n2539698                                     14.975   \n\n         ethusdt:Binance:LinearPerpetual_bid_price_9  \\\n0                                            1049.29   \n1                                            1049.29   \n2                                            1049.29   \n3                                            1049.29   \n4                                            1049.29   \n...                                              ...   \n2539694                                      1143.47   \n2539695                                      1143.47   \n2539696                                      1143.47   \n2539697                                      1143.47   \n2539698                                      1143.47   \n\n         ethusdt:Binance:LinearPerpetual_bid_vol_9  supporting: 1_sec_before  \\\n0                                            2.387                         0   \n1                                            2.387                         0   \n2                                            2.387                         1   \n3                                            2.387                         2   \n4                                            2.387                         2   \n...                                            ...                       ...   \n2539694                                      0.505                   2539665   \n2539695                                      0.505                   2539666   \n2539696                                      0.505                   2539667   \n2539697                                      0.505                   2539668   \n2539698                                      0.505                   2539669   \n\n         supporting: 1_sec_after  supporting: 500_ms_after  midprice  \\\n0                              2                         1  1049.445   \n1                              3                         2  1049.445   \n2                              5                         3  1049.445   \n3                              7                         5  1049.445   \n4                              7                         5  1049.445   \n...                          ...                       ...       ...   \n2539694                  2539699                   2539699  1143.625   \n2539695                  2539699                   2539699  1143.625   \n2539696                  2539699                   2539699  1143.625   \n2539697                  2539699                   2539699  1143.625   \n2539698                  2539699                   2539699  1143.625   \n\n         future: midprice  future: return  \n0                1049.445             0.0  \n1                1049.445             0.0  \n2                1049.445             0.0  \n3                1049.445             0.0  \n4                1049.445             0.0  \n...                   ...             ...  \n2539694               NaN             NaN  \n2539695               NaN             NaN  \n2539696               NaN             NaN  \n2539697               NaN             NaN  \n2539698               NaN             NaN  \n\n[2539699 rows x 48 columns]",
      "text/html": "<div>\n<style scoped>\n    .dataframe tbody tr th:only-of-type {\n        vertical-align: middle;\n    }\n\n    .dataframe tbody tr th {\n        vertical-align: top;\n    }\n\n    .dataframe thead th {\n        text-align: right;\n    }\n</style>\n<table border=\"1\" class=\"dataframe\">\n  <thead>\n    <tr style=\"text-align: right;\">\n      <th></th>\n      <th>receive_ts</th>\n      <th>exchange_ts</th>\n      <th>ethusdt:Binance:LinearPerpetual_ask_price_0</th>\n      <th>ethusdt:Binance:LinearPerpetual_ask_vol_0</th>\n      <th>ethusdt:Binance:LinearPerpetual_bid_price_0</th>\n      <th>ethusdt:Binance:LinearPerpetual_bid_vol_0</th>\n      <th>ethusdt:Binance:LinearPerpetual_ask_price_1</th>\n      <th>ethusdt:Binance:LinearPerpetual_ask_vol_1</th>\n      <th>ethusdt:Binance:LinearPerpetual_bid_price_1</th>\n      <th>ethusdt:Binance:LinearPerpetual_bid_vol_1</th>\n      <th>...</th>\n      <th>ethusdt:Binance:LinearPerpetual_ask_price_9</th>\n      <th>ethusdt:Binance:LinearPerpetual_ask_vol_9</th>\n      <th>ethusdt:Binance:LinearPerpetual_bid_price_9</th>\n      <th>ethusdt:Binance:LinearPerpetual_bid_vol_9</th>\n      <th>supporting: 1_sec_before</th>\n      <th>supporting: 1_sec_after</th>\n      <th>supporting: 500_ms_after</th>\n      <th>midprice</th>\n      <th>future: midprice</th>\n      <th>future: return</th>\n    </tr>\n  </thead>\n  <tbody>\n    <tr>\n      <th>0</th>\n      <td>2022-06-23 00:00:02.250395360</td>\n      <td>1655942402249000000</td>\n      <td>1049.45</td>\n      <td>1.046</td>\n      <td>1049.44</td>\n      <td>0.782</td>\n      <td>1049.46</td>\n      <td>2.229</td>\n      <td>1049.43</td>\n      <td>5.00</td>\n      <td>...</td>\n      <td>1049.54</td>\n      <td>27.741</td>\n      <td>1049.29</td>\n      <td>2.387</td>\n      <td>0</td>\n      <td>2</td>\n      <td>1</td>\n      <td>1049.445</td>\n      <td>1049.445</td>\n      <td>0.0</td>\n    </tr>\n    <tr>\n      <th>1</th>\n      <td>2022-06-23 00:00:02.656012600</td>\n      <td>1655942402655000000</td>\n      <td>1049.45</td>\n      <td>0.314</td>\n      <td>1049.44</td>\n      <td>19.860</td>\n      <td>1049.46</td>\n      <td>2.243</td>\n      <td>1049.43</td>\n      <td>5.00</td>\n      <td>...</td>\n      <td>1049.54</td>\n      <td>27.741</td>\n      <td>1049.29</td>\n      <td>2.387</td>\n      <td>0</td>\n      <td>3</td>\n      <td>2</td>\n      <td>1049.445</td>\n      <td>1049.445</td>\n      <td>0.0</td>\n    </tr>\n    <tr>\n      <th>2</th>\n      <td>2022-06-23 00:00:03.348658915</td>\n      <td>1655942403348000000</td>\n      <td>1049.45</td>\n      <td>0.314</td>\n      <td>1049.44</td>\n      <td>19.860</td>\n      <td>1049.46</td>\n      <td>2.243</td>\n      <td>1049.43</td>\n      <td>5.00</td>\n      <td>...</td>\n      <td>1049.54</td>\n      <td>27.741</td>\n      <td>1049.29</td>\n      <td>2.387</td>\n      <td>1</td>\n      <td>5</td>\n      <td>3</td>\n      <td>1049.445</td>\n      <td>1049.445</td>\n      <td>0.0</td>\n    </tr>\n    <tr>\n      <th>3</th>\n      <td>2022-06-23 00:00:04.080743828</td>\n      <td>1655942404080000000</td>\n      <td>1049.45</td>\n      <td>0.314</td>\n      <td>1049.44</td>\n      <td>19.860</td>\n      <td>1049.46</td>\n      <td>2.243</td>\n      <td>1049.43</td>\n      <td>5.00</td>\n      <td>...</td>\n      <td>1049.54</td>\n      <td>27.741</td>\n      <td>1049.29</td>\n      <td>2.387</td>\n      <td>2</td>\n      <td>7</td>\n      <td>5</td>\n      <td>1049.445</td>\n      <td>1049.445</td>\n      <td>0.0</td>\n    </tr>\n    <tr>\n      <th>4</th>\n      <td>2022-06-23 00:00:04.151722232</td>\n      <td>1655942404151000000</td>\n      <td>1049.45</td>\n      <td>0.314</td>\n      <td>1049.44</td>\n      <td>19.860</td>\n      <td>1049.46</td>\n      <td>2.243</td>\n      <td>1049.43</td>\n      <td>5.00</td>\n      <td>...</td>\n      <td>1049.54</td>\n      <td>27.741</td>\n      <td>1049.29</td>\n      <td>2.387</td>\n      <td>2</td>\n      <td>7</td>\n      <td>5</td>\n      <td>1049.445</td>\n      <td>1049.445</td>\n      <td>0.0</td>\n    </tr>\n    <tr>\n      <th>...</th>\n      <td>...</td>\n      <td>...</td>\n      <td>...</td>\n      <td>...</td>\n      <td>...</td>\n      <td>...</td>\n      <td>...</td>\n      <td>...</td>\n      <td>...</td>\n      <td>...</td>\n      <td>...</td>\n      <td>...</td>\n      <td>...</td>\n      <td>...</td>\n      <td>...</td>\n      <td>...</td>\n      <td>...</td>\n      <td>...</td>\n      <td>...</td>\n      <td>...</td>\n      <td>...</td>\n    </tr>\n    <tr>\n      <th>2539694</th>\n      <td>2022-06-23 23:59:41.406860422</td>\n      <td>1656028781406000000</td>\n      <td>1143.63</td>\n      <td>19.992</td>\n      <td>1143.62</td>\n      <td>23.868</td>\n      <td>1143.67</td>\n      <td>2.348</td>\n      <td>1143.61</td>\n      <td>4.35</td>\n      <td>...</td>\n      <td>1143.79</td>\n      <td>14.975</td>\n      <td>1143.47</td>\n      <td>0.505</td>\n      <td>2539665</td>\n      <td>2539699</td>\n      <td>2539699</td>\n      <td>1143.625</td>\n      <td>NaN</td>\n      <td>NaN</td>\n    </tr>\n    <tr>\n      <th>2539695</th>\n      <td>2022-06-23 23:59:41.441496250</td>\n      <td>1656028781441000000</td>\n      <td>1143.63</td>\n      <td>19.992</td>\n      <td>1143.62</td>\n      <td>23.868</td>\n      <td>1143.67</td>\n      <td>2.348</td>\n      <td>1143.61</td>\n      <td>4.35</td>\n      <td>...</td>\n      <td>1143.79</td>\n      <td>14.975</td>\n      <td>1143.47</td>\n      <td>0.505</td>\n      <td>2539666</td>\n      <td>2539699</td>\n      <td>2539699</td>\n      <td>1143.625</td>\n      <td>NaN</td>\n      <td>NaN</td>\n    </tr>\n    <tr>\n      <th>2539696</th>\n      <td>2022-06-23 23:59:41.474705210</td>\n      <td>1656028781474000000</td>\n      <td>1143.63</td>\n      <td>19.992</td>\n      <td>1143.62</td>\n      <td>23.868</td>\n      <td>1143.67</td>\n      <td>2.348</td>\n      <td>1143.61</td>\n      <td>4.35</td>\n      <td>...</td>\n      <td>1143.79</td>\n      <td>14.975</td>\n      <td>1143.47</td>\n      <td>0.505</td>\n      <td>2539667</td>\n      <td>2539699</td>\n      <td>2539699</td>\n      <td>1143.625</td>\n      <td>NaN</td>\n      <td>NaN</td>\n    </tr>\n    <tr>\n      <th>2539697</th>\n      <td>2022-06-23 23:59:41.508489746</td>\n      <td>1656028781508000000</td>\n      <td>1143.63</td>\n      <td>20.026</td>\n      <td>1143.62</td>\n      <td>23.868</td>\n      <td>1143.67</td>\n      <td>2.348</td>\n      <td>1143.61</td>\n      <td>4.35</td>\n      <td>...</td>\n      <td>1143.79</td>\n      <td>14.975</td>\n      <td>1143.47</td>\n      <td>0.505</td>\n      <td>2539668</td>\n      <td>2539699</td>\n      <td>2539699</td>\n      <td>1143.625</td>\n      <td>NaN</td>\n      <td>NaN</td>\n    </tr>\n    <tr>\n      <th>2539698</th>\n      <td>2022-06-23 23:59:41.540611339</td>\n      <td>1656028781540000000</td>\n      <td>1143.63</td>\n      <td>20.026</td>\n      <td>1143.62</td>\n      <td>23.868</td>\n      <td>1143.67</td>\n      <td>2.348</td>\n      <td>1143.61</td>\n      <td>4.35</td>\n      <td>...</td>\n      <td>1143.79</td>\n      <td>14.975</td>\n      <td>1143.47</td>\n      <td>0.505</td>\n      <td>2539669</td>\n      <td>2539699</td>\n      <td>2539699</td>\n      <td>1143.625</td>\n      <td>NaN</td>\n      <td>NaN</td>\n    </tr>\n  </tbody>\n</table>\n<p>2539699 rows × 48 columns</p>\n</div>"
     },
     "execution_count": 17,
     "metadata": {},
     "output_type": "execute_result"
    }
   ],
   "source": [
    "lobs['future: return'] = np.log(lobs['future: midprice']/lobs['midprice'])\n",
    "lobs"
   ],
   "metadata": {
    "collapsed": false
   }
  },
  {
   "cell_type": "code",
   "execution_count": 18,
   "outputs": [],
   "source": [
    "lobs['i'] = lobs.index"
   ],
   "metadata": {
    "collapsed": false
   }
  },
  {
   "cell_type": "code",
   "execution_count": 19,
   "outputs": [
    {
     "name": "stderr",
     "output_type": "stream",
     "text": [
      "100%|██████████| 2539699/2539699 [10:49<00:00, 3911.77it/s]\n"
     ]
    },
    {
     "data": {
      "text/plain": "                           receive_ts          exchange_ts  \\\n0       2022-06-23 00:00:02.250395360  1655942402249000000   \n1       2022-06-23 00:00:02.656012600  1655942402655000000   \n2       2022-06-23 00:00:03.348658915  1655942403348000000   \n3       2022-06-23 00:00:04.080743828  1655942404080000000   \n4       2022-06-23 00:00:04.151722232  1655942404151000000   \n...                               ...                  ...   \n2539694 2022-06-23 23:59:41.406860422  1656028781406000000   \n2539695 2022-06-23 23:59:41.441496250  1656028781441000000   \n2539696 2022-06-23 23:59:41.474705210  1656028781474000000   \n2539697 2022-06-23 23:59:41.508489746  1656028781508000000   \n2539698 2022-06-23 23:59:41.540611339  1656028781540000000   \n\n         ethusdt:Binance:LinearPerpetual_ask_price_0  \\\n0                                            1049.45   \n1                                            1049.45   \n2                                            1049.45   \n3                                            1049.45   \n4                                            1049.45   \n...                                              ...   \n2539694                                      1143.63   \n2539695                                      1143.63   \n2539696                                      1143.63   \n2539697                                      1143.63   \n2539698                                      1143.63   \n\n         ethusdt:Binance:LinearPerpetual_ask_vol_0  \\\n0                                            1.046   \n1                                            0.314   \n2                                            0.314   \n3                                            0.314   \n4                                            0.314   \n...                                            ...   \n2539694                                     19.992   \n2539695                                     19.992   \n2539696                                     19.992   \n2539697                                     20.026   \n2539698                                     20.026   \n\n         ethusdt:Binance:LinearPerpetual_bid_price_0  \\\n0                                            1049.44   \n1                                            1049.44   \n2                                            1049.44   \n3                                            1049.44   \n4                                            1049.44   \n...                                              ...   \n2539694                                      1143.62   \n2539695                                      1143.62   \n2539696                                      1143.62   \n2539697                                      1143.62   \n2539698                                      1143.62   \n\n         ethusdt:Binance:LinearPerpetual_bid_vol_0  \\\n0                                            0.782   \n1                                           19.860   \n2                                           19.860   \n3                                           19.860   \n4                                           19.860   \n...                                            ...   \n2539694                                     23.868   \n2539695                                     23.868   \n2539696                                     23.868   \n2539697                                     23.868   \n2539698                                     23.868   \n\n         ethusdt:Binance:LinearPerpetual_ask_price_1  \\\n0                                            1049.46   \n1                                            1049.46   \n2                                            1049.46   \n3                                            1049.46   \n4                                            1049.46   \n...                                              ...   \n2539694                                      1143.67   \n2539695                                      1143.67   \n2539696                                      1143.67   \n2539697                                      1143.67   \n2539698                                      1143.67   \n\n         ethusdt:Binance:LinearPerpetual_ask_vol_1  \\\n0                                            2.229   \n1                                            2.243   \n2                                            2.243   \n3                                            2.243   \n4                                            2.243   \n...                                            ...   \n2539694                                      2.348   \n2539695                                      2.348   \n2539696                                      2.348   \n2539697                                      2.348   \n2539698                                      2.348   \n\n         ethusdt:Binance:LinearPerpetual_bid_price_1  \\\n0                                            1049.43   \n1                                            1049.43   \n2                                            1049.43   \n3                                            1049.43   \n4                                            1049.43   \n...                                              ...   \n2539694                                      1143.61   \n2539695                                      1143.61   \n2539696                                      1143.61   \n2539697                                      1143.61   \n2539698                                      1143.61   \n\n         ethusdt:Binance:LinearPerpetual_bid_vol_1  ...  \\\n0                                             5.00  ...   \n1                                             5.00  ...   \n2                                             5.00  ...   \n3                                             5.00  ...   \n4                                             5.00  ...   \n...                                            ...  ...   \n2539694                                       4.35  ...   \n2539695                                       4.35  ...   \n2539696                                       4.35  ...   \n2539697                                       4.35  ...   \n2539698                                       4.35  ...   \n\n         ethusdt:Binance:LinearPerpetual_bid_price_9  \\\n0                                            1049.29   \n1                                            1049.29   \n2                                            1049.29   \n3                                            1049.29   \n4                                            1049.29   \n...                                              ...   \n2539694                                      1143.47   \n2539695                                      1143.47   \n2539696                                      1143.47   \n2539697                                      1143.47   \n2539698                                      1143.47   \n\n         ethusdt:Binance:LinearPerpetual_bid_vol_9  supporting: 1_sec_before  \\\n0                                            2.387                         0   \n1                                            2.387                         0   \n2                                            2.387                         1   \n3                                            2.387                         2   \n4                                            2.387                         2   \n...                                            ...                       ...   \n2539694                                      0.505                   2539665   \n2539695                                      0.505                   2539666   \n2539696                                      0.505                   2539667   \n2539697                                      0.505                   2539668   \n2539698                                      0.505                   2539669   \n\n         supporting: 1_sec_after  supporting: 500_ms_after  midprice  \\\n0                              2                         1  1049.445   \n1                              3                         2  1049.445   \n2                              5                         3  1049.445   \n3                              7                         5  1049.445   \n4                              7                         5  1049.445   \n...                          ...                       ...       ...   \n2539694                  2539699                   2539699  1143.625   \n2539695                  2539699                   2539699  1143.625   \n2539696                  2539699                   2539699  1143.625   \n2539697                  2539699                   2539699  1143.625   \n2539698                  2539699                   2539699  1143.625   \n\n         future: midprice  future: return        i  volatility  \n0                1049.445             0.0        0         NaN  \n1                1049.445             0.0        1    0.000000  \n2                1049.445             0.0        2    0.000000  \n3                1049.445             0.0        3    0.000000  \n4                1049.445             0.0        4    0.000000  \n...                   ...             ...      ...         ...  \n2539694               NaN             NaN  2539694    0.000037  \n2539695               NaN             NaN  2539695    0.000036  \n2539696               NaN             NaN  2539696    0.000035  \n2539697               NaN             NaN  2539697    0.000034  \n2539698               NaN             NaN  2539698    0.000031  \n\n[2539699 rows x 50 columns]",
      "text/html": "<div>\n<style scoped>\n    .dataframe tbody tr th:only-of-type {\n        vertical-align: middle;\n    }\n\n    .dataframe tbody tr th {\n        vertical-align: top;\n    }\n\n    .dataframe thead th {\n        text-align: right;\n    }\n</style>\n<table border=\"1\" class=\"dataframe\">\n  <thead>\n    <tr style=\"text-align: right;\">\n      <th></th>\n      <th>receive_ts</th>\n      <th>exchange_ts</th>\n      <th>ethusdt:Binance:LinearPerpetual_ask_price_0</th>\n      <th>ethusdt:Binance:LinearPerpetual_ask_vol_0</th>\n      <th>ethusdt:Binance:LinearPerpetual_bid_price_0</th>\n      <th>ethusdt:Binance:LinearPerpetual_bid_vol_0</th>\n      <th>ethusdt:Binance:LinearPerpetual_ask_price_1</th>\n      <th>ethusdt:Binance:LinearPerpetual_ask_vol_1</th>\n      <th>ethusdt:Binance:LinearPerpetual_bid_price_1</th>\n      <th>ethusdt:Binance:LinearPerpetual_bid_vol_1</th>\n      <th>...</th>\n      <th>ethusdt:Binance:LinearPerpetual_bid_price_9</th>\n      <th>ethusdt:Binance:LinearPerpetual_bid_vol_9</th>\n      <th>supporting: 1_sec_before</th>\n      <th>supporting: 1_sec_after</th>\n      <th>supporting: 500_ms_after</th>\n      <th>midprice</th>\n      <th>future: midprice</th>\n      <th>future: return</th>\n      <th>i</th>\n      <th>volatility</th>\n    </tr>\n  </thead>\n  <tbody>\n    <tr>\n      <th>0</th>\n      <td>2022-06-23 00:00:02.250395360</td>\n      <td>1655942402249000000</td>\n      <td>1049.45</td>\n      <td>1.046</td>\n      <td>1049.44</td>\n      <td>0.782</td>\n      <td>1049.46</td>\n      <td>2.229</td>\n      <td>1049.43</td>\n      <td>5.00</td>\n      <td>...</td>\n      <td>1049.29</td>\n      <td>2.387</td>\n      <td>0</td>\n      <td>2</td>\n      <td>1</td>\n      <td>1049.445</td>\n      <td>1049.445</td>\n      <td>0.0</td>\n      <td>0</td>\n      <td>NaN</td>\n    </tr>\n    <tr>\n      <th>1</th>\n      <td>2022-06-23 00:00:02.656012600</td>\n      <td>1655942402655000000</td>\n      <td>1049.45</td>\n      <td>0.314</td>\n      <td>1049.44</td>\n      <td>19.860</td>\n      <td>1049.46</td>\n      <td>2.243</td>\n      <td>1049.43</td>\n      <td>5.00</td>\n      <td>...</td>\n      <td>1049.29</td>\n      <td>2.387</td>\n      <td>0</td>\n      <td>3</td>\n      <td>2</td>\n      <td>1049.445</td>\n      <td>1049.445</td>\n      <td>0.0</td>\n      <td>1</td>\n      <td>0.000000</td>\n    </tr>\n    <tr>\n      <th>2</th>\n      <td>2022-06-23 00:00:03.348658915</td>\n      <td>1655942403348000000</td>\n      <td>1049.45</td>\n      <td>0.314</td>\n      <td>1049.44</td>\n      <td>19.860</td>\n      <td>1049.46</td>\n      <td>2.243</td>\n      <td>1049.43</td>\n      <td>5.00</td>\n      <td>...</td>\n      <td>1049.29</td>\n      <td>2.387</td>\n      <td>1</td>\n      <td>5</td>\n      <td>3</td>\n      <td>1049.445</td>\n      <td>1049.445</td>\n      <td>0.0</td>\n      <td>2</td>\n      <td>0.000000</td>\n    </tr>\n    <tr>\n      <th>3</th>\n      <td>2022-06-23 00:00:04.080743828</td>\n      <td>1655942404080000000</td>\n      <td>1049.45</td>\n      <td>0.314</td>\n      <td>1049.44</td>\n      <td>19.860</td>\n      <td>1049.46</td>\n      <td>2.243</td>\n      <td>1049.43</td>\n      <td>5.00</td>\n      <td>...</td>\n      <td>1049.29</td>\n      <td>2.387</td>\n      <td>2</td>\n      <td>7</td>\n      <td>5</td>\n      <td>1049.445</td>\n      <td>1049.445</td>\n      <td>0.0</td>\n      <td>3</td>\n      <td>0.000000</td>\n    </tr>\n    <tr>\n      <th>4</th>\n      <td>2022-06-23 00:00:04.151722232</td>\n      <td>1655942404151000000</td>\n      <td>1049.45</td>\n      <td>0.314</td>\n      <td>1049.44</td>\n      <td>19.860</td>\n      <td>1049.46</td>\n      <td>2.243</td>\n      <td>1049.43</td>\n      <td>5.00</td>\n      <td>...</td>\n      <td>1049.29</td>\n      <td>2.387</td>\n      <td>2</td>\n      <td>7</td>\n      <td>5</td>\n      <td>1049.445</td>\n      <td>1049.445</td>\n      <td>0.0</td>\n      <td>4</td>\n      <td>0.000000</td>\n    </tr>\n    <tr>\n      <th>...</th>\n      <td>...</td>\n      <td>...</td>\n      <td>...</td>\n      <td>...</td>\n      <td>...</td>\n      <td>...</td>\n      <td>...</td>\n      <td>...</td>\n      <td>...</td>\n      <td>...</td>\n      <td>...</td>\n      <td>...</td>\n      <td>...</td>\n      <td>...</td>\n      <td>...</td>\n      <td>...</td>\n      <td>...</td>\n      <td>...</td>\n      <td>...</td>\n      <td>...</td>\n      <td>...</td>\n    </tr>\n    <tr>\n      <th>2539694</th>\n      <td>2022-06-23 23:59:41.406860422</td>\n      <td>1656028781406000000</td>\n      <td>1143.63</td>\n      <td>19.992</td>\n      <td>1143.62</td>\n      <td>23.868</td>\n      <td>1143.67</td>\n      <td>2.348</td>\n      <td>1143.61</td>\n      <td>4.35</td>\n      <td>...</td>\n      <td>1143.47</td>\n      <td>0.505</td>\n      <td>2539665</td>\n      <td>2539699</td>\n      <td>2539699</td>\n      <td>1143.625</td>\n      <td>NaN</td>\n      <td>NaN</td>\n      <td>2539694</td>\n      <td>0.000037</td>\n    </tr>\n    <tr>\n      <th>2539695</th>\n      <td>2022-06-23 23:59:41.441496250</td>\n      <td>1656028781441000000</td>\n      <td>1143.63</td>\n      <td>19.992</td>\n      <td>1143.62</td>\n      <td>23.868</td>\n      <td>1143.67</td>\n      <td>2.348</td>\n      <td>1143.61</td>\n      <td>4.35</td>\n      <td>...</td>\n      <td>1143.47</td>\n      <td>0.505</td>\n      <td>2539666</td>\n      <td>2539699</td>\n      <td>2539699</td>\n      <td>1143.625</td>\n      <td>NaN</td>\n      <td>NaN</td>\n      <td>2539695</td>\n      <td>0.000036</td>\n    </tr>\n    <tr>\n      <th>2539696</th>\n      <td>2022-06-23 23:59:41.474705210</td>\n      <td>1656028781474000000</td>\n      <td>1143.63</td>\n      <td>19.992</td>\n      <td>1143.62</td>\n      <td>23.868</td>\n      <td>1143.67</td>\n      <td>2.348</td>\n      <td>1143.61</td>\n      <td>4.35</td>\n      <td>...</td>\n      <td>1143.47</td>\n      <td>0.505</td>\n      <td>2539667</td>\n      <td>2539699</td>\n      <td>2539699</td>\n      <td>1143.625</td>\n      <td>NaN</td>\n      <td>NaN</td>\n      <td>2539696</td>\n      <td>0.000035</td>\n    </tr>\n    <tr>\n      <th>2539697</th>\n      <td>2022-06-23 23:59:41.508489746</td>\n      <td>1656028781508000000</td>\n      <td>1143.63</td>\n      <td>20.026</td>\n      <td>1143.62</td>\n      <td>23.868</td>\n      <td>1143.67</td>\n      <td>2.348</td>\n      <td>1143.61</td>\n      <td>4.35</td>\n      <td>...</td>\n      <td>1143.47</td>\n      <td>0.505</td>\n      <td>2539668</td>\n      <td>2539699</td>\n      <td>2539699</td>\n      <td>1143.625</td>\n      <td>NaN</td>\n      <td>NaN</td>\n      <td>2539697</td>\n      <td>0.000034</td>\n    </tr>\n    <tr>\n      <th>2539698</th>\n      <td>2022-06-23 23:59:41.540611339</td>\n      <td>1656028781540000000</td>\n      <td>1143.63</td>\n      <td>20.026</td>\n      <td>1143.62</td>\n      <td>23.868</td>\n      <td>1143.67</td>\n      <td>2.348</td>\n      <td>1143.61</td>\n      <td>4.35</td>\n      <td>...</td>\n      <td>1143.47</td>\n      <td>0.505</td>\n      <td>2539669</td>\n      <td>2539699</td>\n      <td>2539699</td>\n      <td>1143.625</td>\n      <td>NaN</td>\n      <td>NaN</td>\n      <td>2539698</td>\n      <td>0.000031</td>\n    </tr>\n  </tbody>\n</table>\n<p>2539699 rows × 50 columns</p>\n</div>"
     },
     "execution_count": 19,
     "metadata": {},
     "output_type": "execute_result"
    }
   ],
   "source": [
    "lobs['volatility'] = lobs.progress_apply(lambda x : lobs['future: return'].iloc[x['supporting: 1_sec_before'] : x['i'] + 1].std(), axis=1)\n",
    "lobs"
   ],
   "metadata": {
    "collapsed": false
   }
  },
  {
   "cell_type": "code",
   "execution_count": 20,
   "outputs": [],
   "source": [
    "lobs['future: volatility'] = lobs['supporting: 1_sec_after'].map(dict(zip(lobs.index, lobs['volatility'])))"
   ],
   "metadata": {
    "collapsed": false
   }
  },
  {
   "cell_type": "code",
   "execution_count": 32,
   "outputs": [],
   "source": [
    "lobs['order_intensity'] = trades['order_intensity'][trades['receive_ts'].searchsorted(lobs['receive_ts']).clip(0, trades.shape[0] - 1)].reset_index(drop=True)\n",
    "\n",
    "lobs['future: order_intensity'] = trades['order_intensity'][trades['receive_ts'].searchsorted(lobs['receive_ts'] + datetime.timedelta(seconds=2)).clip(0, trades.shape[0] - 1)].reset_index(drop=True)"
   ],
   "metadata": {
    "collapsed": false
   }
  },
  {
   "cell_type": "code",
   "execution_count": 33,
   "outputs": [
    {
     "data": {
      "text/plain": "2000000    36.462\n2000001    36.462\n2000002    36.462\n2000003    36.674\n2000004    36.958\n            ...  \n2539694    32.994\n2539695    32.994\n2539696    32.994\n2539697    32.994\n2539698    32.994\nName: order_intensity, Length: 539699, dtype: float64"
     },
     "execution_count": 33,
     "metadata": {},
     "output_type": "execute_result"
    }
   ],
   "source": [
    "lobs['order_intensity'][2000000:]"
   ],
   "metadata": {
    "collapsed": false
   }
  },
  {
   "cell_type": "code",
   "execution_count": 34,
   "outputs": [],
   "source": [
    "lobs = lobs.iloc[1000:-1000]"
   ],
   "metadata": {
    "collapsed": false
   }
  },
  {
   "cell_type": "code",
   "execution_count": 35,
   "outputs": [],
   "source": [
    "targets = {\n",
    "    'return': lobs['future: return'].copy(deep=True),\n",
    "    'volatility': lobs['future: volatility'].copy(deep=True),\n",
    "    'order_intensity': lobs['future: order_intensity'].copy(deep=True)\n",
    "}"
   ],
   "metadata": {
    "collapsed": false
   }
  },
  {
   "cell_type": "code",
   "execution_count": 36,
   "outputs": [],
   "source": [
    "lobs = lobs[features]"
   ],
   "metadata": {
    "collapsed": false
   }
  },
  {
   "cell_type": "markdown",
   "source": [
    "## Predict"
   ],
   "metadata": {
    "collapsed": false
   }
  },
  {
   "cell_type": "code",
   "execution_count": 43,
   "outputs": [],
   "source": [
    "from lightgbm import LGBMRegressor\n",
    "import joblib"
   ],
   "metadata": {
    "collapsed": false
   }
  },
  {
   "cell_type": "code",
   "execution_count": 38,
   "outputs": [
    {
     "data": {
      "text/plain": "                           receive_ts          exchange_ts  \\\n1000    2022-06-23 00:00:35.821945636  1655942435820000000   \n1001    2022-06-23 00:00:35.854527140  1655942435853000000   \n1002    2022-06-23 00:00:35.886630080  1655942435885000000   \n1003    2022-06-23 00:00:35.919177172  1655942435917000000   \n1004    2022-06-23 00:00:35.952282357  1655942435950000000   \n...                               ...                  ...   \n2538694 2022-06-23 23:59:07.764691524  1656028747764000000   \n2538695 2022-06-23 23:59:07.798780050  1656028747798000000   \n2538696 2022-06-23 23:59:07.832533055  1656028747832000000   \n2538697 2022-06-23 23:59:07.865833387  1656028747865000000   \n2538698 2022-06-23 23:59:07.898135772  1656028747897000000   \n\n         ethusdt-Binance-LinearPerpetual_ask_price_0  \\\n1000                                         1050.12   \n1001                                         1050.12   \n1002                                         1050.00   \n1003                                         1049.98   \n1004                                         1049.98   \n...                                              ...   \n2538694                                      1143.17   \n2538695                                      1143.17   \n2538696                                      1143.16   \n2538697                                      1143.12   \n2538698                                      1143.11   \n\n         ethusdt-Binance-LinearPerpetual_ask_vol_0  \\\n1000                                         9.603   \n1001                                        10.190   \n1002                                         0.037   \n1003                                         1.300   \n1004                                         1.295   \n...                                            ...   \n2538694                                    124.950   \n2538695                                    124.950   \n2538696                                      0.848   \n2538697                                      0.600   \n2538698                                     35.217   \n\n         ethusdt-Binance-LinearPerpetual_bid_price_0  \\\n1000                                         1050.11   \n1001                                         1050.09   \n1002                                         1049.97   \n1003                                         1049.97   \n1004                                         1049.97   \n...                                              ...   \n2538694                                      1143.16   \n2538695                                      1143.16   \n2538696                                      1143.15   \n2538697                                      1143.11   \n2538698                                      1143.10   \n\n         ethusdt-Binance-LinearPerpetual_bid_vol_0  \\\n1000                                         0.771   \n1001                                         0.019   \n1002                                         0.234   \n1003                                         0.209   \n1004                                         0.194   \n...                                            ...   \n2538694                                      1.332   \n2538695                                      1.337   \n2538696                                      2.136   \n2538697                                      0.013   \n2538698                                      0.443   \n\n         ethusdt-Binance-LinearPerpetual_ask_price_1  \\\n1000                                         1050.13   \n1001                                         1050.13   \n1002                                         1050.10   \n1003                                         1050.00   \n1004                                         1050.00   \n...                                              ...   \n2538694                                      1143.18   \n2538695                                      1143.18   \n2538696                                      1143.17   \n2538697                                      1143.16   \n2538698                                      1143.12   \n\n         ethusdt-Binance-LinearPerpetual_ask_vol_1  \\\n1000                                        15.593   \n1001                                        15.412   \n1002                                         8.625   \n1003                                         0.037   \n1004                                         0.037   \n...                                            ...   \n2538694                                     41.895   \n2538695                                     40.848   \n2538696                                    140.813   \n2538697                                    149.650   \n2538698                                    194.169   \n\n         ethusdt-Binance-LinearPerpetual_bid_price_1  \\\n1000                                         1050.10   \n1001                                         1050.07   \n1002                                         1049.96   \n1003                                         1049.96   \n1004                                         1049.96   \n...                                              ...   \n2538694                                      1143.15   \n2538695                                      1143.15   \n2538696                                      1143.11   \n2538697                                      1143.10   \n2538698                                      1143.08   \n\n         ethusdt-Binance-LinearPerpetual_bid_vol_1  ...  \\\n1000                                         0.600  ...   \n1001                                         4.483  ...   \n1002                                         0.133  ...   \n1003                                         0.133  ...   \n1004                                         0.133  ...   \n...                                            ...  ...   \n2538694                                      2.136  ...   \n2538695                                      2.136  ...   \n2538696                                      0.013  ...   \n2538697                                      0.456  ...   \n2538698                                      0.006  ...   \n\n         ethusdt-Binance-LinearPerpetual_bid_price_7  \\\n1000                                         1050.04   \n1001                                         1050.00   \n1002                                         1049.81   \n1003                                         1049.81   \n1004                                         1049.82   \n...                                              ...   \n2538694                                      1143.02   \n2538695                                      1143.01   \n2538696                                      1143.00   \n2538697                                      1142.99   \n2538698                                      1142.90   \n\n         ethusdt-Binance-LinearPerpetual_bid_vol_7  \\\n1000                                         2.327   \n1001                                         0.006   \n1002                                         1.800   \n1003                                         1.800   \n1004                                         0.600   \n...                                            ...   \n2538694                                      0.006   \n2538695                                      3.194   \n2538696                                      7.491   \n2538697                                      0.492   \n2538698                                      1.313   \n\n         ethusdt-Binance-LinearPerpetual_ask_price_8  \\\n1000                                         1050.20   \n1001                                         1050.20   \n1002                                         1050.18   \n1003                                         1050.15   \n1004                                         1050.12   \n...                                              ...   \n2538694                                      1143.28   \n2538695                                      1143.27   \n2538696                                      1143.25   \n2538697                                      1143.26   \n2538698                                      1143.19   \n\n         ethusdt-Binance-LinearPerpetual_ask_vol_8  \\\n1000                                         2.120   \n1001                                         2.120   \n1002                                         1.910   \n1003                                         1.910   \n1004                                       114.120   \n...                                            ...   \n2538694                                      8.094   \n2538695                                      8.467   \n2538696                                      1.047   \n2538697                                      8.414   \n2538698                                     10.000   \n\n         ethusdt-Binance-LinearPerpetual_bid_price_8  \\\n1000                                         1050.03   \n1001                                         1049.99   \n1002                                         1049.80   \n1003                                         1049.80   \n1004                                         1049.81   \n...                                              ...   \n2538694                                      1143.01   \n2538695                                      1143.00   \n2538696                                      1142.99   \n2538697                                      1142.98   \n2538698                                      1142.89   \n\n         ethusdt-Binance-LinearPerpetual_bid_vol_8  \\\n1000                                         4.095   \n1001                                         0.072   \n1002                                         2.020   \n1003                                         2.020   \n1004                                         1.800   \n...                                            ...   \n2538694                                      3.194   \n2538695                                      7.491   \n2538696                                      0.492   \n2538697                                      4.350   \n2538698                                      0.218   \n\n         ethusdt-Binance-LinearPerpetual_ask_price_9  \\\n1000                                         1050.21   \n1001                                         1050.21   \n1002                                         1050.19   \n1003                                         1050.16   \n1004                                         1050.13   \n...                                              ...   \n2538694                                      1143.29   \n2538695                                      1143.28   \n2538696                                      1143.26   \n2538697                                      1143.27   \n2538698                                      1143.20   \n\n         ethusdt-Binance-LinearPerpetual_ask_vol_9  \\\n1000                                         7.110   \n1001                                         7.110   \n1002                                        11.910   \n1003                                        38.225   \n1004                                       113.917   \n...                                            ...   \n2538694                                      9.190   \n2538695                                      8.094   \n2538696                                      4.814   \n2538697                                      4.618   \n2538698                                      0.011   \n\n         ethusdt-Binance-LinearPerpetual_bid_price_9  \\\n1000                                         1050.02   \n1001                                         1049.98   \n1002                                         1049.79   \n1003                                         1049.79   \n1004                                         1049.80   \n...                                              ...   \n2538694                                      1143.00   \n2538695                                      1142.99   \n2538696                                      1142.98   \n2538697                                      1142.92   \n2538698                                      1142.88   \n\n         ethusdt-Binance-LinearPerpetual_bid_vol_9  \n1000                                        11.000  \n1001                                        11.600  \n1002                                         1.800  \n1003                                         1.800  \n1004                                         2.020  \n...                                            ...  \n2538694                                      7.491  \n2538695                                      0.492  \n2538696                                      4.350  \n2538697                                      1.740  \n2538698                                      3.452  \n\n[2537699 rows x 42 columns]",
      "text/html": "<div>\n<style scoped>\n    .dataframe tbody tr th:only-of-type {\n        vertical-align: middle;\n    }\n\n    .dataframe tbody tr th {\n        vertical-align: top;\n    }\n\n    .dataframe thead th {\n        text-align: right;\n    }\n</style>\n<table border=\"1\" class=\"dataframe\">\n  <thead>\n    <tr style=\"text-align: right;\">\n      <th></th>\n      <th>receive_ts</th>\n      <th>exchange_ts</th>\n      <th>ethusdt-Binance-LinearPerpetual_ask_price_0</th>\n      <th>ethusdt-Binance-LinearPerpetual_ask_vol_0</th>\n      <th>ethusdt-Binance-LinearPerpetual_bid_price_0</th>\n      <th>ethusdt-Binance-LinearPerpetual_bid_vol_0</th>\n      <th>ethusdt-Binance-LinearPerpetual_ask_price_1</th>\n      <th>ethusdt-Binance-LinearPerpetual_ask_vol_1</th>\n      <th>ethusdt-Binance-LinearPerpetual_bid_price_1</th>\n      <th>ethusdt-Binance-LinearPerpetual_bid_vol_1</th>\n      <th>...</th>\n      <th>ethusdt-Binance-LinearPerpetual_bid_price_7</th>\n      <th>ethusdt-Binance-LinearPerpetual_bid_vol_7</th>\n      <th>ethusdt-Binance-LinearPerpetual_ask_price_8</th>\n      <th>ethusdt-Binance-LinearPerpetual_ask_vol_8</th>\n      <th>ethusdt-Binance-LinearPerpetual_bid_price_8</th>\n      <th>ethusdt-Binance-LinearPerpetual_bid_vol_8</th>\n      <th>ethusdt-Binance-LinearPerpetual_ask_price_9</th>\n      <th>ethusdt-Binance-LinearPerpetual_ask_vol_9</th>\n      <th>ethusdt-Binance-LinearPerpetual_bid_price_9</th>\n      <th>ethusdt-Binance-LinearPerpetual_bid_vol_9</th>\n    </tr>\n  </thead>\n  <tbody>\n    <tr>\n      <th>1000</th>\n      <td>2022-06-23 00:00:35.821945636</td>\n      <td>1655942435820000000</td>\n      <td>1050.12</td>\n      <td>9.603</td>\n      <td>1050.11</td>\n      <td>0.771</td>\n      <td>1050.13</td>\n      <td>15.593</td>\n      <td>1050.10</td>\n      <td>0.600</td>\n      <td>...</td>\n      <td>1050.04</td>\n      <td>2.327</td>\n      <td>1050.20</td>\n      <td>2.120</td>\n      <td>1050.03</td>\n      <td>4.095</td>\n      <td>1050.21</td>\n      <td>7.110</td>\n      <td>1050.02</td>\n      <td>11.000</td>\n    </tr>\n    <tr>\n      <th>1001</th>\n      <td>2022-06-23 00:00:35.854527140</td>\n      <td>1655942435853000000</td>\n      <td>1050.12</td>\n      <td>10.190</td>\n      <td>1050.09</td>\n      <td>0.019</td>\n      <td>1050.13</td>\n      <td>15.412</td>\n      <td>1050.07</td>\n      <td>4.483</td>\n      <td>...</td>\n      <td>1050.00</td>\n      <td>0.006</td>\n      <td>1050.20</td>\n      <td>2.120</td>\n      <td>1049.99</td>\n      <td>0.072</td>\n      <td>1050.21</td>\n      <td>7.110</td>\n      <td>1049.98</td>\n      <td>11.600</td>\n    </tr>\n    <tr>\n      <th>1002</th>\n      <td>2022-06-23 00:00:35.886630080</td>\n      <td>1655942435885000000</td>\n      <td>1050.00</td>\n      <td>0.037</td>\n      <td>1049.97</td>\n      <td>0.234</td>\n      <td>1050.10</td>\n      <td>8.625</td>\n      <td>1049.96</td>\n      <td>0.133</td>\n      <td>...</td>\n      <td>1049.81</td>\n      <td>1.800</td>\n      <td>1050.18</td>\n      <td>1.910</td>\n      <td>1049.80</td>\n      <td>2.020</td>\n      <td>1050.19</td>\n      <td>11.910</td>\n      <td>1049.79</td>\n      <td>1.800</td>\n    </tr>\n    <tr>\n      <th>1003</th>\n      <td>2022-06-23 00:00:35.919177172</td>\n      <td>1655942435917000000</td>\n      <td>1049.98</td>\n      <td>1.300</td>\n      <td>1049.97</td>\n      <td>0.209</td>\n      <td>1050.00</td>\n      <td>0.037</td>\n      <td>1049.96</td>\n      <td>0.133</td>\n      <td>...</td>\n      <td>1049.81</td>\n      <td>1.800</td>\n      <td>1050.15</td>\n      <td>1.910</td>\n      <td>1049.80</td>\n      <td>2.020</td>\n      <td>1050.16</td>\n      <td>38.225</td>\n      <td>1049.79</td>\n      <td>1.800</td>\n    </tr>\n    <tr>\n      <th>1004</th>\n      <td>2022-06-23 00:00:35.952282357</td>\n      <td>1655942435950000000</td>\n      <td>1049.98</td>\n      <td>1.295</td>\n      <td>1049.97</td>\n      <td>0.194</td>\n      <td>1050.00</td>\n      <td>0.037</td>\n      <td>1049.96</td>\n      <td>0.133</td>\n      <td>...</td>\n      <td>1049.82</td>\n      <td>0.600</td>\n      <td>1050.12</td>\n      <td>114.120</td>\n      <td>1049.81</td>\n      <td>1.800</td>\n      <td>1050.13</td>\n      <td>113.917</td>\n      <td>1049.80</td>\n      <td>2.020</td>\n    </tr>\n    <tr>\n      <th>...</th>\n      <td>...</td>\n      <td>...</td>\n      <td>...</td>\n      <td>...</td>\n      <td>...</td>\n      <td>...</td>\n      <td>...</td>\n      <td>...</td>\n      <td>...</td>\n      <td>...</td>\n      <td>...</td>\n      <td>...</td>\n      <td>...</td>\n      <td>...</td>\n      <td>...</td>\n      <td>...</td>\n      <td>...</td>\n      <td>...</td>\n      <td>...</td>\n      <td>...</td>\n      <td>...</td>\n    </tr>\n    <tr>\n      <th>2538694</th>\n      <td>2022-06-23 23:59:07.764691524</td>\n      <td>1656028747764000000</td>\n      <td>1143.17</td>\n      <td>124.950</td>\n      <td>1143.16</td>\n      <td>1.332</td>\n      <td>1143.18</td>\n      <td>41.895</td>\n      <td>1143.15</td>\n      <td>2.136</td>\n      <td>...</td>\n      <td>1143.02</td>\n      <td>0.006</td>\n      <td>1143.28</td>\n      <td>8.094</td>\n      <td>1143.01</td>\n      <td>3.194</td>\n      <td>1143.29</td>\n      <td>9.190</td>\n      <td>1143.00</td>\n      <td>7.491</td>\n    </tr>\n    <tr>\n      <th>2538695</th>\n      <td>2022-06-23 23:59:07.798780050</td>\n      <td>1656028747798000000</td>\n      <td>1143.17</td>\n      <td>124.950</td>\n      <td>1143.16</td>\n      <td>1.337</td>\n      <td>1143.18</td>\n      <td>40.848</td>\n      <td>1143.15</td>\n      <td>2.136</td>\n      <td>...</td>\n      <td>1143.01</td>\n      <td>3.194</td>\n      <td>1143.27</td>\n      <td>8.467</td>\n      <td>1143.00</td>\n      <td>7.491</td>\n      <td>1143.28</td>\n      <td>8.094</td>\n      <td>1142.99</td>\n      <td>0.492</td>\n    </tr>\n    <tr>\n      <th>2538696</th>\n      <td>2022-06-23 23:59:07.832533055</td>\n      <td>1656028747832000000</td>\n      <td>1143.16</td>\n      <td>0.848</td>\n      <td>1143.15</td>\n      <td>2.136</td>\n      <td>1143.17</td>\n      <td>140.813</td>\n      <td>1143.11</td>\n      <td>0.013</td>\n      <td>...</td>\n      <td>1143.00</td>\n      <td>7.491</td>\n      <td>1143.25</td>\n      <td>1.047</td>\n      <td>1142.99</td>\n      <td>0.492</td>\n      <td>1143.26</td>\n      <td>4.814</td>\n      <td>1142.98</td>\n      <td>4.350</td>\n    </tr>\n    <tr>\n      <th>2538697</th>\n      <td>2022-06-23 23:59:07.865833387</td>\n      <td>1656028747865000000</td>\n      <td>1143.12</td>\n      <td>0.600</td>\n      <td>1143.11</td>\n      <td>0.013</td>\n      <td>1143.16</td>\n      <td>149.650</td>\n      <td>1143.10</td>\n      <td>0.456</td>\n      <td>...</td>\n      <td>1142.99</td>\n      <td>0.492</td>\n      <td>1143.26</td>\n      <td>8.414</td>\n      <td>1142.98</td>\n      <td>4.350</td>\n      <td>1143.27</td>\n      <td>4.618</td>\n      <td>1142.92</td>\n      <td>1.740</td>\n    </tr>\n    <tr>\n      <th>2538698</th>\n      <td>2022-06-23 23:59:07.898135772</td>\n      <td>1656028747897000000</td>\n      <td>1143.11</td>\n      <td>35.217</td>\n      <td>1143.10</td>\n      <td>0.443</td>\n      <td>1143.12</td>\n      <td>194.169</td>\n      <td>1143.08</td>\n      <td>0.006</td>\n      <td>...</td>\n      <td>1142.90</td>\n      <td>1.313</td>\n      <td>1143.19</td>\n      <td>10.000</td>\n      <td>1142.89</td>\n      <td>0.218</td>\n      <td>1143.20</td>\n      <td>0.011</td>\n      <td>1142.88</td>\n      <td>3.452</td>\n    </tr>\n  </tbody>\n</table>\n<p>2537699 rows × 42 columns</p>\n</div>"
     },
     "execution_count": 38,
     "metadata": {},
     "output_type": "execute_result"
    }
   ],
   "source": [
    "import re\n",
    "lobs = lobs.rename(columns = lambda x:re.sub('[^A-Za-z0-9_]+', '-', x))\n",
    "lobs"
   ],
   "metadata": {
    "collapsed": false
   }
  },
  {
   "cell_type": "code",
   "execution_count": 44,
   "outputs": [
    {
     "name": "stdout",
     "output_type": "stream",
     "text": [
      "[1]\tvalid_0's l2: 8.23368e-09\n",
      "[2]\tvalid_0's l2: 8.14821e-09\n",
      "[3]\tvalid_0's l2: 8.07784e-09\n",
      "[4]\tvalid_0's l2: 8.01851e-09\n",
      "[5]\tvalid_0's l2: 7.96993e-09\n",
      "[6]\tvalid_0's l2: 7.93e-09\n",
      "[7]\tvalid_0's l2: 7.8984e-09\n",
      "[8]\tvalid_0's l2: 7.87093e-09\n",
      "[9]\tvalid_0's l2: 7.8461e-09\n",
      "[10]\tvalid_0's l2: 7.82585e-09\n",
      "[11]\tvalid_0's l2: 7.80858e-09\n",
      "[12]\tvalid_0's l2: 7.79362e-09\n",
      "[13]\tvalid_0's l2: 7.77982e-09\n",
      "[14]\tvalid_0's l2: 7.76736e-09\n",
      "[15]\tvalid_0's l2: 7.75727e-09\n",
      "[16]\tvalid_0's l2: 7.74697e-09\n",
      "[17]\tvalid_0's l2: 7.73893e-09\n",
      "[18]\tvalid_0's l2: 7.73076e-09\n",
      "[19]\tvalid_0's l2: 7.72388e-09\n",
      "[20]\tvalid_0's l2: 7.71716e-09\n",
      "[21]\tvalid_0's l2: 7.71123e-09\n",
      "[22]\tvalid_0's l2: 7.7057e-09\n",
      "[23]\tvalid_0's l2: 7.70175e-09\n",
      "[24]\tvalid_0's l2: 7.69687e-09\n",
      "[25]\tvalid_0's l2: 7.69283e-09\n",
      "[26]\tvalid_0's l2: 7.68923e-09\n",
      "[27]\tvalid_0's l2: 7.68592e-09\n",
      "[28]\tvalid_0's l2: 7.68266e-09\n",
      "[29]\tvalid_0's l2: 7.67953e-09\n",
      "[30]\tvalid_0's l2: 7.67687e-09\n",
      "[31]\tvalid_0's l2: 7.67419e-09\n",
      "[32]\tvalid_0's l2: 7.67199e-09\n",
      "[33]\tvalid_0's l2: 7.67034e-09\n",
      "[34]\tvalid_0's l2: 7.66862e-09\n",
      "[35]\tvalid_0's l2: 7.66684e-09\n",
      "[36]\tvalid_0's l2: 7.66585e-09\n",
      "[37]\tvalid_0's l2: 7.66497e-09\n",
      "[38]\tvalid_0's l2: 7.66329e-09\n",
      "[39]\tvalid_0's l2: 7.6623e-09\n",
      "[40]\tvalid_0's l2: 7.66121e-09\n",
      "[41]\tvalid_0's l2: 7.66054e-09\n",
      "[42]\tvalid_0's l2: 7.6599e-09\n",
      "[43]\tvalid_0's l2: 7.65923e-09\n",
      "[44]\tvalid_0's l2: 7.65859e-09\n",
      "[45]\tvalid_0's l2: 7.65795e-09\n",
      "[46]\tvalid_0's l2: 7.65773e-09\n",
      "[47]\tvalid_0's l2: 7.65711e-09\n",
      "[48]\tvalid_0's l2: 7.65688e-09\n",
      "[49]\tvalid_0's l2: 7.65658e-09\n",
      "[50]\tvalid_0's l2: 7.65612e-09\n",
      "[51]\tvalid_0's l2: 7.65573e-09\n",
      "[52]\tvalid_0's l2: 7.65521e-09\n",
      "[53]\tvalid_0's l2: 7.65521e-09\n",
      "[54]\tvalid_0's l2: 7.65491e-09\n",
      "[55]\tvalid_0's l2: 7.65462e-09\n",
      "[56]\tvalid_0's l2: 7.6543e-09\n",
      "[57]\tvalid_0's l2: 7.65414e-09\n",
      "[58]\tvalid_0's l2: 7.65378e-09\n",
      "[59]\tvalid_0's l2: 7.65378e-09\n",
      "[60]\tvalid_0's l2: 7.65342e-09\n",
      "[61]\tvalid_0's l2: 7.65358e-09\n",
      "[62]\tvalid_0's l2: 7.65347e-09\n",
      "[63]\tvalid_0's l2: 7.65335e-09\n",
      "[64]\tvalid_0's l2: 7.65328e-09\n",
      "[65]\tvalid_0's l2: 7.65325e-09\n",
      "[66]\tvalid_0's l2: 7.65321e-09\n",
      "[67]\tvalid_0's l2: 7.65456e-09\n",
      "[68]\tvalid_0's l2: 7.65419e-09\n",
      "[69]\tvalid_0's l2: 7.65426e-09\n",
      "[70]\tvalid_0's l2: 7.65457e-09\n",
      "[71]\tvalid_0's l2: 7.68992e-09\n",
      "[72]\tvalid_0's l2: 7.68948e-09\n",
      "[73]\tvalid_0's l2: 7.68936e-09\n",
      "[74]\tvalid_0's l2: 7.68932e-09\n",
      "[75]\tvalid_0's l2: 7.68962e-09\n",
      "[76]\tvalid_0's l2: 7.68958e-09\n"
     ]
    },
    {
     "data": {
      "text/plain": "array([[1.        , 0.15603302],\n       [0.15603302, 1.        ]])"
     },
     "execution_count": 44,
     "metadata": {},
     "output_type": "execute_result"
    }
   ],
   "source": [
    "params = {'objective': 'regression', 'learning_rate': 0.1, 'num_leaves': 8, 'early_stopping_round': 10,\n",
    "          'verbose': -1, 'linear_tree': True}\n",
    "\n",
    "model = LGBMRegressor(**params)\n",
    "X_train = lobs[:1800000].drop(columns=['receive_ts', 'exchange_ts'])\n",
    "y_train = targets['return'][:1800000]\n",
    "\n",
    "X_es = lobs[1800000:2100000].drop(columns=['receive_ts', 'exchange_ts'])\n",
    "y_es = targets['return'][1800000:2100000]\n",
    "\n",
    "X_val = lobs[2100000:].drop(columns=['receive_ts', 'exchange_ts'])\n",
    "y_val = targets['return'][2100000:]\n",
    "\n",
    "model.fit(X_train, y_train, eval_set=[(X_es, y_es)])\n",
    "\n",
    "joblib.dump(model, 'return_predictor.pkl')\n",
    "\n",
    "preds = model.predict(X_val)\n",
    "\n",
    "np.corrcoef(y_val, preds)"
   ],
   "metadata": {
    "collapsed": false
   }
  },
  {
   "cell_type": "code",
   "execution_count": 45,
   "outputs": [
    {
     "name": "stdout",
     "output_type": "stream",
     "text": [
      "[1]\tvalid_0's l2: 3.38414e-09\n",
      "[2]\tvalid_0's l2: 3.36933e-09\n",
      "[3]\tvalid_0's l2: 3.34597e-09\n",
      "[4]\tvalid_0's l2: 3.3348e-09\n",
      "[5]\tvalid_0's l2: 3.32837e-09\n",
      "[6]\tvalid_0's l2: 3.31379e-09\n",
      "[7]\tvalid_0's l2: 3.30988e-09\n",
      "[8]\tvalid_0's l2: 3.3067e-09\n",
      "[9]\tvalid_0's l2: 3.29442e-09\n",
      "[10]\tvalid_0's l2: 3.29257e-09\n",
      "[11]\tvalid_0's l2: 3.28603e-09\n",
      "[12]\tvalid_0's l2: 3.28403e-09\n",
      "[13]\tvalid_0's l2: 3.28354e-09\n",
      "[14]\tvalid_0's l2: 3.27934e-09\n",
      "[15]\tvalid_0's l2: 3.27534e-09\n",
      "[16]\tvalid_0's l2: 3.27211e-09\n",
      "[17]\tvalid_0's l2: 3.27036e-09\n",
      "[18]\tvalid_0's l2: 3.26928e-09\n",
      "[19]\tvalid_0's l2: 3.26545e-09\n",
      "[20]\tvalid_0's l2: 3.26198e-09\n",
      "[21]\tvalid_0's l2: 3.26054e-09\n",
      "[22]\tvalid_0's l2: 3.26079e-09\n",
      "[23]\tvalid_0's l2: 3.25951e-09\n",
      "[24]\tvalid_0's l2: 3.26081e-09\n",
      "[25]\tvalid_0's l2: 3.26184e-09\n",
      "[26]\tvalid_0's l2: 3.2616e-09\n",
      "[27]\tvalid_0's l2: 3.25631e-09\n",
      "[28]\tvalid_0's l2: 3.25557e-09\n",
      "[29]\tvalid_0's l2: 3.25534e-09\n",
      "[30]\tvalid_0's l2: 3.25471e-09\n",
      "[31]\tvalid_0's l2: 3.25494e-09\n",
      "[32]\tvalid_0's l2: 3.25473e-09\n",
      "[33]\tvalid_0's l2: 3.25376e-09\n",
      "[34]\tvalid_0's l2: 3.25308e-09\n",
      "[35]\tvalid_0's l2: 3.25295e-09\n",
      "[36]\tvalid_0's l2: 3.25324e-09\n",
      "[37]\tvalid_0's l2: 3.25277e-09\n",
      "[38]\tvalid_0's l2: 3.25316e-09\n",
      "[39]\tvalid_0's l2: 3.25351e-09\n",
      "[40]\tvalid_0's l2: 3.25322e-09\n",
      "[41]\tvalid_0's l2: 3.25366e-09\n",
      "[42]\tvalid_0's l2: 3.25194e-09\n",
      "[43]\tvalid_0's l2: 3.25283e-09\n",
      "[44]\tvalid_0's l2: 3.25351e-09\n",
      "[45]\tvalid_0's l2: 3.25788e-09\n",
      "[46]\tvalid_0's l2: 3.25844e-09\n",
      "[47]\tvalid_0's l2: 3.2633e-09\n",
      "[48]\tvalid_0's l2: 3.26368e-09\n",
      "[49]\tvalid_0's l2: 3.26438e-09\n",
      "[50]\tvalid_0's l2: 3.25924e-09\n",
      "[51]\tvalid_0's l2: 3.25997e-09\n",
      "[52]\tvalid_0's l2: 3.26048e-09\n"
     ]
    },
    {
     "data": {
      "text/plain": "array([[1.        , 0.19519253],\n       [0.19519253, 1.        ]])"
     },
     "execution_count": 45,
     "metadata": {},
     "output_type": "execute_result"
    }
   ],
   "source": [
    "params = {'objective': 'regression', 'learning_rate': 0.1, 'num_leaves': 8, 'early_stopping_round': 10,\n",
    "          'verbose': -1, 'linear_tree': True}\n",
    "\n",
    "model = LGBMRegressor(**params)\n",
    "X_train = lobs[:1800000].drop(columns=['receive_ts', 'exchange_ts'])\n",
    "y_train = targets['volatility'][:1800000]\n",
    "\n",
    "X_es = lobs[1800000:2100000].drop(columns=['receive_ts', 'exchange_ts'])\n",
    "y_es = targets['volatility'][1800000:2100000]\n",
    "\n",
    "X_val = lobs[2100000:].drop(columns=['receive_ts', 'exchange_ts'])\n",
    "y_val = targets['volatility'][2100000:]\n",
    "\n",
    "model.fit(X_train, y_train, eval_set=[(X_es, y_es)])\n",
    "\n",
    "joblib.dump(model, 'volatility_predictor.pkl')\n",
    "\n",
    "preds = model.predict(X_val)\n",
    "\n",
    "np.corrcoef(y_val, preds)"
   ],
   "metadata": {
    "collapsed": false
   }
  },
  {
   "cell_type": "code",
   "execution_count": 46,
   "outputs": [
    {
     "data": {
      "text/plain": "array([[1.        , 0.05809047],\n       [0.05809047, 1.        ]])"
     },
     "execution_count": 46,
     "metadata": {},
     "output_type": "execute_result"
    }
   ],
   "source": [
    "params = {'objective': 'regression', 'learning_rate': 0.1, 'num_leaves': 8, 'early_stopping_round': 10,\n",
    "          'verbose': -1, 'linear_tree': True}\n",
    "\n",
    "model = LGBMRegressor()\n",
    "X_train = lobs[:1800000].drop(columns=['receive_ts', 'exchange_ts'])\n",
    "y_train = targets['order_intensity'][:1800000]\n",
    "\n",
    "X_es = lobs[1800000:2100000].drop(columns=['receive_ts', 'exchange_ts'])\n",
    "y_es = targets['order_intensity'][1800000:2100000]\n",
    "\n",
    "X_val = lobs[2100000:].drop(columns=['receive_ts', 'exchange_ts'])\n",
    "y_val = targets['order_intensity'][2100000:]\n",
    "\n",
    "model.fit(X_train, y_train)\n",
    "\n",
    "joblib.dump(model, 'order_intensity_predictor.pkl')\n",
    "\n",
    "preds = model.predict(X_val)\n",
    "\n",
    "np.corrcoef(y_val, preds)"
   ],
   "metadata": {
    "collapsed": false
   }
  },
  {
   "cell_type": "markdown",
   "source": [
    "Запустить предсказательные модели на последнем ордербуке и юзать их как вместо текущих значений"
   ],
   "metadata": {
    "collapsed": false
   }
  },
  {
   "cell_type": "code",
   "execution_count": null,
   "outputs": [],
   "source": [
    "y_val"
   ],
   "metadata": {
    "collapsed": false
   }
  },
  {
   "cell_type": "markdown",
   "source": [
    "Первые 12 часов как трейн\n",
    "Вторые как valid\n",
    "Предсказываю midprice - order_intensity - volatility"
   ],
   "metadata": {
    "collapsed": false
   }
  },
  {
   "cell_type": "code",
   "execution_count": null,
   "outputs": [],
   "source": [
    "reload(simulator)\n",
    "reload(Stoikov)\n",
    "reload(get_info)\n",
    "reload(load_data)"
   ],
   "metadata": {
    "collapsed": false
   }
  },
  {
   "cell_type": "code",
   "execution_count": null,
   "outputs": [],
   "source": [
    "md = load_data.load_md_from_file(path=path_to_file, run_time=run_time)"
   ],
   "metadata": {
    "collapsed": false
   }
  },
  {
   "cell_type": "code",
   "execution_count": null,
   "outputs": [],
   "source": [
    "latency = pd.Timedelta(10, 'ms').delta\n",
    "md_latency = pd.Timedelta(10, 'ms').delta\n",
    "\n",
    "sim = simulator.SimOptim(md, latency, md_latency)"
   ],
   "metadata": {
    "collapsed": false
   }
  },
  {
   "cell_type": "code",
   "execution_count": null,
   "outputs": [],
   "source": [
    "#delay between orders\n",
    "delay = pd.Timedelta(0.01, 's').delta\n",
    "\n",
    "strategy = Stoikov.Strategy(\n",
    "    delay=delay,\n",
    "    risk_koef=1,\n",
    "    time_oi=60*10**9,\n",
    "    avg_sum_oi=800,\n",
    "    avg_time_oi=57471412238,\n",
    "    order_fees=0.00001,\n",
    "    avg_volatility=1e-5,\n",
    "    min_asset_value=0.001,\n",
    "    volatility_record_cooldown=0.1*10**9, #ns\n",
    "    volatility_horizon=1000,\n",
    "    order_intensity_min_samples=100\n",
    ")\n",
    "# вся эта история с avg нужна для того, чтобы order_intensity и volatility были равны 1 в среднем."
   ],
   "metadata": {
    "collapsed": false
   }
  },
  {
   "cell_type": "code",
   "execution_count": null,
   "outputs": [],
   "source": [
    "trades_list, md_list, updates_list, all_orders = strategy.run(sim)"
   ],
   "metadata": {
    "collapsed": false
   }
  },
  {
   "cell_type": "code",
   "execution_count": null,
   "outputs": [],
   "source": [
    "logs = strategy.logs"
   ],
   "metadata": {
    "collapsed": false
   }
  },
  {
   "cell_type": "code",
   "execution_count": null,
   "outputs": [],
   "source": [
    "to_save = pd.DataFrame({\n",
    "    'time': logs['place_order_time'],\n",
    "    'midprice': logs['midprice'],\n",
    "    'volatility': logs['volatility'],\n",
    "    'order_intensity': logs['order_intensity']\n",
    "})"
   ],
   "metadata": {
    "collapsed": false
   }
  },
  {
   "cell_type": "code",
   "execution_count": null,
   "outputs": [],
   "source": [
    "to_save.to_csv('12h_mm_data')"
   ],
   "metadata": {
    "collapsed": false
   }
  },
  {
   "cell_type": "code",
   "execution_count": null,
   "outputs": [],
   "source": [
    "plt.plot(pd.to_datetime(logs['place_order_time']), logs['volatility'])"
   ],
   "metadata": {
    "collapsed": false
   }
  },
  {
   "cell_type": "code",
   "execution_count": null,
   "outputs": [],
   "source": [
    "plt.plot(pd.to_datetime(logs['own_trade_time']), logs['asset_position'])"
   ],
   "metadata": {
    "collapsed": false
   }
  },
  {
   "cell_type": "code",
   "execution_count": null,
   "outputs": [],
   "source": [
    "len(logs['pnl_with_liq']) # 57972"
   ],
   "metadata": {
    "collapsed": false
   }
  },
  {
   "cell_type": "code",
   "execution_count": null,
   "outputs": [],
   "source": [
    "print(1/0)"
   ],
   "metadata": {
    "collapsed": false
   }
  },
  {
   "cell_type": "code",
   "execution_count": null,
   "outputs": [],
   "source": [
    "trades_list, md_list, updates_list, all_orders = strategy.run(sim)"
   ],
   "metadata": {
    "collapsed": false
   }
  },
  {
   "cell_type": "code",
   "execution_count": null,
   "outputs": [],
   "source": [
    "logs = strategy.logs"
   ],
   "metadata": {
    "collapsed": false
   }
  },
  {
   "cell_type": "code",
   "execution_count": null,
   "outputs": [],
   "source": [
    "plt.plot(logs['midprice'])"
   ],
   "metadata": {
    "collapsed": false
   }
  },
  {
   "cell_type": "code",
   "execution_count": null,
   "outputs": [],
   "source": [
    "plt.plot(logs['volatility'])"
   ],
   "metadata": {
    "collapsed": false
   }
  },
  {
   "cell_type": "code",
   "execution_count": null,
   "outputs": [],
   "source": [
    "pd.to_datetime(logs['place_order_time'])"
   ],
   "metadata": {
    "collapsed": false
   }
  },
  {
   "cell_type": "code",
   "execution_count": null,
   "outputs": [],
   "source": [],
   "metadata": {
    "collapsed": false
   }
  }
 ],
 "metadata": {
  "kernelspec": {
   "display_name": "Python 3",
   "language": "python",
   "name": "python3"
  },
  "language_info": {
   "codemirror_mode": {
    "name": "ipython",
    "version": 2
   },
   "file_extension": ".py",
   "mimetype": "text/x-python",
   "name": "python",
   "nbconvert_exporter": "python",
   "pygments_lexer": "ipython2",
   "version": "2.7.6"
  }
 },
 "nbformat": 4,
 "nbformat_minor": 0
}
